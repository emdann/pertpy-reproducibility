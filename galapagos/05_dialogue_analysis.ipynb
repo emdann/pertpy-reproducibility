{
 "cells": [
  {
   "cell_type": "code",
   "execution_count": null,
   "outputs": [],
   "source": [
    "import warnings\n",
    "warnings.filterwarnings(\"ignore\")\n",
    "\n",
    "from pathlib import Path\n",
    "import sys\n",
    "\n",
    "sys.path.insert(1, str(Path().cwd().parent))\n",
    "import common_config"
   ],
   "metadata": {
    "collapsed": false
   },
   "id": "73d32c98939c3e34"
  },
  {
   "cell_type": "code",
   "execution_count": null,
   "outputs": [],
   "source": [
    "common_config.figure_journal_basic()"
   ],
   "metadata": {
    "collapsed": false
   },
   "id": "438c3e58017b9f03"
  },
  {
   "cell_type": "code",
   "execution_count": null,
   "outputs": [],
   "source": [
    "sys.path.append('/Users/mamba/Documents') #TODO: replace with direct import\n",
    "import Code.pertpy.pertpy as pt"
   ],
   "metadata": {
    "collapsed": false
   },
   "id": "e272c9554e0d65cf"
  },
  {
   "cell_type": "code",
   "execution_count": null,
   "outputs": [],
   "source": [
    "#import pertpy as pt\n",
    "import scanpy as sc\n",
    "import matplotlib.pyplot as plt\n",
    "import pandas as pd\n",
    "import numpy as np\n",
    "import seaborn as sns"
   ],
   "metadata": {
    "collapsed": false
   },
   "id": "390e74d7af4c0478"
  },
  {
   "cell_type": "code",
   "execution_count": null,
   "outputs": [],
   "source": [],
   "metadata": {
    "collapsed": false
   },
   "id": "745db55260b25935"
  },
  {
   "cell_type": "code",
   "execution_count": null,
   "outputs": [],
   "source": [
    "blm_pbs_associations = pd.read_csv(\"dialogue_output/blm_pbs_associations.csv\", index_col=0)\n",
    "blm_nintedanib_associations = pd.read_csv(\"dialogue_output/blm_nintedanib_associations.csv\", index_col=0)\n",
    "blm_GLPG1690_associations = pd.read_csv(\"dialogue_output/blm_GLPG1690_associations.csv\", index_col=0)\n",
    "blm_GLPG1205_associations = pd.read_csv(\"dialogue_output/blm_GLPG1205_associations.csv\", index_col=0)\n",
    "blm_combo_associations = pd.read_csv(\"dialogue_output/blm_combo_associations.csv\", index_col=0)\n",
    "\n",
    "association_dfs = [blm_pbs_associations, blm_nintedanib_associations, blm_GLPG1690_associations, blm_GLPG1205_associations, blm_combo_associations]"
   ],
   "metadata": {
    "collapsed": false
   },
   "id": "f45df39e4700e5c6"
  },
  {
   "cell_type": "code",
   "execution_count": null,
   "outputs": [],
   "source": [
    "def plot_heatmap(associations_df, vmax=None, create_fig=True, cbar=True, cmap=\"viridis\"):\n",
    "    log_associations_df = associations_df.copy()\n",
    "    for mcp_nr in range(6):\n",
    "        log_associations_df[f\"MCP {mcp_nr + 1}\"] = -1 * np.log10(log_associations_df[f\"mcp_{mcp_nr}\"])\n",
    "    log_associations_df = log_associations_df.drop(columns=[f\"mcp_{mcp_nr}\" for mcp_nr in range(6)])\n",
    "    \n",
    "    if create_fig:\n",
    "        plt.figure(figsize=(2.2, 6))\n",
    "    if cbar:\n",
    "        sns.heatmap(log_associations_df, vmin=0, vmax=vmax, cbar=True, cmap=cmap)\n",
    "    else:\n",
    "        sns.heatmap(log_associations_df, vmin=0, vmax=vmax, cbar=False, cmap=cmap)"
   ],
   "metadata": {
    "collapsed": false
   },
   "id": "initial_id"
  },
  {
   "cell_type": "code",
   "execution_count": null,
   "outputs": [],
   "source": [],
   "metadata": {
    "collapsed": false
   },
   "id": "b86f7cf1b1d2dc63"
  },
  {
   "cell_type": "code",
   "execution_count": null,
   "outputs": [],
   "source": [
    "# Plot all three in one plot with subplots, take the global max as vmax\n",
    "global_max = (-1 * np.log10([df.max() for df in association_dfs])).max()\n",
    "#global_max = (-1 * np.log10(fc_associations_df[f\"mcp_3\"])).max()\n",
    "\n",
    "plt.subplots(1, len(association_dfs), figsize=(6.7, 6), sharey=True)\n",
    "for i, associations_df in enumerate(association_dfs):\n",
    "    plt.subplot(1, len(association_dfs), i + 1)\n",
    "    plot_heatmap(associations_df, vmax=global_max, create_fig=False, cbar=False, cmap=\"Reds\")\n",
    "    plt.title(associations_df.columns[0].split(\"_\")[1])\n",
    "\n",
    "plt.tight_layout()\n",
    "plt.savefig(\"figures/heatmap_mcp_associations.pdf\")\n",
    "plt.show()"
   ],
   "metadata": {
    "collapsed": false
   },
   "id": "8ac3158c9080872c"
  },
  {
   "cell_type": "code",
   "execution_count": null,
   "outputs": [],
   "source": [],
   "metadata": {
    "collapsed": false
   },
   "id": "8e6819b16587a75c"
  },
  {
   "cell_type": "code",
   "execution_count": null,
   "outputs": [],
   "source": [],
   "metadata": {
    "collapsed": false
   },
   "id": "de9f31499db41e7f"
  }
 ],
 "metadata": {
  "kernelspec": {
   "display_name": "Python 3",
   "language": "python",
   "name": "python3"
  },
  "language_info": {
   "codemirror_mode": {
    "name": "ipython",
    "version": 2
   },
   "file_extension": ".py",
   "mimetype": "text/x-python",
   "name": "python",
   "nbconvert_exporter": "python",
   "pygments_lexer": "ipython2",
   "version": "2.7.6"
  }
 },
 "nbformat": 4,
 "nbformat_minor": 5
}
