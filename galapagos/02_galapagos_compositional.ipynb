{
 "cells": [
  {
   "cell_type": "code",
   "execution_count": 1,
   "id": "initial_id",
   "metadata": {
    "collapsed": true,
    "ExecuteTime": {
     "end_time": "2024-04-15T09:09:42.463434Z",
     "start_time": "2024-04-15T09:09:40.793061Z"
    }
   },
   "outputs": [],
   "source": [
    "import warnings\n",
    "warnings.filterwarnings(\"ignore\")\n",
    "\n",
    "from pathlib import Path\n",
    "import sys\n",
    "\n",
    "sys.path.insert(1, str(Path().cwd().parent))\n",
    "import common_config"
   ]
  },
  {
   "cell_type": "code",
   "execution_count": 2,
   "outputs": [],
   "source": [
    "common_config.figure_journal_basic()"
   ],
   "metadata": {
    "collapsed": false,
    "ExecuteTime": {
     "end_time": "2024-04-15T09:09:43.204264Z",
     "start_time": "2024-04-15T09:09:43.189128Z"
    }
   },
   "id": "70ccdaa0bc84425"
  },
  {
   "cell_type": "code",
   "execution_count": 3,
   "outputs": [],
   "source": [
    "sys.path.append('/Users/mamba/Documents') #TODO: replace with direct import\n",
    "import Code.pertpy.pertpy as pt"
   ],
   "metadata": {
    "collapsed": false,
    "ExecuteTime": {
     "end_time": "2024-04-15T09:09:54.296650Z",
     "start_time": "2024-04-15T09:09:43.521484Z"
    }
   },
   "id": "7a4473e284e0574a"
  },
  {
   "cell_type": "code",
   "execution_count": 4,
   "outputs": [],
   "source": [
    "#import pertpy as pt\n",
    "import scanpy as sc\n",
    "import matplotlib.pyplot as plt\n",
    "import pandas as pd\n",
    "import numpy as np\n",
    "import seaborn as sns"
   ],
   "metadata": {
    "collapsed": false,
    "ExecuteTime": {
     "end_time": "2024-04-15T09:09:54.301735Z",
     "start_time": "2024-04-15T09:09:54.297575Z"
    }
   },
   "id": "f0fcbe923367870d"
  },
  {
   "cell_type": "code",
   "execution_count": 5,
   "outputs": [
    {
     "data": {
      "text/plain": "AnnData object with n_obs × n_vars = 431754 × 25194\n    obs: 'identifier', 'time_point', 'n_counts', 'preprocessing_cluster', 'size_factors', 'S_score', 'G2M_score', 'phase', 'treatment_time', 'treatment', 'sample_name', 'condition', 'percent_mito', 'cluster_03', 'doublet_scores', 'n_genes', 'louvain_1', 'louvain_2', 'cell_type', 'cell_type_compact', 'batch_sample', 'batch_library', 'batch_sequencing', 'ashcroft_score'\n    var: 'means', 'dispersions', 'dispersions_norm', 'n_cells', 'n_counts', 'highly_variable', 'highly_variable_nbatches', 'highly_variable_intersection'\n    uns: 'GLPG_annotation_colors', 'cell_type_colors', 'cluster_03_colors', 'condition_colors', 'hvg', 'identifier_colors', 'louvain', 'louvain_1_colors', 'neighbors', 'pca', 'time_point_colors', 'treatment_colors', 'treatment_time_colors', 'umap'\n    obsm: 'X_pca', 'X_umap'\n    varm: 'PCs'\n    obsp: 'connectivities', 'distances'"
     },
     "execution_count": 5,
     "metadata": {},
     "output_type": "execute_result"
    }
   ],
   "source": [
    "adata = sc.read_h5ad(\"210310_GLPG_perturbations.h5ad\")\n",
    "adata"
   ],
   "metadata": {
    "collapsed": false,
    "ExecuteTime": {
     "end_time": "2024-04-15T09:09:58.862209Z",
     "start_time": "2024-04-15T09:09:54.300791Z"
    }
   },
   "id": "4edca5ec21ca0423"
  },
  {
   "cell_type": "code",
   "execution_count": 6,
   "outputs": [
    {
     "data": {
      "text/plain": "treatment\nBLM+Combo         77660\nBLM+GLPG1690      76515\nBLM+Nintedanib    76385\nControl           75636\nBLM+GLPG1205      67985\nBLM+PBS           57573\nName: count, dtype: int64"
     },
     "execution_count": 6,
     "metadata": {},
     "output_type": "execute_result"
    }
   ],
   "source": [
    "adata.obs[\"treatment\"].value_counts()"
   ],
   "metadata": {
    "collapsed": false,
    "ExecuteTime": {
     "end_time": "2024-04-15T09:10:10.125921Z",
     "start_time": "2024-04-15T09:10:10.119399Z"
    }
   },
   "id": "e5a1cd2b13fb99cc"
  },
  {
   "cell_type": "code",
   "execution_count": 7,
   "outputs": [],
   "source": [
    "adata_pbs = adata[adata.obs[\"treatment\"].isin([\"Control\", \"BLM+PBS\"])]\n",
    "adata_nintedanib = adata[adata.obs[\"treatment\"].isin([\"Control\", \"BLM+Nintedanib\"])]\n",
    "adata_glpg1205 = adata[adata.obs[\"treatment\"].isin([\"Control\", \"BLM+GLPG1205\"])]\n",
    "adata_glpg1690 = adata[adata.obs[\"treatment\"].isin([\"Control\", \"BLM+GLPG1690\"])]\n",
    "adata_combo = adata[adata.obs[\"treatment\"].isin([\"Control\", \"BLM+Combo\"])]"
   ],
   "metadata": {
    "collapsed": false,
    "ExecuteTime": {
     "end_time": "2024-04-15T09:14:46.436643Z",
     "start_time": "2024-04-15T09:14:46.147318Z"
    }
   },
   "id": "bf1ee69c5e7880eb"
  },
  {
   "cell_type": "code",
   "execution_count": null,
   "outputs": [],
   "source": [],
   "metadata": {
    "collapsed": false
   },
   "id": "6420f2e16f920979"
  }
 ],
 "metadata": {
  "kernelspec": {
   "display_name": "Python 3",
   "language": "python",
   "name": "python3"
  },
  "language_info": {
   "codemirror_mode": {
    "name": "ipython",
    "version": 2
   },
   "file_extension": ".py",
   "mimetype": "text/x-python",
   "name": "python",
   "nbconvert_exporter": "python",
   "pygments_lexer": "ipython2",
   "version": "2.7.6"
  }
 },
 "nbformat": 4,
 "nbformat_minor": 5
}
