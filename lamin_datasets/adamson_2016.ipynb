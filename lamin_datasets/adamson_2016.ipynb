{
  "cells": [
    {
      "cell_type": "markdown",
      "metadata": {},
      "source": [
        "# Adamson 2016"
      ]
    },
    {
      "cell_type": "markdown",
      "metadata": {},
      "source": [
        "Curating several datasets:\n",
        "\n",
        "1. 2016 pilot\n",
        "2. 2016 UPR epistatis\n",
        "3. 2016 UPR perturb-seq"
      ]
    },
    {
      "cell_type": "markdown",
      "metadata": {},
      "source": [
        "## setup"
      ]
    },
    {
      "cell_type": "code",
      "execution_count": 1,
      "metadata": {},
      "outputs": [
        {
          "name": "stdout",
          "output_type": "stream",
          "text": [
            "❗ You are running 3.11.4\n",
            "Only python versions 3.8~3.10 are currently tested, use at your own risk.\n",
            "✅ wrote new records from public sources.yaml to /home/zeth/.lamin/bionty/versions/sources_local.yaml!\n",
            "\n",
            "if you see this message repeatedly, run: bt.reset_sources()\n",
            "💡 lamindb instance: zethson/pertpy-datasets\n"
          ]
        },
        {
          "name": "stderr",
          "output_type": "stream",
          "text": [
            "2024-02-18 10:46:46,567:INFO - cffi mode is CFFI_MODE.ANY\n",
            "2024-02-18 10:46:46,575:INFO - R home found: /home/zeth/miniconda3/envs/pertpy/lib/R\n",
            "2024-02-18 10:46:46,864:INFO - R library path: \n",
            "2024-02-18 10:46:46,864:INFO - LD_LIBRARY_PATH: \n",
            "2024-02-18 10:46:46,868:INFO - Default options to initialize R: rpy2, --quiet, --no-save\n",
            "2024-02-18 10:46:47,164:INFO - R is already initialized. No need to initialize.\n",
            "2024-02-18 10:46:53,581:INFO - Created a temporary directory at /tmp/tmpafg2wnra\n",
            "2024-02-18 10:46:53,582:INFO - Writing /tmp/tmpafg2wnra/_remote_module_non_scriptable.py\n"
          ]
        }
      ],
      "source": [
        "import lamindb as ln\n",
        "import bionty as bt\n",
        "import pertpy as pt"
      ]
    },
    {
      "cell_type": "code",
      "execution_count": 2,
      "metadata": {},
      "outputs": [
        {
          "name": "stdout",
          "output_type": "stream",
          "text": [
            "💡 notebook imports: bionty==0.40.3 lamindb==0.67.3 pertpy==0.7.0\n",
            "💡 loaded: Transform(uid='SopQ4f7mdZaG5zKv', name='Adamson 2016', short_name='adamson_2016', version='1', type='notebook', updated_at=2024-02-18 09:42:24 UTC, created_by_id=1)\n",
            "💡 loaded: Run(uid='cR75QanNJCpplIRsRhjj', run_at=2024-02-18 09:46:55 UTC, transform_id=2, created_by_id=1)\n"
          ]
        }
      ],
      "source": [
        "ln.track()"
      ]
    },
    {
      "cell_type": "markdown",
      "metadata": {},
      "source": [
        "## Adamson 2016 pilot"
      ]
    },
    {
      "cell_type": "code",
      "execution_count": null,
      "metadata": {},
      "outputs": [],
      "source": []
    },
    {
      "cell_type": "code",
      "execution_count": null,
      "metadata": {},
      "outputs": [],
      "source": []
    }
  ],
  "metadata": {
    "kernelspec": {
      "display_name": "lamindb",
      "language": "python",
      "name": "python3"
    },
    "language_info": {
      "codemirror_mode": {
        "name": "ipython",
        "version": 3
      },
      "file_extension": ".py",
      "mimetype": "text/x-python",
      "name": "python",
      "nbconvert_exporter": "python",
      "pygments_lexer": "ipython3",
      "version": "3.11.4"
    },
    "nbproject": {
      "id": "SopQ4f7mdZaG",
      "parent": null,
      "pypackage": null,
      "time_init": "2024-02-18T09:42:21.028089+00:00",
      "user_handle": null,
      "user_id": null,
      "user_name": null,
      "version": "1"
    }
  },
  "nbformat": 4,
  "nbformat_minor": 2
}
