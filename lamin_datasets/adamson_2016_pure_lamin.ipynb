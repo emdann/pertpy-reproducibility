{
  "cells": [
    {
      "cell_type": "markdown",
      "metadata": {},
      "source": [
        "# Adamson 2016"
      ]
    },
    {
      "cell_type": "markdown",
      "metadata": {},
      "source": [
        "This solely serves as a practice run where we do not adhere to the cellxgene schema yet."
      ]
    },
    {
      "cell_type": "markdown",
      "metadata": {},
      "source": [
        "## Setup"
      ]
    },
    {
      "cell_type": "code",
      "execution_count": 1,
      "metadata": {},
      "outputs": [
        {
          "name": "stdout",
          "output_type": "stream",
          "text": [
            "❗ You are running 3.11.4\n",
            "Only python versions 3.8~3.10 are currently tested, use at your own risk.\n",
            "✅ wrote new records from public sources.yaml to /home/zeth/.lamin/bionty/versions/sources_local.yaml!\n",
            "\n",
            "if you see this message repeatedly, run: bt.reset_sources()\n",
            "💡 lamindb instance: zethson/pertpy-datasets\n"
          ]
        },
        {
          "name": "stderr",
          "output_type": "stream",
          "text": [
            "2024-03-06 12:06:33,822:INFO - cffi mode is CFFI_MODE.ANY\n",
            "2024-03-06 12:06:33,831:INFO - R home found: /home/zeth/miniconda3/envs/pertpy/lib/R\n",
            "2024-03-06 12:06:34,077:INFO - R library path: \n",
            "2024-03-06 12:06:34,077:INFO - LD_LIBRARY_PATH: \n",
            "2024-03-06 12:06:34,080:INFO - Default options to initialize R: rpy2, --quiet, --no-save\n",
            "2024-03-06 12:06:34,322:INFO - R is already initialized. No need to initialize.\n",
            "2024-03-06 12:06:39,853:INFO - Created a temporary directory at /tmp/tmplhd9vq5_\n",
            "2024-03-06 12:06:39,854:INFO - Writing /tmp/tmplhd9vq5_/_remote_module_non_scriptable.py\n"
          ]
        }
      ],
      "source": [
        "import lamindb as ln\n",
        "import bionty as bt\n",
        "import pertpy as pt"
      ]
    },
    {
      "cell_type": "code",
      "execution_count": 2,
      "metadata": {},
      "outputs": [],
      "source": [
        "ln.settings.verbosity = \"hint\""
      ]
    },
    {
      "cell_type": "code",
      "execution_count": 4,
      "metadata": {},
      "outputs": [
        {
          "name": "stdout",
          "output_type": "stream",
          "text": [
            "💡 Assuming editor is Jupyter Lab.\n",
            "💡 notebook imports: bionty==0.41.0 lamindb==0.68.0 pertpy==0.7.0\n",
            "💡 loaded: Transform(uid='SopQ4f7mdZaG5zKv', name='Adamson 2016', short_name='adamson_2016_pure_lamin', version='1', type='notebook', updated_at=2024-02-23 13:44:35 UTC, created_by_id=1)\n",
            "💡 loaded: Run(uid='eQOmVTZMdEukdBz4x3Qk', run_at=2024-03-06 11:07:00 UTC, transform_id=2, created_by_id=1)\n",
            "💡 tracked pip freeze > /home/zeth/.cache/lamindb/run_env_pip_eQOmVTZMdEukdBz4x3Qk.txt\n"
          ]
        }
      ],
      "source": [
        "ln.transform.stem_uid = \"SopQ4f7mdZaG\"\n",
        "ln.transform.version = \"1\"\n",
        "ln.track()"
      ]
    },
    {
      "cell_type": "markdown",
      "metadata": {},
      "source": [
        "## Adamson 2016 pilot"
      ]
    },
    {
      "cell_type": "code",
      "execution_count": 5,
      "metadata": {},
      "outputs": [],
      "source": [
        "adata = pt.dt.adamson_2016_pilot()"
      ]
    },
    {
      "cell_type": "code",
      "execution_count": 6,
      "metadata": {},
      "outputs": [
        {
          "data": {
            "text/plain": [
              "AnnData object with n_obs × n_vars = 5768 × 35635\n",
              "    obs: 'perturbation', 'read count', 'UMI count', 'tissue_type', 'cell_line', 'cancer', 'disease', 'perturbation_type', 'celltype', 'organism', 'ncounts', 'ngenes', 'percent_mito', 'percent_ribo', 'nperts'\n",
              "    var: 'ensembl_id', 'ncounts', 'ncells'"
            ]
          },
          "execution_count": 6,
          "metadata": {},
          "output_type": "execute_result"
        }
      ],
      "source": [
        "adata"
      ]
    },
    {
      "cell_type": "code",
      "execution_count": 7,
      "metadata": {},
      "outputs": [
        {
          "data": {
            "text/html": [
              "<div>\n",
              "<style scoped>\n",
              "    .dataframe tbody tr th:only-of-type {\n",
              "        vertical-align: middle;\n",
              "    }\n",
              "\n",
              "    .dataframe tbody tr th {\n",
              "        vertical-align: top;\n",
              "    }\n",
              "\n",
              "    .dataframe thead th {\n",
              "        text-align: right;\n",
              "    }\n",
              "</style>\n",
              "<table border=\"1\" class=\"dataframe\">\n",
              "  <thead>\n",
              "    <tr style=\"text-align: right;\">\n",
              "      <th></th>\n",
              "      <th>perturbation</th>\n",
              "      <th>read count</th>\n",
              "      <th>UMI count</th>\n",
              "      <th>tissue_type</th>\n",
              "      <th>cell_line</th>\n",
              "      <th>cancer</th>\n",
              "      <th>disease</th>\n",
              "      <th>perturbation_type</th>\n",
              "      <th>celltype</th>\n",
              "      <th>organism</th>\n",
              "      <th>ncounts</th>\n",
              "      <th>ngenes</th>\n",
              "      <th>percent_mito</th>\n",
              "      <th>percent_ribo</th>\n",
              "      <th>nperts</th>\n",
              "    </tr>\n",
              "    <tr>\n",
              "      <th>cell_barcode</th>\n",
              "      <th></th>\n",
              "      <th></th>\n",
              "      <th></th>\n",
              "      <th></th>\n",
              "      <th></th>\n",
              "      <th></th>\n",
              "      <th></th>\n",
              "      <th></th>\n",
              "      <th></th>\n",
              "      <th></th>\n",
              "      <th></th>\n",
              "      <th></th>\n",
              "      <th></th>\n",
              "      <th></th>\n",
              "      <th></th>\n",
              "    </tr>\n",
              "  </thead>\n",
              "  <tbody>\n",
              "    <tr>\n",
              "      <th>AAACATACACCGAT</th>\n",
              "      <td>CREB1_pDS269</td>\n",
              "      <td>1286.0</td>\n",
              "      <td>98.0</td>\n",
              "      <td>cell_line</td>\n",
              "      <td>K562</td>\n",
              "      <td>True</td>\n",
              "      <td>chronic myelogenous leukemia</td>\n",
              "      <td>CRISPR</td>\n",
              "      <td>lymphoblasts</td>\n",
              "      <td>human</td>\n",
              "      <td>8138.0</td>\n",
              "      <td>2412</td>\n",
              "      <td>0.0</td>\n",
              "      <td>34.037846</td>\n",
              "      <td>2</td>\n",
              "    </tr>\n",
              "    <tr>\n",
              "      <th>AAACATACAGAGAT</th>\n",
              "      <td>SNAI1_pDS266</td>\n",
              "      <td>296.0</td>\n",
              "      <td>19.0</td>\n",
              "      <td>cell_line</td>\n",
              "      <td>K562</td>\n",
              "      <td>True</td>\n",
              "      <td>chronic myelogenous leukemia</td>\n",
              "      <td>CRISPR</td>\n",
              "      <td>lymphoblasts</td>\n",
              "      <td>human</td>\n",
              "      <td>8980.0</td>\n",
              "      <td>2386</td>\n",
              "      <td>0.0</td>\n",
              "      <td>40.011135</td>\n",
              "      <td>2</td>\n",
              "    </tr>\n",
              "    <tr>\n",
              "      <th>AAACATACCAGAAA</th>\n",
              "      <td>62(mod)_pBA581</td>\n",
              "      <td>1829.0</td>\n",
              "      <td>162.0</td>\n",
              "      <td>cell_line</td>\n",
              "      <td>K562</td>\n",
              "      <td>True</td>\n",
              "      <td>chronic myelogenous leukemia</td>\n",
              "      <td>CRISPR</td>\n",
              "      <td>lymphoblasts</td>\n",
              "      <td>human</td>\n",
              "      <td>28610.0</td>\n",
              "      <td>4404</td>\n",
              "      <td>0.0</td>\n",
              "      <td>40.003494</td>\n",
              "      <td>2</td>\n",
              "    </tr>\n",
              "    <tr>\n",
              "      <th>AAACATACGTTGAC</th>\n",
              "      <td>EP300_pDS268</td>\n",
              "      <td>1580.0</td>\n",
              "      <td>98.0</td>\n",
              "      <td>cell_line</td>\n",
              "      <td>K562</td>\n",
              "      <td>True</td>\n",
              "      <td>chronic myelogenous leukemia</td>\n",
              "      <td>CRISPR</td>\n",
              "      <td>lymphoblasts</td>\n",
              "      <td>human</td>\n",
              "      <td>11346.0</td>\n",
              "      <td>2815</td>\n",
              "      <td>0.0</td>\n",
              "      <td>35.184204</td>\n",
              "      <td>2</td>\n",
              "    </tr>\n",
              "    <tr>\n",
              "      <th>AAACATACTGTTCT</th>\n",
              "      <td>62(mod)_pBA581</td>\n",
              "      <td>748.0</td>\n",
              "      <td>51.0</td>\n",
              "      <td>cell_line</td>\n",
              "      <td>K562</td>\n",
              "      <td>True</td>\n",
              "      <td>chronic myelogenous leukemia</td>\n",
              "      <td>CRISPR</td>\n",
              "      <td>lymphoblasts</td>\n",
              "      <td>human</td>\n",
              "      <td>9864.0</td>\n",
              "      <td>2584</td>\n",
              "      <td>0.0</td>\n",
              "      <td>35.817112</td>\n",
              "      <td>2</td>\n",
              "    </tr>\n",
              "    <tr>\n",
              "      <th>...</th>\n",
              "      <td>...</td>\n",
              "      <td>...</td>\n",
              "      <td>...</td>\n",
              "      <td>...</td>\n",
              "      <td>...</td>\n",
              "      <td>...</td>\n",
              "      <td>...</td>\n",
              "      <td>...</td>\n",
              "      <td>...</td>\n",
              "      <td>...</td>\n",
              "      <td>...</td>\n",
              "      <td>...</td>\n",
              "      <td>...</td>\n",
              "      <td>...</td>\n",
              "      <td>...</td>\n",
              "    </tr>\n",
              "    <tr>\n",
              "      <th>TTTGACTGGAAGGC</th>\n",
              "      <td>SNAI1_pDS266</td>\n",
              "      <td>331.0</td>\n",
              "      <td>22.0</td>\n",
              "      <td>cell_line</td>\n",
              "      <td>K562</td>\n",
              "      <td>True</td>\n",
              "      <td>chronic myelogenous leukemia</td>\n",
              "      <td>CRISPR</td>\n",
              "      <td>lymphoblasts</td>\n",
              "      <td>human</td>\n",
              "      <td>5942.0</td>\n",
              "      <td>1856</td>\n",
              "      <td>0.0</td>\n",
              "      <td>31.605520</td>\n",
              "      <td>2</td>\n",
              "    </tr>\n",
              "    <tr>\n",
              "      <th>TTTGACTGGACGAG</th>\n",
              "      <td>SNAI1_pDS266</td>\n",
              "      <td>745.0</td>\n",
              "      <td>35.0</td>\n",
              "      <td>cell_line</td>\n",
              "      <td>K562</td>\n",
              "      <td>True</td>\n",
              "      <td>chronic myelogenous leukemia</td>\n",
              "      <td>CRISPR</td>\n",
              "      <td>lymphoblasts</td>\n",
              "      <td>human</td>\n",
              "      <td>8150.0</td>\n",
              "      <td>2263</td>\n",
              "      <td>0.0</td>\n",
              "      <td>36.797546</td>\n",
              "      <td>2</td>\n",
              "    </tr>\n",
              "    <tr>\n",
              "      <th>TTTGCATGCCCGTT</th>\n",
              "      <td>SNAI1_pDS266</td>\n",
              "      <td>784.0</td>\n",
              "      <td>37.0</td>\n",
              "      <td>cell_line</td>\n",
              "      <td>K562</td>\n",
              "      <td>True</td>\n",
              "      <td>chronic myelogenous leukemia</td>\n",
              "      <td>CRISPR</td>\n",
              "      <td>lymphoblasts</td>\n",
              "      <td>human</td>\n",
              "      <td>9179.0</td>\n",
              "      <td>2473</td>\n",
              "      <td>0.0</td>\n",
              "      <td>37.128227</td>\n",
              "      <td>2</td>\n",
              "    </tr>\n",
              "    <tr>\n",
              "      <th>TTTGCATGCCGTTC</th>\n",
              "      <td>62(mod)_pBA581</td>\n",
              "      <td>1469.0</td>\n",
              "      <td>79.0</td>\n",
              "      <td>cell_line</td>\n",
              "      <td>K562</td>\n",
              "      <td>True</td>\n",
              "      <td>chronic myelogenous leukemia</td>\n",
              "      <td>CRISPR</td>\n",
              "      <td>lymphoblasts</td>\n",
              "      <td>human</td>\n",
              "      <td>15785.0</td>\n",
              "      <td>3167</td>\n",
              "      <td>0.0</td>\n",
              "      <td>37.465950</td>\n",
              "      <td>2</td>\n",
              "    </tr>\n",
              "    <tr>\n",
              "      <th>TTTGCATGTTCTAC</th>\n",
              "      <td>62(mod)_pBA581</td>\n",
              "      <td>516.0</td>\n",
              "      <td>26.0</td>\n",
              "      <td>cell_line</td>\n",
              "      <td>K562</td>\n",
              "      <td>True</td>\n",
              "      <td>chronic myelogenous leukemia</td>\n",
              "      <td>CRISPR</td>\n",
              "      <td>lymphoblasts</td>\n",
              "      <td>human</td>\n",
              "      <td>4197.0</td>\n",
              "      <td>1580</td>\n",
              "      <td>0.0</td>\n",
              "      <td>34.071957</td>\n",
              "      <td>2</td>\n",
              "    </tr>\n",
              "  </tbody>\n",
              "</table>\n",
              "<p>5768 rows × 15 columns</p>\n",
              "</div>"
            ],
            "text/plain": [
              "                  perturbation  read count  UMI count tissue_type cell_line  \\\n",
              "cell_barcode                                                                  \n",
              "AAACATACACCGAT    CREB1_pDS269      1286.0       98.0   cell_line      K562   \n",
              "AAACATACAGAGAT    SNAI1_pDS266       296.0       19.0   cell_line      K562   \n",
              "AAACATACCAGAAA  62(mod)_pBA581      1829.0      162.0   cell_line      K562   \n",
              "AAACATACGTTGAC    EP300_pDS268      1580.0       98.0   cell_line      K562   \n",
              "AAACATACTGTTCT  62(mod)_pBA581       748.0       51.0   cell_line      K562   \n",
              "...                        ...         ...        ...         ...       ...   \n",
              "TTTGACTGGAAGGC    SNAI1_pDS266       331.0       22.0   cell_line      K562   \n",
              "TTTGACTGGACGAG    SNAI1_pDS266       745.0       35.0   cell_line      K562   \n",
              "TTTGCATGCCCGTT    SNAI1_pDS266       784.0       37.0   cell_line      K562   \n",
              "TTTGCATGCCGTTC  62(mod)_pBA581      1469.0       79.0   cell_line      K562   \n",
              "TTTGCATGTTCTAC  62(mod)_pBA581       516.0       26.0   cell_line      K562   \n",
              "\n",
              "                cancer                       disease perturbation_type  \\\n",
              "cell_barcode                                                             \n",
              "AAACATACACCGAT    True  chronic myelogenous leukemia            CRISPR   \n",
              "AAACATACAGAGAT    True  chronic myelogenous leukemia            CRISPR   \n",
              "AAACATACCAGAAA    True  chronic myelogenous leukemia            CRISPR   \n",
              "AAACATACGTTGAC    True  chronic myelogenous leukemia            CRISPR   \n",
              "AAACATACTGTTCT    True  chronic myelogenous leukemia            CRISPR   \n",
              "...                ...                           ...               ...   \n",
              "TTTGACTGGAAGGC    True  chronic myelogenous leukemia            CRISPR   \n",
              "TTTGACTGGACGAG    True  chronic myelogenous leukemia            CRISPR   \n",
              "TTTGCATGCCCGTT    True  chronic myelogenous leukemia            CRISPR   \n",
              "TTTGCATGCCGTTC    True  chronic myelogenous leukemia            CRISPR   \n",
              "TTTGCATGTTCTAC    True  chronic myelogenous leukemia            CRISPR   \n",
              "\n",
              "                    celltype organism  ncounts  ngenes  percent_mito  \\\n",
              "cell_barcode                                                           \n",
              "AAACATACACCGAT  lymphoblasts    human   8138.0    2412           0.0   \n",
              "AAACATACAGAGAT  lymphoblasts    human   8980.0    2386           0.0   \n",
              "AAACATACCAGAAA  lymphoblasts    human  28610.0    4404           0.0   \n",
              "AAACATACGTTGAC  lymphoblasts    human  11346.0    2815           0.0   \n",
              "AAACATACTGTTCT  lymphoblasts    human   9864.0    2584           0.0   \n",
              "...                      ...      ...      ...     ...           ...   \n",
              "TTTGACTGGAAGGC  lymphoblasts    human   5942.0    1856           0.0   \n",
              "TTTGACTGGACGAG  lymphoblasts    human   8150.0    2263           0.0   \n",
              "TTTGCATGCCCGTT  lymphoblasts    human   9179.0    2473           0.0   \n",
              "TTTGCATGCCGTTC  lymphoblasts    human  15785.0    3167           0.0   \n",
              "TTTGCATGTTCTAC  lymphoblasts    human   4197.0    1580           0.0   \n",
              "\n",
              "                percent_ribo  nperts  \n",
              "cell_barcode                          \n",
              "AAACATACACCGAT     34.037846       2  \n",
              "AAACATACAGAGAT     40.011135       2  \n",
              "AAACATACCAGAAA     40.003494       2  \n",
              "AAACATACGTTGAC     35.184204       2  \n",
              "AAACATACTGTTCT     35.817112       2  \n",
              "...                      ...     ...  \n",
              "TTTGACTGGAAGGC     31.605520       2  \n",
              "TTTGACTGGACGAG     36.797546       2  \n",
              "TTTGCATGCCCGTT     37.128227       2  \n",
              "TTTGCATGCCGTTC     37.465950       2  \n",
              "TTTGCATGTTCTAC     34.071957       2  \n",
              "\n",
              "[5768 rows x 15 columns]"
            ]
          },
          "execution_count": 7,
          "metadata": {},
          "output_type": "execute_result"
        }
      ],
      "source": [
        "adata.obs"
      ]
    },
    {
      "cell_type": "code",
      "execution_count": 8,
      "metadata": {},
      "outputs": [
        {
          "data": {
            "text/html": [
              "<div>\n",
              "<style scoped>\n",
              "    .dataframe tbody tr th:only-of-type {\n",
              "        vertical-align: middle;\n",
              "    }\n",
              "\n",
              "    .dataframe tbody tr th {\n",
              "        vertical-align: top;\n",
              "    }\n",
              "\n",
              "    .dataframe thead th {\n",
              "        text-align: right;\n",
              "    }\n",
              "</style>\n",
              "<table border=\"1\" class=\"dataframe\">\n",
              "  <thead>\n",
              "    <tr style=\"text-align: right;\">\n",
              "      <th></th>\n",
              "      <th>ensembl_id</th>\n",
              "      <th>ncounts</th>\n",
              "      <th>ncells</th>\n",
              "    </tr>\n",
              "    <tr>\n",
              "      <th>gene_symbol</th>\n",
              "      <th></th>\n",
              "      <th></th>\n",
              "      <th></th>\n",
              "    </tr>\n",
              "  </thead>\n",
              "  <tbody>\n",
              "    <tr>\n",
              "      <th>MIR1302-10</th>\n",
              "      <td>ENSG00000243485</td>\n",
              "      <td>0.0</td>\n",
              "      <td>0</td>\n",
              "    </tr>\n",
              "    <tr>\n",
              "      <th>FAM138A</th>\n",
              "      <td>ENSG00000237613</td>\n",
              "      <td>0.0</td>\n",
              "      <td>0</td>\n",
              "    </tr>\n",
              "    <tr>\n",
              "      <th>OR4F5</th>\n",
              "      <td>ENSG00000186092</td>\n",
              "      <td>0.0</td>\n",
              "      <td>0</td>\n",
              "    </tr>\n",
              "    <tr>\n",
              "      <th>RP11-34P13.7</th>\n",
              "      <td>ENSG00000238009</td>\n",
              "      <td>0.0</td>\n",
              "      <td>0</td>\n",
              "    </tr>\n",
              "    <tr>\n",
              "      <th>RP11-34P13.8</th>\n",
              "      <td>ENSG00000239945</td>\n",
              "      <td>1.0</td>\n",
              "      <td>1</td>\n",
              "    </tr>\n",
              "    <tr>\n",
              "      <th>...</th>\n",
              "      <td>...</td>\n",
              "      <td>...</td>\n",
              "      <td>...</td>\n",
              "    </tr>\n",
              "    <tr>\n",
              "      <th>MT-ND4L</th>\n",
              "      <td>ENSG00000212907</td>\n",
              "      <td>0.0</td>\n",
              "      <td>0</td>\n",
              "    </tr>\n",
              "    <tr>\n",
              "      <th>MT-ND4</th>\n",
              "      <td>ENSG00000198886</td>\n",
              "      <td>0.0</td>\n",
              "      <td>0</td>\n",
              "    </tr>\n",
              "    <tr>\n",
              "      <th>MT-ND5</th>\n",
              "      <td>ENSG00000198786</td>\n",
              "      <td>0.0</td>\n",
              "      <td>0</td>\n",
              "    </tr>\n",
              "    <tr>\n",
              "      <th>MT-ND6</th>\n",
              "      <td>ENSG00000198695</td>\n",
              "      <td>0.0</td>\n",
              "      <td>0</td>\n",
              "    </tr>\n",
              "    <tr>\n",
              "      <th>MT-CYB</th>\n",
              "      <td>ENSG00000198727</td>\n",
              "      <td>0.0</td>\n",
              "      <td>0</td>\n",
              "    </tr>\n",
              "  </tbody>\n",
              "</table>\n",
              "<p>35635 rows × 3 columns</p>\n",
              "</div>"
            ],
            "text/plain": [
              "                   ensembl_id  ncounts  ncells\n",
              "gene_symbol                                   \n",
              "MIR1302-10    ENSG00000243485      0.0       0\n",
              "FAM138A       ENSG00000237613      0.0       0\n",
              "OR4F5         ENSG00000186092      0.0       0\n",
              "RP11-34P13.7  ENSG00000238009      0.0       0\n",
              "RP11-34P13.8  ENSG00000239945      1.0       1\n",
              "...                       ...      ...     ...\n",
              "MT-ND4L       ENSG00000212907      0.0       0\n",
              "MT-ND4        ENSG00000198886      0.0       0\n",
              "MT-ND5        ENSG00000198786      0.0       0\n",
              "MT-ND6        ENSG00000198695      0.0       0\n",
              "MT-CYB        ENSG00000198727      0.0       0\n",
              "\n",
              "[35635 rows x 3 columns]"
            ]
          },
          "execution_count": 8,
          "metadata": {},
          "output_type": "execute_result"
        }
      ],
      "source": [
        "adata.var"
      ]
    },
    {
      "cell_type": "code",
      "execution_count": 9,
      "metadata": {},
      "outputs": [],
      "source": [
        "bt.settings.organism = \"human\""
      ]
    },
    {
      "cell_type": "markdown",
      "metadata": {},
      "source": [
        "### Genes"
      ]
    },
    {
      "cell_type": "code",
      "execution_count": 10,
      "metadata": {},
      "outputs": [],
      "source": [
        "adata.var['gene_symbol'] = adata.var.index\n",
        "adata.var.set_index(\"ensembl_id\", inplace=True)"
      ]
    },
    {
      "cell_type": "code",
      "execution_count": 11,
      "metadata": {},
      "outputs": [
        {
          "name": "stdout",
          "output_type": "stream",
          "text": [
            "✅ \u001b[1;92m32106 terms\u001b[0m (90.10%) are validated for \u001b[3mensembl_gene_id\u001b[0m\n",
            "❗ \u001b[1;93m3529 terms\u001b[0m (9.90%) are not validated for \u001b[3mensembl_gene_id\u001b[0m: \u001b[1;93mENSG00000237683, ENSG00000235249, ENSG00000236743, ENSG00000231709, ENSG00000239664, ENSG00000223659, ENSG00000185097, ENSG00000235373, ENSG00000240618, ENSG00000269831, ENSG00000269308, ENSG00000268179, ENSG00000269554, ENSG00000203301, ENSG00000243558, ENSG00000269753, ENSG00000268332, ENSG00000271895, ENSG00000242349, ENSG00000204513, ...\u001b[0m\n",
            "   couldn't validate \u001b[1;91m3529 terms\u001b[0m: \u001b[1;91m'ENSG00000267848', 'ENSG00000251603', 'ENSG00000188686', 'ENSG00000215635', 'ENSG00000263168', 'ENSG00000267242', 'ENSG00000267888', 'ENSG00000264433', 'ENSG00000268816', 'ENSG00000184779', 'ENSG00000249734', 'ENSG00000198750', 'ENSG00000269430', 'ENSG00000261869', 'ENSG00000261975', 'ENSG00000259761', 'ENSG00000268684', 'ENSG00000268299', 'ENSG00000215902', 'ENSG00000269064', ...\u001b[0m\n",
            "→  if you are sure, create new records via \u001b[3mln.Gene()\u001b[0m and save to your registry\n"
          ]
        },
        {
          "data": {
            "text/plain": [
              "<lamin_utils._inspect.InspectResult at 0x728c5a85b910>"
            ]
          },
          "execution_count": 11,
          "metadata": {},
          "output_type": "execute_result"
        }
      ],
      "source": [
        "bt.Gene.inspect(adata.var.index, bt.Gene.ensembl_gene_id)"
      ]
    },
    {
      "cell_type": "code",
      "execution_count": 12,
      "metadata": {},
      "outputs": [
        {
          "name": "stdout",
          "output_type": "stream",
          "text": [
            "💡 standardized 32106/35635 terms\n",
            "✅ \u001b[1;92m32106 terms\u001b[0m (90.10%) are validated for \u001b[3mensembl_gene_id\u001b[0m\n",
            "❗ \u001b[1;93m3529 terms\u001b[0m (9.90%) are not validated for \u001b[3mensembl_gene_id\u001b[0m: \u001b[1;93mENSG00000237683, ENSG00000235249, ENSG00000236743, ENSG00000231709, ENSG00000239664, ENSG00000223659, ENSG00000185097, ENSG00000235373, ENSG00000240618, ENSG00000269831, ENSG00000269308, ENSG00000268179, ENSG00000269554, ENSG00000203301, ENSG00000243558, ENSG00000269753, ENSG00000268332, ENSG00000271895, ENSG00000242349, ENSG00000204513, ...\u001b[0m\n"
          ]
        }
      ],
      "source": [
        "adata.var.index = bt.Gene.standardize(adata.var.index, bt.Gene.ensembl_gene_id)\n",
        "validated = bt.Gene.validate(adata.var.index, bt.Gene.ensembl_gene_id)"
      ]
    },
    {
      "cell_type": "code",
      "execution_count": 13,
      "metadata": {},
      "outputs": [],
      "source": [
        "adata_validated = adata[:, validated].copy()"
      ]
    },
    {
      "cell_type": "markdown",
      "metadata": {},
      "source": [
        "### Tissue"
      ]
    },
    {
      "cell_type": "markdown",
      "metadata": {},
      "source": [
        "The actual tissue is bone marrow since K562 cells were used."
      ]
    },
    {
      "cell_type": "code",
      "execution_count": 14,
      "metadata": {},
      "outputs": [],
      "source": [
        "adata_validated.obs.rename(columns={\"tissue_type\": \"tissue\"}, inplace=True)"
      ]
    },
    {
      "cell_type": "code",
      "execution_count": 15,
      "metadata": {},
      "outputs": [],
      "source": [
        "tissue_bt = bt.Tissue.public()\n",
        "tissue_bt_lo = tissue_bt.lookup()"
      ]
    },
    {
      "cell_type": "code",
      "execution_count": 16,
      "metadata": {},
      "outputs": [],
      "source": [
        "adata_validated.obs[\"tissue\"] = tissue_bt_lo.bone_marrow.name"
      ]
    },
    {
      "cell_type": "markdown",
      "metadata": {},
      "source": [
        "### Cell types"
      ]
    },
    {
      "cell_type": "code",
      "execution_count": 17,
      "metadata": {},
      "outputs": [],
      "source": [
        "adata_validated.obs.rename(columns={\"celltype\": \"cell_type\"}, inplace=True)"
      ]
    },
    {
      "cell_type": "code",
      "execution_count": 18,
      "metadata": {},
      "outputs": [
        {
          "name": "stdout",
          "output_type": "stream",
          "text": [
            "❗ received 1 unique term, 5767 empty/duplicated terms are ignored\n",
            "❗ \u001b[1;93m1 term\u001b[0m (100.00%) is not validated for \u001b[3mname\u001b[0m: \u001b[1;93mlymphoblasts\u001b[0m\n",
            "   couldn't validate \u001b[1;91m1 term\u001b[0m: \u001b[1;91m'lymphoblasts'\u001b[0m\n",
            "→  if you are sure, create new record via \u001b[3mln.CellType()\u001b[0m and save to your registry\n"
          ]
        },
        {
          "data": {
            "text/plain": [
              "<lamin_utils._inspect.InspectResult at 0x728c681bbbd0>"
            ]
          },
          "execution_count": 18,
          "metadata": {},
          "output_type": "execute_result"
        }
      ],
      "source": [
        "bt.CellType.inspect(adata_validated.obs[\"cell_type\"])"
      ]
    },
    {
      "cell_type": "code",
      "execution_count": 19,
      "metadata": {},
      "outputs": [
        {
          "data": {
            "text/html": [
              "<div>\n",
              "<style scoped>\n",
              "    .dataframe tbody tr th:only-of-type {\n",
              "        vertical-align: middle;\n",
              "    }\n",
              "\n",
              "    .dataframe tbody tr th {\n",
              "        vertical-align: top;\n",
              "    }\n",
              "\n",
              "    .dataframe thead th {\n",
              "        text-align: right;\n",
              "    }\n",
              "</style>\n",
              "<table border=\"1\" class=\"dataframe\">\n",
              "  <thead>\n",
              "    <tr style=\"text-align: right;\">\n",
              "      <th></th>\n",
              "      <th>ontology_id</th>\n",
              "      <th>definition</th>\n",
              "      <th>synonyms</th>\n",
              "      <th>parents</th>\n",
              "      <th>__ratio__</th>\n",
              "    </tr>\n",
              "    <tr>\n",
              "      <th>name</th>\n",
              "      <th></th>\n",
              "      <th></th>\n",
              "      <th></th>\n",
              "      <th></th>\n",
              "      <th></th>\n",
              "    </tr>\n",
              "  </thead>\n",
              "  <tbody>\n",
              "    <tr>\n",
              "      <th>lymphoblast</th>\n",
              "      <td>CL:0017005</td>\n",
              "      <td>A Lymphocyte That Has Gotten Larger After Bein...</td>\n",
              "      <td>None</td>\n",
              "      <td>[]</td>\n",
              "      <td>100.000000</td>\n",
              "    </tr>\n",
              "    <tr>\n",
              "      <th>B-lymphoblast</th>\n",
              "      <td>CL:0017006</td>\n",
              "      <td>A Lymphocyte Of B Lineage That Has Gotten Larg...</td>\n",
              "      <td>None</td>\n",
              "      <td>[CL:0017005, CL:0000945]</td>\n",
              "      <td>95.000000</td>\n",
              "    </tr>\n",
              "    <tr>\n",
              "      <th>obsolete lymphoblast</th>\n",
              "      <td>CL:0000229</td>\n",
              "      <td>Obsolete (Was Not Defined Before Being Made Ob...</td>\n",
              "      <td>None</td>\n",
              "      <td>[]</td>\n",
              "      <td>90.000000</td>\n",
              "    </tr>\n",
              "    <tr>\n",
              "      <th>obsolete T lymphoblast</th>\n",
              "      <td>CL:0000230</td>\n",
              "      <td>Obsolete (Was Not Defined Before Being Made Ob...</td>\n",
              "      <td>None</td>\n",
              "      <td>[]</td>\n",
              "      <td>90.000000</td>\n",
              "    </tr>\n",
              "    <tr>\n",
              "      <th>obsolete B lymphoblast</th>\n",
              "      <td>CL:0000231</td>\n",
              "      <td>Obsolete (Was Not Defined Before Being Made Ob...</td>\n",
              "      <td>None</td>\n",
              "      <td>[]</td>\n",
              "      <td>90.000000</td>\n",
              "    </tr>\n",
              "    <tr>\n",
              "      <th>...</th>\n",
              "      <td>...</td>\n",
              "      <td>...</td>\n",
              "      <td>...</td>\n",
              "      <td>...</td>\n",
              "      <td>...</td>\n",
              "    </tr>\n",
              "    <tr>\n",
              "      <th>nitrergic neuron</th>\n",
              "      <td>CL:0000528</td>\n",
              "      <td>A Nerve Cell Where Transmission Is Mediated By...</td>\n",
              "      <td>None</td>\n",
              "      <td>[CL:0000540]</td>\n",
              "      <td>14.074074</td>\n",
              "    </tr>\n",
              "    <tr>\n",
              "      <th>conidium</th>\n",
              "      <td>CL:0000599</td>\n",
              "      <td>An Asexual, Nonmotile Spore Formed By Higher F...</td>\n",
              "      <td>None</td>\n",
              "      <td>[CL:0000605]</td>\n",
              "      <td>10.526316</td>\n",
              "    </tr>\n",
              "    <tr>\n",
              "      <th>interneuron</th>\n",
              "      <td>CL:0000099</td>\n",
              "      <td>Most Generally Any Neuron Which Is Not Motor O...</td>\n",
              "      <td>None</td>\n",
              "      <td>[CL:0000540]</td>\n",
              "      <td>9.090909</td>\n",
              "    </tr>\n",
              "    <tr>\n",
              "      <th>enteric neuron</th>\n",
              "      <td>CL:0007011</td>\n",
              "      <td>Neuron That Is Part Of The Enteric Nervous Sys...</td>\n",
              "      <td>None</td>\n",
              "      <td>[CL:0000540]</td>\n",
              "      <td>8.000000</td>\n",
              "    </tr>\n",
              "    <tr>\n",
              "      <th>cardiac neuron</th>\n",
              "      <td>CL:0010022</td>\n",
              "      <td>A Neuron That Has Its Soma In The Heart.</td>\n",
              "      <td>None</td>\n",
              "      <td>[]</td>\n",
              "      <td>8.000000</td>\n",
              "    </tr>\n",
              "  </tbody>\n",
              "</table>\n",
              "<p>2861 rows × 5 columns</p>\n",
              "</div>"
            ],
            "text/plain": [
              "                       ontology_id  \\\n",
              "name                                 \n",
              "lymphoblast             CL:0017005   \n",
              "B-lymphoblast           CL:0017006   \n",
              "obsolete lymphoblast    CL:0000229   \n",
              "obsolete T lymphoblast  CL:0000230   \n",
              "obsolete B lymphoblast  CL:0000231   \n",
              "...                            ...   \n",
              "nitrergic neuron        CL:0000528   \n",
              "conidium                CL:0000599   \n",
              "interneuron             CL:0000099   \n",
              "enteric neuron          CL:0007011   \n",
              "cardiac neuron          CL:0010022   \n",
              "\n",
              "                                                               definition  \\\n",
              "name                                                                        \n",
              "lymphoblast             A Lymphocyte That Has Gotten Larger After Bein...   \n",
              "B-lymphoblast           A Lymphocyte Of B Lineage That Has Gotten Larg...   \n",
              "obsolete lymphoblast    Obsolete (Was Not Defined Before Being Made Ob...   \n",
              "obsolete T lymphoblast  Obsolete (Was Not Defined Before Being Made Ob...   \n",
              "obsolete B lymphoblast  Obsolete (Was Not Defined Before Being Made Ob...   \n",
              "...                                                                   ...   \n",
              "nitrergic neuron        A Nerve Cell Where Transmission Is Mediated By...   \n",
              "conidium                An Asexual, Nonmotile Spore Formed By Higher F...   \n",
              "interneuron             Most Generally Any Neuron Which Is Not Motor O...   \n",
              "enteric neuron          Neuron That Is Part Of The Enteric Nervous Sys...   \n",
              "cardiac neuron                   A Neuron That Has Its Soma In The Heart.   \n",
              "\n",
              "                       synonyms                   parents   __ratio__  \n",
              "name                                                                   \n",
              "lymphoblast                None                        []  100.000000  \n",
              "B-lymphoblast              None  [CL:0017005, CL:0000945]   95.000000  \n",
              "obsolete lymphoblast       None                        []   90.000000  \n",
              "obsolete T lymphoblast     None                        []   90.000000  \n",
              "obsolete B lymphoblast     None                        []   90.000000  \n",
              "...                         ...                       ...         ...  \n",
              "nitrergic neuron           None              [CL:0000540]   14.074074  \n",
              "conidium                   None              [CL:0000605]   10.526316  \n",
              "interneuron                None              [CL:0000540]    9.090909  \n",
              "enteric neuron             None              [CL:0000540]    8.000000  \n",
              "cardiac neuron             None                        []    8.000000  \n",
              "\n",
              "[2861 rows x 5 columns]"
            ]
          },
          "execution_count": 19,
          "metadata": {},
          "output_type": "execute_result"
        }
      ],
      "source": [
        "bt.CellType.public().search(\"lymphoblast\")"
      ]
    },
    {
      "cell_type": "code",
      "execution_count": 20,
      "metadata": {},
      "outputs": [],
      "source": [
        "bt.CellType.from_public(ontology_id=\"CL:0017005\").save()"
      ]
    },
    {
      "cell_type": "code",
      "execution_count": 21,
      "metadata": {},
      "outputs": [],
      "source": [
        "adata_validated.obs[\"cell_type\"].replace({\"lymphoblasts\": \"lymphoblast\"}, inplace=True)"
      ]
    },
    {
      "cell_type": "code",
      "execution_count": 22,
      "metadata": {},
      "outputs": [
        {
          "name": "stdout",
          "output_type": "stream",
          "text": [
            "✅ \u001b[1;92m1 term\u001b[0m (100.00%) is validated for \u001b[3mname\u001b[0m\n"
          ]
        },
        {
          "data": {
            "text/plain": [
              "array([ True,  True,  True, ...,  True,  True,  True])"
            ]
          },
          "execution_count": 22,
          "metadata": {},
          "output_type": "execute_result"
        }
      ],
      "source": [
        "bt.CellType.validate(adata_validated.obs[\"cell_type\"])"
      ]
    },
    {
      "cell_type": "markdown",
      "metadata": {},
      "source": [
        "### Disease"
      ]
    },
    {
      "cell_type": "code",
      "execution_count": 23,
      "metadata": {},
      "outputs": [
        {
          "data": {
            "text/plain": [
              "cell_barcode\n",
              "AAACATACACCGAT    chronic myelogenous leukemia\n",
              "AAACATACAGAGAT    chronic myelogenous leukemia\n",
              "AAACATACCAGAAA    chronic myelogenous leukemia\n",
              "AAACATACGTTGAC    chronic myelogenous leukemia\n",
              "AAACATACTGTTCT    chronic myelogenous leukemia\n",
              "                              ...             \n",
              "TTTGACTGGAAGGC    chronic myelogenous leukemia\n",
              "TTTGACTGGACGAG    chronic myelogenous leukemia\n",
              "TTTGCATGCCCGTT    chronic myelogenous leukemia\n",
              "TTTGCATGCCGTTC    chronic myelogenous leukemia\n",
              "TTTGCATGTTCTAC    chronic myelogenous leukemia\n",
              "Name: disease, Length: 5768, dtype: category\n",
              "Categories (1, object): ['chronic myelogenous leukemia']"
            ]
          },
          "execution_count": 23,
          "metadata": {},
          "output_type": "execute_result"
        }
      ],
      "source": [
        "adata.obs[\"disease\"]"
      ]
    },
    {
      "cell_type": "code",
      "execution_count": 24,
      "metadata": {},
      "outputs": [
        {
          "data": {
            "text/html": [
              "<div>\n",
              "<style scoped>\n",
              "    .dataframe tbody tr th:only-of-type {\n",
              "        vertical-align: middle;\n",
              "    }\n",
              "\n",
              "    .dataframe tbody tr th {\n",
              "        vertical-align: top;\n",
              "    }\n",
              "\n",
              "    .dataframe thead th {\n",
              "        text-align: right;\n",
              "    }\n",
              "</style>\n",
              "<table border=\"1\" class=\"dataframe\">\n",
              "  <thead>\n",
              "    <tr style=\"text-align: right;\">\n",
              "      <th></th>\n",
              "      <th>ontology_id</th>\n",
              "      <th>definition</th>\n",
              "      <th>synonyms</th>\n",
              "      <th>parents</th>\n",
              "      <th>__ratio__</th>\n",
              "    </tr>\n",
              "    <tr>\n",
              "      <th>name</th>\n",
              "      <th></th>\n",
              "      <th></th>\n",
              "      <th></th>\n",
              "      <th></th>\n",
              "      <th></th>\n",
              "    </tr>\n",
              "  </thead>\n",
              "  <tbody>\n",
              "    <tr>\n",
              "      <th>chronic myelogenous leukemia, BCR-ABL1 positive</th>\n",
              "      <td>MONDO:0011996</td>\n",
              "      <td>A Chronic Myeloproliferative Neoplasm Characte...</td>\n",
              "      <td>chronic myelocytic leukemia|chronic myelogenou...</td>\n",
              "      <td>[MONDO:0004643]</td>\n",
              "      <td>100.000000</td>\n",
              "    </tr>\n",
              "    <tr>\n",
              "      <th>B-cell chronic lymphocytic leukemia</th>\n",
              "      <td>MONDO:0004948</td>\n",
              "      <td>B-Cell Chronic Lymphocytic Leukemia (B-Cll) Is...</td>\n",
              "      <td>B-cell chronic lymphocytic leukemia|B-cell CLL...</td>\n",
              "      <td>[MONDO:0004949, MONDO:0004967, MONDO:0001014, ...</td>\n",
              "      <td>87.719298</td>\n",
              "    </tr>\n",
              "    <tr>\n",
              "      <th>juvenile myelomonocytic leukemia</th>\n",
              "      <td>MONDO:0011908</td>\n",
              "      <td>A Myelodysplastic/Myeloproliferative Neoplasm ...</td>\n",
              "      <td>juvenile chronic myeloid leukemia|leukemia, ju...</td>\n",
              "      <td>[MONDO:0020311]</td>\n",
              "      <td>86.153846</td>\n",
              "    </tr>\n",
              "    <tr>\n",
              "      <th>myeloid leukemia</th>\n",
              "      <td>MONDO:0004643</td>\n",
              "      <td>A Clonal Proliferation Of Myeloid Cells And Th...</td>\n",
              "      <td>leukemia granulocytic|myeloid leukemia|leukemi...</td>\n",
              "      <td>[MONDO:0020076, MONDO:0005059]</td>\n",
              "      <td>83.333333</td>\n",
              "    </tr>\n",
              "    <tr>\n",
              "      <th>blast phase chronic myelogenous leukemia, BCR-ABL1 positive</th>\n",
              "      <td>MONDO:0006115</td>\n",
              "      <td>An Advanced Phase Of Chronic Myelogenous Leuke...</td>\n",
              "      <td>blastic phase CML|blast crisis|blast phase chr...</td>\n",
              "      <td>[MONDO:0011996]</td>\n",
              "      <td>82.352941</td>\n",
              "    </tr>\n",
              "    <tr>\n",
              "      <th>...</th>\n",
              "      <td>...</td>\n",
              "      <td>...</td>\n",
              "      <td>...</td>\n",
              "      <td>...</td>\n",
              "      <td>...</td>\n",
              "    </tr>\n",
              "    <tr>\n",
              "      <th>polyp</th>\n",
              "      <td>MONDO:0005079</td>\n",
              "      <td>A Usually Exophytic Mass Attached To The Under...</td>\n",
              "      <td>polyp</td>\n",
              "      <td>[MONDO:0045024]</td>\n",
              "      <td>12.121212</td>\n",
              "    </tr>\n",
              "    <tr>\n",
              "      <th>sunburn</th>\n",
              "      <td>MONDO:0005326</td>\n",
              "      <td>An Inflammatory Reaction From Ultraviolet Radi...</td>\n",
              "      <td>None</td>\n",
              "      <td>[MONDO:0005093]</td>\n",
              "      <td>11.428571</td>\n",
              "    </tr>\n",
              "    <tr>\n",
              "      <th>tauopathy</th>\n",
              "      <td>MONDO:0005574</td>\n",
              "      <td>Neurodegenerative Disorders Involving Depositi...</td>\n",
              "      <td>None</td>\n",
              "      <td>[MONDO:0005559]</td>\n",
              "      <td>10.810811</td>\n",
              "    </tr>\n",
              "    <tr>\n",
              "      <th>BAFopathy</th>\n",
              "      <td>MONDO:0700120</td>\n",
              "      <td>Disorder Caused By Mutations In The Various Su...</td>\n",
              "      <td>None</td>\n",
              "      <td>[MONDO:0003847]</td>\n",
              "      <td>10.810811</td>\n",
              "    </tr>\n",
              "    <tr>\n",
              "      <th>MVP1</th>\n",
              "      <td>MONDO:0024529</td>\n",
              "      <td>None</td>\n",
              "      <td>MVP1</td>\n",
              "      <td>[MONDO:0008004]</td>\n",
              "      <td>6.250000</td>\n",
              "    </tr>\n",
              "  </tbody>\n",
              "</table>\n",
              "<p>26234 rows × 5 columns</p>\n",
              "</div>"
            ],
            "text/plain": [
              "                                                      ontology_id  \\\n",
              "name                                                                \n",
              "chronic myelogenous leukemia, BCR-ABL1 positive     MONDO:0011996   \n",
              "B-cell chronic lymphocytic leukemia                 MONDO:0004948   \n",
              "juvenile myelomonocytic leukemia                    MONDO:0011908   \n",
              "myeloid leukemia                                    MONDO:0004643   \n",
              "blast phase chronic myelogenous leukemia, BCR-A...  MONDO:0006115   \n",
              "...                                                           ...   \n",
              "polyp                                               MONDO:0005079   \n",
              "sunburn                                             MONDO:0005326   \n",
              "tauopathy                                           MONDO:0005574   \n",
              "BAFopathy                                           MONDO:0700120   \n",
              "MVP1                                                MONDO:0024529   \n",
              "\n",
              "                                                                                           definition  \\\n",
              "name                                                                                                    \n",
              "chronic myelogenous leukemia, BCR-ABL1 positive     A Chronic Myeloproliferative Neoplasm Characte...   \n",
              "B-cell chronic lymphocytic leukemia                 B-Cell Chronic Lymphocytic Leukemia (B-Cll) Is...   \n",
              "juvenile myelomonocytic leukemia                    A Myelodysplastic/Myeloproliferative Neoplasm ...   \n",
              "myeloid leukemia                                    A Clonal Proliferation Of Myeloid Cells And Th...   \n",
              "blast phase chronic myelogenous leukemia, BCR-A...  An Advanced Phase Of Chronic Myelogenous Leuke...   \n",
              "...                                                                                               ...   \n",
              "polyp                                               A Usually Exophytic Mass Attached To The Under...   \n",
              "sunburn                                             An Inflammatory Reaction From Ultraviolet Radi...   \n",
              "tauopathy                                           Neurodegenerative Disorders Involving Depositi...   \n",
              "BAFopathy                                           Disorder Caused By Mutations In The Various Su...   \n",
              "MVP1                                                                                             None   \n",
              "\n",
              "                                                                                             synonyms  \\\n",
              "name                                                                                                    \n",
              "chronic myelogenous leukemia, BCR-ABL1 positive     chronic myelocytic leukemia|chronic myelogenou...   \n",
              "B-cell chronic lymphocytic leukemia                 B-cell chronic lymphocytic leukemia|B-cell CLL...   \n",
              "juvenile myelomonocytic leukemia                    juvenile chronic myeloid leukemia|leukemia, ju...   \n",
              "myeloid leukemia                                    leukemia granulocytic|myeloid leukemia|leukemi...   \n",
              "blast phase chronic myelogenous leukemia, BCR-A...  blastic phase CML|blast crisis|blast phase chr...   \n",
              "...                                                                                               ...   \n",
              "polyp                                                                                           polyp   \n",
              "sunburn                                                                                          None   \n",
              "tauopathy                                                                                        None   \n",
              "BAFopathy                                                                                        None   \n",
              "MVP1                                                                                             MVP1   \n",
              "\n",
              "                                                                                              parents  \\\n",
              "name                                                                                                    \n",
              "chronic myelogenous leukemia, BCR-ABL1 positive                                       [MONDO:0004643]   \n",
              "B-cell chronic lymphocytic leukemia                 [MONDO:0004949, MONDO:0004967, MONDO:0001014, ...   \n",
              "juvenile myelomonocytic leukemia                                                      [MONDO:0020311]   \n",
              "myeloid leukemia                                                       [MONDO:0020076, MONDO:0005059]   \n",
              "blast phase chronic myelogenous leukemia, BCR-A...                                    [MONDO:0011996]   \n",
              "...                                                                                               ...   \n",
              "polyp                                                                                 [MONDO:0045024]   \n",
              "sunburn                                                                               [MONDO:0005093]   \n",
              "tauopathy                                                                             [MONDO:0005559]   \n",
              "BAFopathy                                                                             [MONDO:0003847]   \n",
              "MVP1                                                                                  [MONDO:0008004]   \n",
              "\n",
              "                                                     __ratio__  \n",
              "name                                                            \n",
              "chronic myelogenous leukemia, BCR-ABL1 positive     100.000000  \n",
              "B-cell chronic lymphocytic leukemia                  87.719298  \n",
              "juvenile myelomonocytic leukemia                     86.153846  \n",
              "myeloid leukemia                                     83.333333  \n",
              "blast phase chronic myelogenous leukemia, BCR-A...   82.352941  \n",
              "...                                                        ...  \n",
              "polyp                                                12.121212  \n",
              "sunburn                                              11.428571  \n",
              "tauopathy                                            10.810811  \n",
              "BAFopathy                                            10.810811  \n",
              "MVP1                                                  6.250000  \n",
              "\n",
              "[26234 rows x 5 columns]"
            ]
          },
          "execution_count": 24,
          "metadata": {},
          "output_type": "execute_result"
        }
      ],
      "source": [
        "bt.Disease.public().search(\"chronic myelogenous leukemia\")"
      ]
    },
    {
      "cell_type": "code",
      "execution_count": 25,
      "metadata": {},
      "outputs": [],
      "source": [
        "bt.Disease.from_public(ontology_id=\"MONDO:0011996\").save()"
      ]
    },
    {
      "cell_type": "code",
      "execution_count": 26,
      "metadata": {},
      "outputs": [],
      "source": [
        "adata_validated.obs[\"disease\"].replace({\"chronic myelogenous leukemia\": \"chronic myelogenous leukemia, BCR-ABL1 positive\"}, inplace=True)"
      ]
    },
    {
      "cell_type": "code",
      "execution_count": 27,
      "metadata": {},
      "outputs": [
        {
          "name": "stdout",
          "output_type": "stream",
          "text": [
            "✅ \u001b[1;92m1 term\u001b[0m (100.00%) is validated for \u001b[3mname\u001b[0m\n"
          ]
        },
        {
          "data": {
            "text/plain": [
              "array([ True,  True,  True, ...,  True,  True,  True])"
            ]
          },
          "execution_count": 27,
          "metadata": {},
          "output_type": "execute_result"
        }
      ],
      "source": [
        "bt.Disease.validate(adata_validated.obs[\"disease\"])"
      ]
    },
    {
      "cell_type": "markdown",
      "metadata": {},
      "source": [
        "### Treatment"
      ]
    },
    {
      "cell_type": "code",
      "execution_count": 28,
      "metadata": {},
      "outputs": [
        {
          "name": "stdout",
          "output_type": "stream",
          "text": [
            "✅ loaded ULabel record with exact same name: 'is_treatment'\n"
          ]
        }
      ],
      "source": [
        "is_treatment = ln.ULabel(name=\"is_treatment\")\n",
        "is_treatment.save()"
      ]
    },
    {
      "cell_type": "code",
      "execution_count": 29,
      "metadata": {},
      "outputs": [
        {
          "name": "stdout",
          "output_type": "stream",
          "text": [
            "✅ loaded ULabel record with exact same name: 'CRISPR'\n"
          ]
        }
      ],
      "source": [
        "crispr_treamtent = ln.ULabel(name=\"CRISPR\")\n",
        "crispr_treamtent.save()"
      ]
    },
    {
      "cell_type": "code",
      "execution_count": 30,
      "metadata": {},
      "outputs": [],
      "source": [
        "is_treatment.children.add(crispr_treamtent)"
      ]
    },
    {
      "cell_type": "code",
      "execution_count": 31,
      "metadata": {},
      "outputs": [
        {
          "name": "stdout",
          "output_type": "stream",
          "text": [
            "✅ loaded Feature record with exact same name: 'treatment'\n"
          ]
        }
      ],
      "source": [
        "ln.Feature(name=\"treatment\", type=\"category\").save()"
      ]
    },
    {
      "cell_type": "markdown",
      "metadata": {},
      "source": [
        "### Assay"
      ]
    },
    {
      "cell_type": "code",
      "execution_count": 32,
      "metadata": {},
      "outputs": [],
      "source": [
        "ef_bt_lo = bt.ExperimentalFactor.public().lookup(field=\"ontology_id\")"
      ]
    },
    {
      "cell_type": "code",
      "execution_count": 33,
      "metadata": {},
      "outputs": [
        {
          "data": {
            "text/html": [
              "<div>\n",
              "<style scoped>\n",
              "    .dataframe tbody tr th:only-of-type {\n",
              "        vertical-align: middle;\n",
              "    }\n",
              "\n",
              "    .dataframe tbody tr th {\n",
              "        vertical-align: top;\n",
              "    }\n",
              "\n",
              "    .dataframe thead th {\n",
              "        text-align: right;\n",
              "    }\n",
              "</style>\n",
              "<table border=\"1\" class=\"dataframe\">\n",
              "  <thead>\n",
              "    <tr style=\"text-align: right;\">\n",
              "      <th></th>\n",
              "      <th>ontology_id</th>\n",
              "      <th>definition</th>\n",
              "      <th>synonyms</th>\n",
              "      <th>parents</th>\n",
              "      <th>molecule</th>\n",
              "      <th>instrument</th>\n",
              "      <th>measurement</th>\n",
              "      <th>__ratio__</th>\n",
              "    </tr>\n",
              "    <tr>\n",
              "      <th>name</th>\n",
              "      <th></th>\n",
              "      <th></th>\n",
              "      <th></th>\n",
              "      <th></th>\n",
              "      <th></th>\n",
              "      <th></th>\n",
              "      <th></th>\n",
              "      <th></th>\n",
              "    </tr>\n",
              "  </thead>\n",
              "  <tbody>\n",
              "    <tr>\n",
              "      <th>obsolete_10x v3</th>\n",
              "      <td>EFO:0009898</td>\n",
              "      <td>10X V3 Is The Third Version Of The 10X Sequenc...</td>\n",
              "      <td>10XV3|10X v3</td>\n",
              "      <td>[]</td>\n",
              "      <td>None</td>\n",
              "      <td>None</td>\n",
              "      <td>None</td>\n",
              "      <td>100.000000</td>\n",
              "    </tr>\n",
              "    <tr>\n",
              "      <th>obsolete_10x v2</th>\n",
              "      <td>EFO:0009310</td>\n",
              "      <td>10X V2 Is The Second Version Of The 10X Sequen...</td>\n",
              "      <td>10XV2|10x_v2|10x v2</td>\n",
              "      <td>[]</td>\n",
              "      <td>None</td>\n",
              "      <td>None</td>\n",
              "      <td>None</td>\n",
              "      <td>83.333333</td>\n",
              "    </tr>\n",
              "    <tr>\n",
              "      <th>obsolete_10x 5' v3</th>\n",
              "      <td>EFO:0009921</td>\n",
              "      <td>10X 5' V3 Is The Third Version Of The 10X Sequ...</td>\n",
              "      <td>10X 5' v3</td>\n",
              "      <td>[]</td>\n",
              "      <td>None</td>\n",
              "      <td>None</td>\n",
              "      <td>None</td>\n",
              "      <td>80.000000</td>\n",
              "    </tr>\n",
              "    <tr>\n",
              "      <th>10x 3' v3</th>\n",
              "      <td>EFO:0009922</td>\n",
              "      <td>10X 3' V3 Is The Third Version Of The 10X Sequ...</td>\n",
              "      <td>10X 3' v3</td>\n",
              "      <td>[EFO:0030003]</td>\n",
              "      <td>None</td>\n",
              "      <td>None</td>\n",
              "      <td>None</td>\n",
              "      <td>80.000000</td>\n",
              "    </tr>\n",
              "    <tr>\n",
              "      <th>10x immune profiling</th>\n",
              "      <td>EFO:0010713</td>\n",
              "      <td>This Method Creates Libraries That Can Capture...</td>\n",
              "      <td>10X VDJ|10X Immune profiling|10X V(D)J|Chromiu...</td>\n",
              "      <td>[EFO:0001457, EFO:0030015, EFO:0008995]</td>\n",
              "      <td>RNA assay</td>\n",
              "      <td>immune sequencing</td>\n",
              "      <td>None</td>\n",
              "      <td>76.923077</td>\n",
              "    </tr>\n",
              "    <tr>\n",
              "      <th>...</th>\n",
              "      <td>...</td>\n",
              "      <td>...</td>\n",
              "      <td>...</td>\n",
              "      <td>...</td>\n",
              "      <td>...</td>\n",
              "      <td>...</td>\n",
              "      <td>...</td>\n",
              "      <td>...</td>\n",
              "    </tr>\n",
              "    <tr>\n",
              "      <th>submitter</th>\n",
              "      <td>EFO:0001741</td>\n",
              "      <td>A Person Who Presents Or Submits Something (E....</td>\n",
              "      <td>None</td>\n",
              "      <td>[]</td>\n",
              "      <td>None</td>\n",
              "      <td>None</td>\n",
              "      <td>None</td>\n",
              "      <td>0.000000</td>\n",
              "    </tr>\n",
              "    <tr>\n",
              "      <th>RAP</th>\n",
              "      <td>EFO:0008880</td>\n",
              "      <td>Rna Antisense Purification (Rap)</td>\n",
              "      <td>None</td>\n",
              "      <td>[EFO:0001457]</td>\n",
              "      <td>RNA assay</td>\n",
              "      <td>None</td>\n",
              "      <td>None</td>\n",
              "      <td>0.000000</td>\n",
              "    </tr>\n",
              "    <tr>\n",
              "      <th>RARseq</th>\n",
              "      <td>EFO:0008882</td>\n",
              "      <td>Restriction Site Associated Rna Sequencing</td>\n",
              "      <td>None</td>\n",
              "      <td>[EFO:0001457]</td>\n",
              "      <td>RNA assay</td>\n",
              "      <td>None</td>\n",
              "      <td>None</td>\n",
              "      <td>0.000000</td>\n",
              "    </tr>\n",
              "    <tr>\n",
              "      <th>substrate</th>\n",
              "      <td>EFO:0005061</td>\n",
              "      <td>A Substrate Is The Surface On Which Material, ...</td>\n",
              "      <td>None</td>\n",
              "      <td>[EFO:0005060]</td>\n",
              "      <td>None</td>\n",
              "      <td>None</td>\n",
              "      <td>None</td>\n",
              "      <td>0.000000</td>\n",
              "    </tr>\n",
              "    <tr>\n",
              "      <th>submitted</th>\n",
              "      <td>EFO:0001794</td>\n",
              "      <td>Publication Submitted To A Journal For Publica...</td>\n",
              "      <td>None</td>\n",
              "      <td>[EFO:0001742]</td>\n",
              "      <td>None</td>\n",
              "      <td>None</td>\n",
              "      <td>None</td>\n",
              "      <td>0.000000</td>\n",
              "    </tr>\n",
              "  </tbody>\n",
              "</table>\n",
              "<p>14657 rows × 8 columns</p>\n",
              "</div>"
            ],
            "text/plain": [
              "                      ontology_id  \\\n",
              "name                                \n",
              "obsolete_10x v3       EFO:0009898   \n",
              "obsolete_10x v2       EFO:0009310   \n",
              "obsolete_10x 5' v3    EFO:0009921   \n",
              "10x 3' v3             EFO:0009922   \n",
              "10x immune profiling  EFO:0010713   \n",
              "...                           ...   \n",
              "submitter             EFO:0001741   \n",
              "RAP                   EFO:0008880   \n",
              "RARseq                EFO:0008882   \n",
              "substrate             EFO:0005061   \n",
              "submitted             EFO:0001794   \n",
              "\n",
              "                                                             definition  \\\n",
              "name                                                                      \n",
              "obsolete_10x v3       10X V3 Is The Third Version Of The 10X Sequenc...   \n",
              "obsolete_10x v2       10X V2 Is The Second Version Of The 10X Sequen...   \n",
              "obsolete_10x 5' v3    10X 5' V3 Is The Third Version Of The 10X Sequ...   \n",
              "10x 3' v3             10X 3' V3 Is The Third Version Of The 10X Sequ...   \n",
              "10x immune profiling  This Method Creates Libraries That Can Capture...   \n",
              "...                                                                 ...   \n",
              "submitter             A Person Who Presents Or Submits Something (E....   \n",
              "RAP                                    Rna Antisense Purification (Rap)   \n",
              "RARseq                       Restriction Site Associated Rna Sequencing   \n",
              "substrate             A Substrate Is The Surface On Which Material, ...   \n",
              "submitted             Publication Submitted To A Journal For Publica...   \n",
              "\n",
              "                                                               synonyms  \\\n",
              "name                                                                      \n",
              "obsolete_10x v3                                            10XV3|10X v3   \n",
              "obsolete_10x v2                                     10XV2|10x_v2|10x v2   \n",
              "obsolete_10x 5' v3                                            10X 5' v3   \n",
              "10x 3' v3                                                     10X 3' v3   \n",
              "10x immune profiling  10X VDJ|10X Immune profiling|10X V(D)J|Chromiu...   \n",
              "...                                                                 ...   \n",
              "submitter                                                          None   \n",
              "RAP                                                                None   \n",
              "RARseq                                                             None   \n",
              "substrate                                                          None   \n",
              "submitted                                                          None   \n",
              "\n",
              "                                                      parents   molecule  \\\n",
              "name                                                                       \n",
              "obsolete_10x v3                                            []       None   \n",
              "obsolete_10x v2                                            []       None   \n",
              "obsolete_10x 5' v3                                         []       None   \n",
              "10x 3' v3                                       [EFO:0030003]       None   \n",
              "10x immune profiling  [EFO:0001457, EFO:0030015, EFO:0008995]  RNA assay   \n",
              "...                                                       ...        ...   \n",
              "submitter                                                  []       None   \n",
              "RAP                                             [EFO:0001457]  RNA assay   \n",
              "RARseq                                          [EFO:0001457]  RNA assay   \n",
              "substrate                                       [EFO:0005060]       None   \n",
              "submitted                                       [EFO:0001742]       None   \n",
              "\n",
              "                             instrument measurement   __ratio__  \n",
              "name                                                             \n",
              "obsolete_10x v3                    None        None  100.000000  \n",
              "obsolete_10x v2                    None        None   83.333333  \n",
              "obsolete_10x 5' v3                 None        None   80.000000  \n",
              "10x 3' v3                          None        None   80.000000  \n",
              "10x immune profiling  immune sequencing        None   76.923077  \n",
              "...                                 ...         ...         ...  \n",
              "submitter                          None        None    0.000000  \n",
              "RAP                                None        None    0.000000  \n",
              "RARseq                             None        None    0.000000  \n",
              "substrate                          None        None    0.000000  \n",
              "submitted                          None        None    0.000000  \n",
              "\n",
              "[14657 rows x 8 columns]"
            ]
          },
          "execution_count": 33,
          "metadata": {},
          "output_type": "execute_result"
        }
      ],
      "source": [
        "bt.ExperimentalFactor.public().search(\"10x v3\")"
      ]
    },
    {
      "cell_type": "code",
      "execution_count": 34,
      "metadata": {},
      "outputs": [],
      "source": [
        "adata_validated.obs[\"assay\"] = ef_bt_lo.efo_0009922.name"
      ]
    },
    {
      "cell_type": "markdown",
      "metadata": {},
      "source": [
        "### Perturbation"
      ]
    },
    {
      "cell_type": "code",
      "execution_count": 35,
      "metadata": {},
      "outputs": [
        {
          "name": "stdout",
          "output_type": "stream",
          "text": [
            "✅ loaded ULabel record with exact same name: 'is_perturbation'\n"
          ]
        }
      ],
      "source": [
        "is_perturbation = ln.ULabel(name=\"is_perturbation\")\n",
        "is_perturbation.save()"
      ]
    },
    {
      "cell_type": "code",
      "execution_count": 49,
      "metadata": {},
      "outputs": [],
      "source": [
        "perturbation_labels = [ln.ULabel(name=cat) for cat in adata.obs[\"perturbation\"].cat.categories.tolist()]\n",
        "ln.save(perturbation_labels)"
      ]
    },
    {
      "cell_type": "code",
      "execution_count": 50,
      "metadata": {},
      "outputs": [],
      "source": [
        "is_perturbation.children.add(*perturbation_labels)"
      ]
    },
    {
      "cell_type": "code",
      "execution_count": 51,
      "metadata": {},
      "outputs": [
        {
          "name": "stdout",
          "output_type": "stream",
          "text": [
            "✅ loaded Feature record with exact same name: 'perturbation'\n"
          ]
        }
      ],
      "source": [
        "ln.Feature(name=\"perturbation\", type=\"category\").save()"
      ]
    },
    {
      "cell_type": "markdown",
      "metadata": {},
      "source": [
        "### Cell Line"
      ]
    },
    {
      "cell_type": "code",
      "execution_count": 52,
      "metadata": {},
      "outputs": [
        {
          "data": {
            "text/html": [
              "<div>\n",
              "<style scoped>\n",
              "    .dataframe tbody tr th:only-of-type {\n",
              "        vertical-align: middle;\n",
              "    }\n",
              "\n",
              "    .dataframe tbody tr th {\n",
              "        vertical-align: top;\n",
              "    }\n",
              "\n",
              "    .dataframe thead th {\n",
              "        text-align: right;\n",
              "    }\n",
              "</style>\n",
              "<table border=\"1\" class=\"dataframe\">\n",
              "  <thead>\n",
              "    <tr style=\"text-align: right;\">\n",
              "      <th></th>\n",
              "      <th>ontology_id</th>\n",
              "      <th>definition</th>\n",
              "      <th>synonyms</th>\n",
              "      <th>parents</th>\n",
              "      <th>__ratio__</th>\n",
              "    </tr>\n",
              "    <tr>\n",
              "      <th>name</th>\n",
              "      <th></th>\n",
              "      <th></th>\n",
              "      <th></th>\n",
              "      <th></th>\n",
              "      <th></th>\n",
              "    </tr>\n",
              "  </thead>\n",
              "  <tbody>\n",
              "    <tr>\n",
              "      <th>K 562 cell</th>\n",
              "      <td>CLO:0007050</td>\n",
              "      <td>disease: leukemia, chronic myeloid</td>\n",
              "      <td>K-562|KO|GM05372E|K.562|K562|GM05372|K 562</td>\n",
              "      <td>[CLO:0000511]</td>\n",
              "      <td>100.0</td>\n",
              "    </tr>\n",
              "    <tr>\n",
              "      <th>RCB2111 cell</th>\n",
              "      <td>CLO:0050125</td>\n",
              "      <td>A immortal human cell line cell that has the c...</td>\n",
              "      <td>RCB2111|K562/Vin</td>\n",
              "      <td>[CLO:0000020]</td>\n",
              "      <td>90.0</td>\n",
              "    </tr>\n",
              "    <tr>\n",
              "      <th>K562/ADM cell</th>\n",
              "      <td>CLO:0009840</td>\n",
              "      <td>None</td>\n",
              "      <td>K562/ADM</td>\n",
              "      <td>[CLO:0000617]</td>\n",
              "      <td>90.0</td>\n",
              "    </tr>\n",
              "    <tr>\n",
              "      <th>K562 cl.6 cell</th>\n",
              "      <td>CLO:0007060</td>\n",
              "      <td>disease: leukemia, chronic myeloid</td>\n",
              "      <td>K562 cl.6</td>\n",
              "      <td>[CLO:0000617]</td>\n",
              "      <td>90.0</td>\n",
              "    </tr>\n",
              "    <tr>\n",
              "      <th>RCB0474 cell</th>\n",
              "      <td>CLO:0050119</td>\n",
              "      <td>A immortal human cell line cell that has the c...</td>\n",
              "      <td>K562/MTX-2|RCB0474</td>\n",
              "      <td>[CLO:0000020]</td>\n",
              "      <td>90.0</td>\n",
              "    </tr>\n",
              "    <tr>\n",
              "      <th>...</th>\n",
              "      <td>...</td>\n",
              "      <td>...</td>\n",
              "      <td>...</td>\n",
              "      <td>...</td>\n",
              "      <td>...</td>\n",
              "    </tr>\n",
              "    <tr>\n",
              "      <th>HQ00003 cell</th>\n",
              "      <td>CLO:0012534</td>\n",
              "      <td>HUNTINGTON DISEASE; HD</td>\n",
              "      <td>HQ00003</td>\n",
              "      <td>[CLO:0000374]</td>\n",
              "      <td>0.0</td>\n",
              "    </tr>\n",
              "    <tr>\n",
              "      <th>HQ00004 cell</th>\n",
              "      <td>CLO:0012538</td>\n",
              "      <td>HUNTINGTON DISEASE; HD</td>\n",
              "      <td>HQ00004</td>\n",
              "      <td>[CLO:0000374]</td>\n",
              "      <td>0.0</td>\n",
              "    </tr>\n",
              "    <tr>\n",
              "      <th>HQ00007 cell</th>\n",
              "      <td>CLO:0012539</td>\n",
              "      <td>HUNTINGTON DISEASE; HD</td>\n",
              "      <td>HQ00007</td>\n",
              "      <td>[CLO:0000374]</td>\n",
              "      <td>0.0</td>\n",
              "    </tr>\n",
              "    <tr>\n",
              "      <th>HQ00008 cell</th>\n",
              "      <td>CLO:0012542</td>\n",
              "      <td>HUNTINGTON DISEASE; HD</td>\n",
              "      <td>HQ00008</td>\n",
              "      <td>[CLO:0000374]</td>\n",
              "      <td>0.0</td>\n",
              "    </tr>\n",
              "    <tr>\n",
              "      <th>♀ 3 BAG alpha cell</th>\n",
              "      <td>CLO:0009739</td>\n",
              "      <td>None</td>\n",
              "      <td>♀ 3 BAG alpha</td>\n",
              "      <td>[CLO:0000019]</td>\n",
              "      <td>0.0</td>\n",
              "    </tr>\n",
              "  </tbody>\n",
              "</table>\n",
              "<p>39036 rows × 5 columns</p>\n",
              "</div>"
            ],
            "text/plain": [
              "                    ontology_id  \\\n",
              "name                              \n",
              "K 562 cell          CLO:0007050   \n",
              "RCB2111 cell        CLO:0050125   \n",
              "K562/ADM cell       CLO:0009840   \n",
              "K562 cl.6 cell      CLO:0007060   \n",
              "RCB0474 cell        CLO:0050119   \n",
              "...                         ...   \n",
              "HQ00003 cell        CLO:0012534   \n",
              "HQ00004 cell        CLO:0012538   \n",
              "HQ00007 cell        CLO:0012539   \n",
              "HQ00008 cell        CLO:0012542   \n",
              "♀ 3 BAG alpha cell  CLO:0009739   \n",
              "\n",
              "                                                           definition  \\\n",
              "name                                                                    \n",
              "K 562 cell                         disease: leukemia, chronic myeloid   \n",
              "RCB2111 cell        A immortal human cell line cell that has the c...   \n",
              "K562/ADM cell                                                    None   \n",
              "K562 cl.6 cell                     disease: leukemia, chronic myeloid   \n",
              "RCB0474 cell        A immortal human cell line cell that has the c...   \n",
              "...                                                               ...   \n",
              "HQ00003 cell                                   HUNTINGTON DISEASE; HD   \n",
              "HQ00004 cell                                   HUNTINGTON DISEASE; HD   \n",
              "HQ00007 cell                                   HUNTINGTON DISEASE; HD   \n",
              "HQ00008 cell                                   HUNTINGTON DISEASE; HD   \n",
              "♀ 3 BAG alpha cell                                               None   \n",
              "\n",
              "                                                      synonyms        parents  \\\n",
              "name                                                                            \n",
              "K 562 cell          K-562|KO|GM05372E|K.562|K562|GM05372|K 562  [CLO:0000511]   \n",
              "RCB2111 cell                                  RCB2111|K562/Vin  [CLO:0000020]   \n",
              "K562/ADM cell                                         K562/ADM  [CLO:0000617]   \n",
              "K562 cl.6 cell                                       K562 cl.6  [CLO:0000617]   \n",
              "RCB0474 cell                                K562/MTX-2|RCB0474  [CLO:0000020]   \n",
              "...                                                        ...            ...   \n",
              "HQ00003 cell                                           HQ00003  [CLO:0000374]   \n",
              "HQ00004 cell                                           HQ00004  [CLO:0000374]   \n",
              "HQ00007 cell                                           HQ00007  [CLO:0000374]   \n",
              "HQ00008 cell                                           HQ00008  [CLO:0000374]   \n",
              "♀ 3 BAG alpha cell                               ♀ 3 BAG alpha  [CLO:0000019]   \n",
              "\n",
              "                    __ratio__  \n",
              "name                           \n",
              "K 562 cell              100.0  \n",
              "RCB2111 cell             90.0  \n",
              "K562/ADM cell            90.0  \n",
              "K562 cl.6 cell           90.0  \n",
              "RCB0474 cell             90.0  \n",
              "...                       ...  \n",
              "HQ00003 cell              0.0  \n",
              "HQ00004 cell              0.0  \n",
              "HQ00007 cell              0.0  \n",
              "HQ00008 cell              0.0  \n",
              "♀ 3 BAG alpha cell        0.0  \n",
              "\n",
              "[39036 rows x 5 columns]"
            ]
          },
          "execution_count": 52,
          "metadata": {},
          "output_type": "execute_result"
        }
      ],
      "source": [
        "bt.CellLine.public().search(\"K562\")"
      ]
    },
    {
      "cell_type": "code",
      "execution_count": 53,
      "metadata": {},
      "outputs": [],
      "source": [
        "bt.CellLine.from_public(ontology_id=\"CLO:0007050\").save()"
      ]
    },
    {
      "cell_type": "code",
      "execution_count": 54,
      "metadata": {},
      "outputs": [],
      "source": [
        "adata_validated.obs[\"cell_line\"].replace({\"K562\": \"K 562 cell\"}, inplace=True)"
      ]
    },
    {
      "cell_type": "code",
      "execution_count": 55,
      "metadata": {},
      "outputs": [
        {
          "name": "stdout",
          "output_type": "stream",
          "text": [
            "✅ \u001b[1;92m1 term\u001b[0m (100.00%) is validated for \u001b[3mname\u001b[0m\n"
          ]
        },
        {
          "data": {
            "text/plain": [
              "array([ True,  True,  True, ...,  True,  True,  True])"
            ]
          },
          "execution_count": 55,
          "metadata": {},
          "output_type": "execute_result"
        }
      ],
      "source": [
        "bt.CellLine.validate(adata_validated.obs[\"cell_line\"])"
      ]
    },
    {
      "cell_type": "markdown",
      "metadata": {},
      "source": [
        "### Artifact"
      ]
    },
    {
      "cell_type": "code",
      "execution_count": 57,
      "metadata": {},
      "outputs": [
        {
          "name": "stderr",
          "output_type": "stream",
          "text": [
            "... storing 'tissue' as categorical\n",
            "... storing 'assay' as categorical\n"
          ]
        },
        {
          "name": "stdout",
          "output_type": "stream",
          "text": [
            "❗ returning existing artifact with same hash: Artifact(uid='wKorZVw6I2Q1jYT58YoD', suffix='.h5ad', accessor='AnnData', description=' A Multiplexed Single-Cell CRISPR Screening Platform Enables Systematic Dissection of the Unfolded Protein Response', size=121155800, hash='wcneYR239Uu3EdmjHMXGkV', hash_type='sha1-fl', visibility=1, key_is_virtual=True, updated_at=2024-02-23 15:11:54 UTC, storage_id=1, transform_id=2, run_id=2, created_by_id=1)\n"
          ]
        }
      ],
      "source": [
        "adamson_2016_artifact = ln.Artifact.from_anndata(\n",
        "    adata_validated,\n",
        "    description=\" A Multiplexed Single-Cell CRISPR Screening Platform Enables Systematic Dissection of the Unfolded Protein Response\",\n",
        ")"
      ]
    },
    {
      "cell_type": "code",
      "execution_count": 58,
      "metadata": {},
      "outputs": [],
      "source": [
        "adamson_2016_artifact.save()"
      ]
    },
    {
      "cell_type": "code",
      "execution_count": 59,
      "metadata": {},
      "outputs": [
        {
          "name": "stdout",
          "output_type": "stream",
          "text": [
            "\u001b[1;92mArtifact\u001b[0m(uid='wKorZVw6I2Q1jYT58YoD', suffix='.h5ad', accessor='AnnData', description=' A Multiplexed Single-Cell CRISPR Screening Platform Enables Systematic Dissection of the Unfolded Protein Response', size=121155800, hash='wcneYR239Uu3EdmjHMXGkV', hash_type='sha1-fl', visibility=1, key_is_virtual=True, updated_at=2024-03-06 11:22:26 UTC)\n",
            "\n",
            "\u001b[1;92mProvenance\u001b[0m:\n",
            "  🗃️ storage: Storage(uid='AfSvCrAD', root='s3://pertpy-datasets', type='s3', region='us-east-1', updated_at=2024-02-22 10:20:35 UTC, created_by_id=1)\n",
            "  📔 transform: Transform(uid='SopQ4f7mdZaG5zKv', name='Adamson 2016', short_name='adamson_2016_pure_lamin', version='1', type='notebook', updated_at=2024-02-23 13:44:35 UTC, created_by_id=1)\n",
            "  👣 run: Run(uid='eQOmVTZMdEukdBz4x3Qk', run_at=2024-03-06 11:07:00 UTC, transform_id=2, created_by_id=1)\n",
            "  👤 created_by: User(uid='I5DPZdiE', handle='zethson', updated_at=2024-02-22 10:20:35 UTC)\n",
            "\u001b[1;92mFeatures\u001b[0m:\n",
            "  \u001b[1mvar\u001b[0m: FeatureSet(uid='f5TK2PmnzRyWl8YTWVMV', n=32106, type='number', registry='bionty.Gene', hash='M7wMQkmUo_8p-8xphz2p', updated_at=2024-02-23 15:11:53 UTC, created_by_id=1)\n",
            "    'TSPAN6', 'TNMD', 'DPM1', 'SCYL3', 'C1orf112', 'FGR', 'CFH', 'FUCA2', 'GCLC', 'NFYA', 'STPG1', 'NIPAL3', 'LAS1L', 'ENPP4', 'SEMA3F', 'CFTR', 'ANKIB1', 'CYP51A1', 'KRIT1', 'RAD52', ...\n",
            "  \u001b[1mobs\u001b[0m: FeatureSet(uid='ML1uYkFYTE7fU8T78kvf', n=1, registry='core.Feature', hash='1DxW71LIDcnKmacy9fbj', updated_at=2024-02-23 15:11:54 UTC, created_by_id=1)\n",
            "    perturbation (category)\n",
            "\n"
          ]
        }
      ],
      "source": [
        "adamson_2016_artifact.describe()"
      ]
    },
    {
      "cell_type": "code",
      "execution_count": 62,
      "metadata": {},
      "outputs": [],
      "source": [
        "adata.obs.rename(columns={\"ncounts\": \"n_counts\",\n",
        "                          \"ngenes\": \"n_genes\",\n",
        "                          \"nperts\": \"n_perts\"}, inplace=True)"
      ]
    },
    {
      "cell_type": "code",
      "execution_count": 88,
      "metadata": {},
      "outputs": [
        {
          "name": "stdout",
          "output_type": "stream",
          "text": [
            "❗ record with similar name exist! did you mean to load it?\n"
          ]
        },
        {
          "data": {
            "text/html": [
              "<div>\n",
              "<style scoped>\n",
              "    .dataframe tbody tr th:only-of-type {\n",
              "        vertical-align: middle;\n",
              "    }\n",
              "\n",
              "    .dataframe tbody tr th {\n",
              "        vertical-align: top;\n",
              "    }\n",
              "\n",
              "    .dataframe thead th {\n",
              "        text-align: right;\n",
              "    }\n",
              "</style>\n",
              "<table border=\"1\" class=\"dataframe\">\n",
              "  <thead>\n",
              "    <tr style=\"text-align: right;\">\n",
              "      <th></th>\n",
              "      <th>uid</th>\n",
              "      <th>synonyms</th>\n",
              "      <th>score</th>\n",
              "    </tr>\n",
              "    <tr>\n",
              "      <th>name</th>\n",
              "      <th></th>\n",
              "      <th></th>\n",
              "      <th></th>\n",
              "    </tr>\n",
              "  </thead>\n",
              "  <tbody>\n",
              "    <tr>\n",
              "      <th>celltype</th>\n",
              "      <td>LOvPfhpB5xjA</td>\n",
              "      <td></td>\n",
              "      <td>94.1</td>\n",
              "    </tr>\n",
              "  </tbody>\n",
              "</table>\n",
              "</div>"
            ],
            "text/plain": [
              "                   uid synonyms  score\n",
              "name                                  \n",
              "celltype  LOvPfhpB5xjA            94.1"
            ]
          },
          "metadata": {},
          "output_type": "display_data"
        },
        {
          "name": "stdout",
          "output_type": "stream",
          "text": [
            "❗ record with similar name exist! did you mean to load it?\n"
          ]
        },
        {
          "data": {
            "text/html": [
              "<div>\n",
              "<style scoped>\n",
              "    .dataframe tbody tr th:only-of-type {\n",
              "        vertical-align: middle;\n",
              "    }\n",
              "\n",
              "    .dataframe tbody tr th {\n",
              "        vertical-align: top;\n",
              "    }\n",
              "\n",
              "    .dataframe thead th {\n",
              "        text-align: right;\n",
              "    }\n",
              "</style>\n",
              "<table border=\"1\" class=\"dataframe\">\n",
              "  <thead>\n",
              "    <tr style=\"text-align: right;\">\n",
              "      <th></th>\n",
              "      <th>uid</th>\n",
              "      <th>synonyms</th>\n",
              "      <th>score</th>\n",
              "    </tr>\n",
              "    <tr>\n",
              "      <th>name</th>\n",
              "      <th></th>\n",
              "      <th></th>\n",
              "      <th></th>\n",
              "    </tr>\n",
              "  </thead>\n",
              "  <tbody>\n",
              "    <tr>\n",
              "      <th>n_counts</th>\n",
              "      <td>MIanRZlLCbpk</td>\n",
              "      <td></td>\n",
              "      <td>93.3</td>\n",
              "    </tr>\n",
              "  </tbody>\n",
              "</table>\n",
              "</div>"
            ],
            "text/plain": [
              "                   uid synonyms  score\n",
              "name                                  \n",
              "n_counts  MIanRZlLCbpk            93.3"
            ]
          },
          "metadata": {},
          "output_type": "display_data"
        },
        {
          "name": "stdout",
          "output_type": "stream",
          "text": [
            "❗ record with similar name exist! did you mean to load it?\n"
          ]
        },
        {
          "data": {
            "text/html": [
              "<div>\n",
              "<style scoped>\n",
              "    .dataframe tbody tr th:only-of-type {\n",
              "        vertical-align: middle;\n",
              "    }\n",
              "\n",
              "    .dataframe tbody tr th {\n",
              "        vertical-align: top;\n",
              "    }\n",
              "\n",
              "    .dataframe thead th {\n",
              "        text-align: right;\n",
              "    }\n",
              "</style>\n",
              "<table border=\"1\" class=\"dataframe\">\n",
              "  <thead>\n",
              "    <tr style=\"text-align: right;\">\n",
              "      <th></th>\n",
              "      <th>uid</th>\n",
              "      <th>synonyms</th>\n",
              "      <th>score</th>\n",
              "    </tr>\n",
              "    <tr>\n",
              "      <th>name</th>\n",
              "      <th></th>\n",
              "      <th></th>\n",
              "      <th></th>\n",
              "    </tr>\n",
              "  </thead>\n",
              "  <tbody>\n",
              "    <tr>\n",
              "      <th>n_genes</th>\n",
              "      <td>s6nJE4GIUoCd</td>\n",
              "      <td></td>\n",
              "      <td>92.3</td>\n",
              "    </tr>\n",
              "  </tbody>\n",
              "</table>\n",
              "</div>"
            ],
            "text/plain": [
              "                  uid synonyms  score\n",
              "name                                 \n",
              "n_genes  s6nJE4GIUoCd            92.3"
            ]
          },
          "metadata": {},
          "output_type": "display_data"
        },
        {
          "name": "stdout",
          "output_type": "stream",
          "text": [
            "❗ record with similar name exist! did you mean to load it?\n"
          ]
        },
        {
          "data": {
            "text/html": [
              "<div>\n",
              "<style scoped>\n",
              "    .dataframe tbody tr th:only-of-type {\n",
              "        vertical-align: middle;\n",
              "    }\n",
              "\n",
              "    .dataframe tbody tr th {\n",
              "        vertical-align: top;\n",
              "    }\n",
              "\n",
              "    .dataframe thead th {\n",
              "        text-align: right;\n",
              "    }\n",
              "</style>\n",
              "<table border=\"1\" class=\"dataframe\">\n",
              "  <thead>\n",
              "    <tr style=\"text-align: right;\">\n",
              "      <th></th>\n",
              "      <th>uid</th>\n",
              "      <th>synonyms</th>\n",
              "      <th>score</th>\n",
              "    </tr>\n",
              "    <tr>\n",
              "      <th>name</th>\n",
              "      <th></th>\n",
              "      <th></th>\n",
              "      <th></th>\n",
              "    </tr>\n",
              "  </thead>\n",
              "  <tbody>\n",
              "    <tr>\n",
              "      <th>n_perts</th>\n",
              "      <td>pcoxaovfHQ6x</td>\n",
              "      <td></td>\n",
              "      <td>92.3</td>\n",
              "    </tr>\n",
              "  </tbody>\n",
              "</table>\n",
              "</div>"
            ],
            "text/plain": [
              "                  uid synonyms  score\n",
              "name                                 \n",
              "n_perts  pcoxaovfHQ6x            92.3"
            ]
          },
          "metadata": {},
          "output_type": "display_data"
        }
      ],
      "source": [
        "meta = ln.Feature.from_df(adata_validated.obs)\n",
        "ln.save(meta)\n",
        "adamson_2016_artifact.features.add(meta, slot=\"obs\")"
      ]
    },
    {
      "cell_type": "code",
      "execution_count": 89,
      "metadata": {},
      "outputs": [
        {
          "name": "stdout",
          "output_type": "stream",
          "text": [
            "💡 nothing links to it anymore, deleting feature set FeatureSet(uid='EKSQcEX7OI6QJmtpzmin', n=2, registry='core.Feature', hash='7gdRSyK3ZX96b7MgEY1r', updated_at=2024-03-06 14:05:04 UTC, created_by_id=1)\n",
            "✅ linked new feature 'celltype' together with new feature set FeatureSet(uid='6ohcCYzUA6KGOymlmxOL', n=3, registry='core.Feature', hash='a2DF0C0oX4rzectOKWru', updated_at=2024-03-06 14:05:42 UTC, created_by_id=1)\n",
            "✅ linked feature 'assay' to registry 'bionty.ExperimentalFactor'\n",
            "✅ linked feature 'treatment' to registry 'core.ULabel'\n",
            "💡 nothing links to it anymore, deleting feature set FeatureSet(uid='6ohcCYzUA6KGOymlmxOL', n=3, registry='core.Feature', hash='a2DF0C0oX4rzectOKWru', updated_at=2024-03-06 14:05:42 UTC, created_by_id=1)\n",
            "✅ linked new feature 'treatment' together with new feature set FeatureSet(uid='KEkFqjPdCyqQXMPt0oOO', n=4, registry='core.Feature', hash='7rhXnsf6ac2DWRQI_ZgY', updated_at=2024-03-06 14:05:43 UTC, created_by_id=1)\n"
          ]
        }
      ],
      "source": [
        "features = ln.Feature.lookup()\n",
        "experimental_factors = bt.ExperimentalFactor.lookup()\n",
        "\n",
        "# These already have linked registries (see setup) so we can use the string values directly\n",
        "adamson_2016_artifact.labels.add(adata_validated.obs.cell_type, features.celltype)\n",
        "adamson_2016_artifact.labels.add(adata_validated.obs.organism, features.organism)\n",
        "adamson_2016_artifact.labels.add(adata_validated.obs.tissue, features.tissue)\n",
        "adamson_2016_artifact.labels.add(adata_validated.obs.disease, features.disease)\n",
        "adamson_2016_artifact.labels.add(adata_validated.obs.cell_line, features.cellline)\n",
        "adamson_2016_artifact.labels.add(\n",
        "    experimental_factors.single_cell_rna_sequencing, feature=features.assay\n",
        ")\n",
        "\n",
        "# These labels do not have linked registries so we need to create actual Label registry objects\n",
        "adamson_2016_artifact.labels.add(ln.ULabel.from_values(adata_validated.obs.perturbation.values), features.perturbation)\n",
        "adamson_2016_artifact.labels.add(ln.ULabel.from_values(adata_validated.obs.perturbation_type.values), features.treatment)"
      ]
    },
    {
      "cell_type": "code",
      "execution_count": 90,
      "metadata": {},
      "outputs": [
        {
          "name": "stdout",
          "output_type": "stream",
          "text": [
            "\u001b[1;92mArtifact\u001b[0m(uid='wKorZVw6I2Q1jYT58YoD', suffix='.h5ad', accessor='AnnData', description=' A Multiplexed Single-Cell CRISPR Screening Platform Enables Systematic Dissection of the Unfolded Protein Response', size=121155800, hash='wcneYR239Uu3EdmjHMXGkV', hash_type='sha1-fl', visibility=1, key_is_virtual=True, updated_at=2024-03-06 11:22:26 UTC)\n",
            "\n",
            "\u001b[1;92mProvenance\u001b[0m:\n",
            "  🗃️ storage: Storage(uid='AfSvCrAD', root='s3://pertpy-datasets', type='s3', region='us-east-1', updated_at=2024-02-22 10:20:35 UTC, created_by_id=1)\n",
            "  📔 transform: Transform(uid='SopQ4f7mdZaG5zKv', name='Adamson 2016', short_name='adamson_2016_pure_lamin', version='1', type='notebook', updated_at=2024-02-23 13:44:35 UTC, created_by_id=1)\n",
            "  👣 run: Run(uid='eQOmVTZMdEukdBz4x3Qk', run_at=2024-03-06 11:07:00 UTC, transform_id=2, created_by_id=1)\n",
            "  👤 created_by: User(uid='I5DPZdiE', handle='zethson', updated_at=2024-02-22 10:20:35 UTC)\n",
            "\u001b[1;92mFeatures\u001b[0m:\n",
            "  \u001b[1mvar\u001b[0m: FeatureSet(uid='f5TK2PmnzRyWl8YTWVMV', n=32106, type='number', registry='bionty.Gene', hash='M7wMQkmUo_8p-8xphz2p', updated_at=2024-02-23 15:11:53 UTC, created_by_id=1)\n",
            "    'TSPAN6', 'TNMD', 'DPM1', 'SCYL3', 'C1orf112', 'FGR', 'CFH', 'FUCA2', 'GCLC', 'NFYA', 'STPG1', 'NIPAL3', 'LAS1L', 'ENPP4', 'SEMA3F', 'CFTR', 'ANKIB1', 'CYP51A1', 'KRIT1', 'RAD52', ...\n",
            "  \u001b[1mobs\u001b[0m: FeatureSet(uid='BC9Qdc5oVX6CWouKGzrh', n=16, registry='core.Feature', hash='CftwFghIKLyrnjwy1K-v', updated_at=2024-03-06 14:05:32 UTC, created_by_id=1)\n",
            "    🔗 perturbation (9, \u001b[3mcore.ULabel\u001b[0m): '62(mod)_pBA581', '*', 'BHLHE40_pDS258', 'CREB1_pDS269', 'DDIT3_pDS263', 'EP300_pDS268', 'SNAI1_pDS266', 'SPI1_pDS255', 'ZNF326_pDS262'\n",
            "    🔗 organism (1, \u001b[3mbionty.Organism\u001b[0m): 'human'\n",
            "    🔗 tissue (1, \u001b[3mbionty.Tissue\u001b[0m): 'bone marrow'\n",
            "    🔗 disease (1, \u001b[3mbionty.Disease\u001b[0m): 'chronic myelogenous leukemia, BCR-ABL1 positive'\n",
            "    read count (number)\n",
            "    UMI count (number)\n",
            "    cell_line (category)\n",
            "    cancer (bool)\n",
            "    perturbation_type (category)\n",
            "    percent_mito (number)\n",
            "    percent_ribo (number)\n",
            "    cell_type (category)\n",
            "    ncounts (number)\n",
            "    ngenes (number)\n",
            "    nperts (number)\n",
            "    🔗 assay (1, \u001b[3mbionty.ExperimentalFactor\u001b[0m): 'single-cell RNA sequencing'\n",
            "  \u001b[1mexternal\u001b[0m: FeatureSet(uid='KEkFqjPdCyqQXMPt0oOO', n=4, registry='core.Feature', hash='7rhXnsf6ac2DWRQI_ZgY', updated_at=2024-03-06 14:05:43 UTC, created_by_id=1)\n",
            "    🔗 treatment (1, \u001b[3mcore.ULabel\u001b[0m): 'CRISPR'\n",
            "    🔗 celltype (1, \u001b[3mbionty.CellType\u001b[0m): 'lymphoblast'\n",
            "    🔗 tissue (1, \u001b[3mbionty.Tissue\u001b[0m): 'bone marrow'\n",
            "    🔗 cellline (1, \u001b[3mbionty.CellLine\u001b[0m): 'K 562 cell'\n",
            "\u001b[1;92mLabels\u001b[0m:\n",
            "  🏷️ organism (1, \u001b[3mbionty.Organism\u001b[0m): 'human'\n",
            "  🏷️ tissues (1, \u001b[3mbionty.Tissue\u001b[0m): 'bone marrow'\n",
            "  🏷️ cell_types (1, \u001b[3mbionty.CellType\u001b[0m): 'lymphoblast'\n",
            "  🏷️ diseases (1, \u001b[3mbionty.Disease\u001b[0m): 'chronic myelogenous leukemia, BCR-ABL1 positive'\n",
            "  🏷️ cell_lines (1, \u001b[3mbionty.CellLine\u001b[0m): 'K 562 cell'\n",
            "  🏷️ experimental_factors (1, \u001b[3mbionty.ExperimentalFactor\u001b[0m): 'single-cell RNA sequencing'\n",
            "  🏷️ ulabels (10, \u001b[3mcore.ULabel\u001b[0m): 'CRISPR', '62(mod)_pBA581', '*', 'BHLHE40_pDS258', 'CREB1_pDS269', 'DDIT3_pDS263', 'EP300_pDS268', 'SNAI1_pDS266', 'SPI1_pDS255', 'ZNF326_pDS262'\n",
            "\n"
          ]
        }
      ],
      "source": [
        "adamson_2016_artifact.describe()"
      ]
    },
    {
      "cell_type": "code",
      "execution_count": 95,
      "metadata": {},
      "outputs": [
        {
          "name": "stdout",
          "output_type": "stream",
          "text": [
            "\u001b[1;92mArtifact\u001b[0m(uid='wKorZVw6I2Q1jYT58YoD', suffix='.h5ad', accessor='AnnData', description=' A Multiplexed Single-Cell CRISPR Screening Platform Enables Systematic Dissection of the Unfolded Protein Response', size=121155800, hash='wcneYR239Uu3EdmjHMXGkV', hash_type='sha1-fl', visibility=1, key_is_virtual=True, updated_at=2024-03-06 11:22:26 UTC)\n",
            "\n",
            "\u001b[1;92mProvenance\u001b[0m:\n",
            "  🗃️ storage: Storage(uid='AfSvCrAD', root='s3://pertpy-datasets', type='s3', region='us-east-1', updated_at=2024-02-22 10:20:35 UTC, created_by_id=1)\n",
            "  📔 transform: Transform(uid='SopQ4f7mdZaG5zKv', name='Adamson 2016', short_name='adamson_2016_pure_lamin', version='1', type='notebook', updated_at=2024-02-23 13:44:35 UTC, created_by_id=1)\n",
            "  👣 run: Run(uid='eQOmVTZMdEukdBz4x3Qk', run_at=2024-03-06 11:07:00 UTC, transform_id=2, created_by_id=1)\n",
            "  👤 created_by: User(uid='I5DPZdiE', handle='zethson', updated_at=2024-02-22 10:20:35 UTC)\n",
            "\u001b[1;92mFeatures\u001b[0m:\n",
            "  \u001b[1mvar\u001b[0m: FeatureSet(uid='f5TK2PmnzRyWl8YTWVMV', n=32106, type='number', registry='bionty.Gene', hash='M7wMQkmUo_8p-8xphz2p', updated_at=2024-02-23 15:11:53 UTC, created_by_id=1)\n",
            "    'TSPAN6', 'TNMD', 'DPM1', 'SCYL3', 'C1orf112', 'FGR', 'CFH', 'FUCA2', 'GCLC', 'NFYA', 'STPG1', 'NIPAL3', 'LAS1L', 'ENPP4', 'SEMA3F', 'CFTR', 'ANKIB1', 'CYP51A1', 'KRIT1', 'RAD52', ...\n",
            "  \u001b[1mobs\u001b[0m: FeatureSet(uid='BC9Qdc5oVX6CWouKGzrh', n=16, registry='core.Feature', hash='CftwFghIKLyrnjwy1K-v', updated_at=2024-03-06 14:05:32 UTC, created_by_id=1)\n",
            "    🔗 perturbation (9, \u001b[3mcore.ULabel\u001b[0m): '62(mod)_pBA581', '*', 'BHLHE40_pDS258', 'CREB1_pDS269', 'DDIT3_pDS263', 'EP300_pDS268', 'SNAI1_pDS266', 'SPI1_pDS255', 'ZNF326_pDS262'\n",
            "    🔗 organism (1, \u001b[3mbionty.Organism\u001b[0m): 'human'\n",
            "    🔗 tissue (1, \u001b[3mbionty.Tissue\u001b[0m): 'bone marrow'\n",
            "    🔗 disease (1, \u001b[3mbionty.Disease\u001b[0m): 'chronic myelogenous leukemia, BCR-ABL1 positive'\n",
            "    read count (number)\n",
            "    UMI count (number)\n",
            "    cell_line (category)\n",
            "    cancer (bool)\n",
            "    perturbation_type (category)\n",
            "    percent_mito (number)\n",
            "    percent_ribo (number)\n",
            "    cell_type (category)\n",
            "    ncounts (number)\n",
            "    ngenes (number)\n",
            "    nperts (number)\n",
            "    🔗 assay (1, \u001b[3mbionty.ExperimentalFactor\u001b[0m): 'single-cell RNA sequencing'\n",
            "  \u001b[1mexternal\u001b[0m: FeatureSet(uid='KEkFqjPdCyqQXMPt0oOO', n=4, registry='core.Feature', hash='7rhXnsf6ac2DWRQI_ZgY', updated_at=2024-03-06 14:05:43 UTC, created_by_id=1)\n",
            "    🔗 treatment (1, \u001b[3mcore.ULabel\u001b[0m): 'CRISPR'\n",
            "    🔗 celltype (1, \u001b[3mbionty.CellType\u001b[0m): 'lymphoblast'\n",
            "    🔗 tissue (1, \u001b[3mbionty.Tissue\u001b[0m): 'bone marrow'\n",
            "    🔗 cellline (1, \u001b[3mbionty.CellLine\u001b[0m): 'K 562 cell'\n",
            "\u001b[1;92mLabels\u001b[0m:\n",
            "  🏷️ organism (1, \u001b[3mbionty.Organism\u001b[0m): 'human'\n",
            "  🏷️ tissues (1, \u001b[3mbionty.Tissue\u001b[0m): 'bone marrow'\n",
            "  🏷️ cell_types (1, \u001b[3mbionty.CellType\u001b[0m): 'lymphoblast'\n",
            "  🏷️ diseases (1, \u001b[3mbionty.Disease\u001b[0m): 'chronic myelogenous leukemia, BCR-ABL1 positive'\n",
            "  🏷️ cell_lines (1, \u001b[3mbionty.CellLine\u001b[0m): 'K 562 cell'\n",
            "  🏷️ experimental_factors (1, \u001b[3mbionty.ExperimentalFactor\u001b[0m): 'single-cell RNA sequencing'\n",
            "  🏷️ ulabels (10, \u001b[3mcore.ULabel\u001b[0m): 'CRISPR', '62(mod)_pBA581', '*', 'BHLHE40_pDS258', 'CREB1_pDS269', 'DDIT3_pDS263', 'EP300_pDS268', 'SNAI1_pDS266', 'SPI1_pDS255', 'ZNF326_pDS262'\n",
            "\n"
          ]
        }
      ],
      "source": [
        "ln.Artifact.filter().one().describe()"
      ]
    },
    {
      "cell_type": "code",
      "execution_count": null,
      "metadata": {},
      "outputs": [],
      "source": []
    }
  ],
  "metadata": {
    "kernelspec": {
      "display_name": "lamindb",
      "language": "python",
      "name": "python3"
    },
    "language_info": {
      "codemirror_mode": {
        "name": "ipython",
        "version": 3
      },
      "file_extension": ".py",
      "mimetype": "text/x-python",
      "name": "python",
      "nbconvert_exporter": "python",
      "pygments_lexer": "ipython3",
      "version": "3.11.4"
    },
    "nbproject": {
      "id": "SopQ4f7mdZaG",
      "parent": null,
      "pypackage": null,
      "time_init": "2024-02-18T09:42:21.028089+00:00",
      "user_handle": null,
      "user_id": null,
      "user_name": null,
      "version": "1"
    }
  },
  "nbformat": 4,
  "nbformat_minor": 2
}
