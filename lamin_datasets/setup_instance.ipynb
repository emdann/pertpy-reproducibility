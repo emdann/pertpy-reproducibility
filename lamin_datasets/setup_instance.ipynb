{
  "cells": [
    {
      "cell_type": "markdown",
      "metadata": {},
      "source": [
        "# Setup instance"
      ]
    },
    {
      "cell_type": "code",
      "execution_count": 1,
      "metadata": {},
      "outputs": [
        {
          "name": "stdout",
          "output_type": "stream",
          "text": [
            "❗ You are running 3.11.4\n",
            "Only python versions 3.8~3.10 are currently tested, use at your own risk.\n",
            "✅ wrote new records from public sources.yaml to /home/zeth/.lamin/bionty/versions/sources_local.yaml!\n",
            "\n",
            "if you see this message repeatedly, run: bt.reset_sources()\n",
            "💡 lamindb instance: zethson/pertpy-datasets\n"
          ]
        }
      ],
      "source": [
        "import lamindb as ln\n",
        "import bionty as bt"
      ]
    },
    {
      "cell_type": "code",
      "execution_count": 2,
      "metadata": {},
      "outputs": [
        {
          "name": "stdout",
          "output_type": "stream",
          "text": [
            "Current user: zethson\n",
            "- handle: zethson\n",
            "- email: lukas.heumos@posteo.net\n",
            "- uid: I5DPZdiE\n",
            "Current instance: zethson/pertpy-datasets\n",
            "- owner: zethson\n",
            "- name: pertpy-datasets\n",
            "- storage root: s3://pertpy-datasets\n",
            "- storage region: us-east-1\n",
            "- db: sqlite:////home/zeth/.cache/lamindb/pertpy-datasets/2a0613c0ac3f5468933aa88ce801baac.lndb\n",
            "- schema: {'bionty'}\n"
          ]
        }
      ],
      "source": [
        "ln.setup.info()"
      ]
    },
    {
      "cell_type": "code",
      "execution_count": 3,
      "metadata": {},
      "outputs": [
        {
          "name": "stdout",
          "output_type": "stream",
          "text": [
            "💡 notebook imports: bionty==0.40.3 lamindb==0.67.3\n",
            "💡 loaded: Transform(uid='IZrb3b3wZsRm5zKv', name='Setup instance', short_name='setup_instance', version='1', type='notebook', updated_at=2024-02-22 10:58:10 UTC, created_by_id=1)\n",
            "💡 loaded: Run(uid='Rj6hFKOqDZ9T1O490Nei', run_at=2024-03-01 09:02:33 UTC, transform_id=1, created_by_id=1)\n"
          ]
        }
      ],
      "source": [
        "ln.track()"
      ]
    },
    {
      "cell_type": "markdown",
      "metadata": {},
      "source": [
        "## Register used registries"
      ]
    },
    {
      "cell_type": "code",
      "execution_count": 4,
      "metadata": {},
      "outputs": [],
      "source": [
        "bt.Organism.from_public(name=\"human\").save()\n",
        "bt.Organism.from_public(name=\"mouse\").save()"
      ]
    },
    {
      "cell_type": "code",
      "execution_count": 5,
      "metadata": {},
      "outputs": [],
      "source": [
        "for organism in set([\"human\", \"mouse\"]):\n",
        "    ln.save(\n",
        "        bt.Gene.from_values(\n",
        "            bt.Gene.public(organism=organism).df()[\"ensembl_gene_id\"],\n",
        "            field=\"ensembl_gene_id\",\n",
        "            organism=organism,\n",
        "        )\n",
        "    )"
      ]
    },
    {
      "cell_type": "code",
      "execution_count": 15,
      "metadata": {},
      "outputs": [],
      "source": [
        "entities = [bt.CellType, bt.ExperimentalFactor, bt.Tissue, bt.CellLine, bt.DevelopmentalStage, bt.Disease, bt.Pathway, bt.Phenotype]\n",
        "for entity in entities:\n",
        "    ln.save(entity.from_values(list(entity.public().df().index), field=\"ontology_id\"))\n",
        "    ln.Feature(name=entity.__name__.lower(), type=\"category\", registries=[entity]).save()"
      ]
    }
  ],
  "metadata": {
    "kernelspec": {
      "display_name": "lamindb",
      "language": "python",
      "name": "python3"
    },
    "language_info": {
      "codemirror_mode": {
        "name": "ipython",
        "version": 3
      },
      "file_extension": ".py",
      "mimetype": "text/x-python",
      "name": "python",
      "nbconvert_exporter": "python",
      "pygments_lexer": "ipython3",
      "version": "3.11.4"
    },
    "nbproject": {
      "id": "IZrb3b3wZsRm",
      "parent": null,
      "pypackage": null,
      "time_init": "2024-02-18T09:19:02.698422+00:00",
      "user_handle": null,
      "user_id": null,
      "user_name": null,
      "version": "1"
    }
  },
  "nbformat": 4,
  "nbformat_minor": 2
}
