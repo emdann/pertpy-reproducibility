{
  "cells": [
    {
      "cell_type": "markdown",
      "metadata": {},
      "source": [
        "# Setup instance"
      ]
    },
    {
      "cell_type": "code",
      "execution_count": 10,
      "metadata": {},
      "outputs": [],
      "source": [
        "import lamindb as ln\n",
        "import bionty as bt"
      ]
    },
    {
      "cell_type": "code",
      "execution_count": 8,
      "metadata": {},
      "outputs": [
        {
          "name": "stdout",
          "output_type": "stream",
          "text": [
            "Current user: zethson\n",
            "- handle: zethson\n",
            "- email: lukas.heumos@posteo.net\n",
            "- uid: I5DPZdiE\n",
            "Current instance: zethson/pertpy-datasets\n",
            "- owner: zethson\n",
            "- name: pertpy-datasets\n",
            "- storage root: s3://pertpy-datasets\n",
            "- storage region: us-east-1\n",
            "- db: sqlite:////home/zeth/.cache/lamindb/pertpy-datasets/2a0613c0ac3f5468933aa88ce801baac.lndb\n",
            "- schema: {'bionty'}\n"
          ]
        }
      ],
      "source": [
        "ln.setup.info()"
      ]
    },
    {
      "cell_type": "code",
      "execution_count": 9,
      "metadata": {},
      "outputs": [
        {
          "name": "stdout",
          "output_type": "stream",
          "text": [
            "💡 notebook imports: lamindb==0.67.3\n",
            "💡 saved: Transform(uid='IZrb3b3wZsRm5zKv', name='Setup instance', short_name='setup_instance', version='1', type=notebook, updated_at=2024-02-18 09:19:10 UTC, created_by_id=1)\n",
            "💡 saved: Run(uid='J6LcAwLPhh2Y5ZxOnb3F', run_at=2024-02-18 09:19:10 UTC, transform_id=1, created_by_id=1)\n"
          ]
        }
      ],
      "source": [
        "ln.track()"
      ]
    },
    {
      "cell_type": "markdown",
      "metadata": {},
      "source": [
        "## Register used registries"
      ]
    },
    {
      "cell_type": "code",
      "execution_count": 13,
      "metadata": {},
      "outputs": [],
      "source": [
        "bt.Organism.from_public(name=\"human\").save()\n",
        "bt.Organism.from_public(name=\"mouse\").save()\n"
      ]
    },
    {
      "cell_type": "code",
      "execution_count": null,
      "metadata": {},
      "outputs": [],
      "source": []
    },
    {
      "cell_type": "code",
      "execution_count": null,
      "metadata": {},
      "outputs": [],
      "source": []
    }
  ],
  "metadata": {
    "kernelspec": {
      "display_name": "lamindb",
      "language": "python",
      "name": "python3"
    },
    "language_info": {
      "codemirror_mode": {
        "name": "ipython",
        "version": 3
      },
      "file_extension": ".py",
      "mimetype": "text/x-python",
      "name": "python",
      "nbconvert_exporter": "python",
      "pygments_lexer": "ipython3",
      "version": "3.11.7"
    },
    "nbproject": {
      "id": "IZrb3b3wZsRm",
      "parent": null,
      "pypackage": null,
      "time_init": "2024-02-18T09:19:02.698422+00:00",
      "user_handle": null,
      "user_id": null,
      "user_name": null,
      "version": "1"
    }
  },
  "nbformat": 4,
  "nbformat_minor": 2
}
