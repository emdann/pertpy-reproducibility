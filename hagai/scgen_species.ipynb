{
 "cells": [
  {
   "cell_type": "markdown",
   "id": "e412a6cb-774a-4efc-8428-5dd3902ff17b",
   "metadata": {},
   "source": [
    "# Comparison of different training datasets for scGEN"
   ]
  },
  {
   "cell_type": "code",
   "execution_count": 1,
   "id": "88e2188e-9ff6-4ecc-b383-87a1cd5f5771",
   "metadata": {},
   "outputs": [],
   "source": [
    "import gc\n",
    "import pandas as pd\n",
    "import pertpy as pt\n",
    "import scanpy as sc\n",
    "import numpy as np\n",
    "import seaborn as sns\n",
    "\n",
    "import matplotlib.pyplot as plt\n",
    "from matplotlib import rcParams\n",
    "from pertpy.tools._metrics_3g import compare_dist, compare_de\n",
    "\n",
    "from scvi._settings import ScviConfig\n",
    "config=ScviConfig()"
   ]
  },
  {
   "cell_type": "markdown",
   "id": "9f331776-d685-4ae4-b0c6-65918630d520",
   "metadata": {},
   "source": [
    "## Prepare data\n",
    "Download train_species and valid_species from https://drive.google.com/drive/folders/1v3qySFECxtqWLRhRTSbfQDFqdUCAXql3 (data reproducibility for scGEN) and merge them into single AnnData object."
   ]
  },
  {
   "cell_type": "code",
   "execution_count": 3,
   "id": "bc6730b0-2727-41f0-ab19-44cff34131ba",
   "metadata": {},
   "outputs": [
    {
     "data": {
      "text/plain": [
       "AnnData object with n_obs × n_vars = 77642 × 6619\n",
       "    obs: 'condition', 'species', 'individual', 'batch', 'louvain', 'n_counts'\n",
       "    obsm: 'X_pca', 'X_umap'"
      ]
     },
     "execution_count": 3,
     "metadata": {},
     "output_type": "execute_result"
    }
   ],
   "source": [
    "# Load and prepare datasets from the scGEN paper\n",
    "adata=sc.concat([\n",
    "    sc.read('scgen_data/train_species.h5ad'),sc.read('scgen_data/valid_species.h5ad')\n",
    "])\n",
    "adata.X=np.array(adata.X.todense())\n",
    "adata"
   ]
  },
  {
   "cell_type": "code",
   "execution_count": 4,
   "id": "43832711-09c6-496b-952f-ee6b42746499",
   "metadata": {
    "tags": []
   },
   "outputs": [
    {
     "data": {
      "text/html": [
       "<div>\n",
       "<style scoped>\n",
       "    .dataframe tbody tr th:only-of-type {\n",
       "        vertical-align: middle;\n",
       "    }\n",
       "\n",
       "    .dataframe tbody tr th {\n",
       "        vertical-align: top;\n",
       "    }\n",
       "\n",
       "    .dataframe thead th {\n",
       "        text-align: right;\n",
       "    }\n",
       "</style>\n",
       "<table border=\"1\" class=\"dataframe\">\n",
       "  <thead>\n",
       "    <tr style=\"text-align: right;\">\n",
       "      <th>species</th>\n",
       "      <th>mouse</th>\n",
       "      <th>pig</th>\n",
       "      <th>rabbit</th>\n",
       "      <th>rat</th>\n",
       "    </tr>\n",
       "    <tr>\n",
       "      <th>condition</th>\n",
       "      <th></th>\n",
       "      <th></th>\n",
       "      <th></th>\n",
       "      <th></th>\n",
       "    </tr>\n",
       "  </thead>\n",
       "  <tbody>\n",
       "    <tr>\n",
       "      <th>LPS6</th>\n",
       "      <td>9310</td>\n",
       "      <td>6031</td>\n",
       "      <td>8930</td>\n",
       "      <td>11743</td>\n",
       "    </tr>\n",
       "    <tr>\n",
       "      <th>unst</th>\n",
       "      <td>9515</td>\n",
       "      <td>10587</td>\n",
       "      <td>11088</td>\n",
       "      <td>10438</td>\n",
       "    </tr>\n",
       "  </tbody>\n",
       "</table>\n",
       "</div>"
      ],
      "text/plain": [
       "species    mouse    pig  rabbit    rat\n",
       "condition                             \n",
       "LPS6        9310   6031    8930  11743\n",
       "unst        9515  10587   11088  10438"
      ]
     },
     "execution_count": 4,
     "metadata": {},
     "output_type": "execute_result"
    }
   ],
   "source": [
    "pd.crosstab(adata.obs.condition,adata.obs.species)"
   ]
  },
  {
   "cell_type": "markdown",
   "id": "8322c458-58ee-4f00-b6cf-854e5f7f6b01",
   "metadata": {
    "tags": []
   },
   "source": [
    "## Train models\n",
    "Try to predict rat LPS6 from rat control given different training datasets that contain the three other individual species. "
   ]
  },
  {
   "cell_type": "code",
   "execution_count": null,
   "id": "4b7ccaf2-d0c8-42cb-a380-4a865cead6e7",
   "metadata": {
    "collapsed": true,
    "jupyter": {
     "outputs_hidden": true
    },
    "tags": []
   },
   "outputs": [
    {
     "name": "stdout",
     "output_type": "stream",
     "text": [
      "\n",
      " pig\n"
     ]
    },
    {
     "data": {
      "text/html": [
       "<div>\n",
       "<style scoped>\n",
       "    .dataframe tbody tr th:only-of-type {\n",
       "        vertical-align: middle;\n",
       "    }\n",
       "\n",
       "    .dataframe tbody tr th {\n",
       "        vertical-align: top;\n",
       "    }\n",
       "\n",
       "    .dataframe thead th {\n",
       "        text-align: right;\n",
       "    }\n",
       "</style>\n",
       "<table border=\"1\" class=\"dataframe\">\n",
       "  <thead>\n",
       "    <tr style=\"text-align: right;\">\n",
       "      <th>species</th>\n",
       "      <th>pig</th>\n",
       "      <th>rat</th>\n",
       "    </tr>\n",
       "    <tr>\n",
       "      <th>condition</th>\n",
       "      <th></th>\n",
       "      <th></th>\n",
       "    </tr>\n",
       "  </thead>\n",
       "  <tbody>\n",
       "    <tr>\n",
       "      <th>LPS6</th>\n",
       "      <td>6031</td>\n",
       "      <td>0</td>\n",
       "    </tr>\n",
       "    <tr>\n",
       "      <th>unst</th>\n",
       "      <td>10587</td>\n",
       "      <td>10438</td>\n",
       "    </tr>\n",
       "  </tbody>\n",
       "</table>\n",
       "</div>"
      ],
      "text/plain": [
       "species      pig    rat\n",
       "condition              \n",
       "LPS6        6031      0\n",
       "unst       10587  10438"
      ]
     },
     "metadata": {},
     "output_type": "display_data"
    },
    {
     "name": "stderr",
     "output_type": "stream",
     "text": [
      "[rank: 0] Global seed set to 0\n",
      "GPU available: True (cuda), used: False\n",
      "TPU available: False, using: 0 TPU cores\n",
      "IPU available: False, using: 0 IPUs\n",
      "HPU available: False, using: 0 HPUs\n"
     ]
    },
    {
     "name": "stdout",
     "output_type": "stream",
     "text": [
      "Epoch 100/100: 100%|██████████| 100/100 [1:00:20<00:00, 35.89s/it, v_num=1, train_loss_step=6.35e+3, train_loss_epoch=2.6e+4]"
     ]
    },
    {
     "name": "stderr",
     "output_type": "stream",
     "text": [
      "`Trainer.fit` stopped: `max_epochs=100` reached.\n"
     ]
    },
    {
     "name": "stdout",
     "output_type": "stream",
     "text": [
      "Epoch 100/100: 100%|██████████| 100/100 [1:00:20<00:00, 36.20s/it, v_num=1, train_loss_step=6.35e+3, train_loss_epoch=2.6e+4]\n",
      "\u001b[34mINFO    \u001b[0m Received view of anndata, making copy.                                                                    \n",
      "\u001b[34mINFO    \u001b[0m Input AnnData not setup with scvi-tools. attempting to transfer AnnData setup                             \n",
      "\u001b[34mINFO    \u001b[0m Received view of anndata, making copy.                                                                    \n",
      "\u001b[34mINFO    \u001b[0m Input AnnData not setup with scvi-tools. attempting to transfer AnnData setup                             \n",
      "\u001b[34mINFO    \u001b[0m Received view of anndata, making copy.                                                                    \n",
      "\u001b[34mINFO    \u001b[0m Input AnnData not setup with scvi-tools. attempting to transfer AnnData setup                             \n"
     ]
    },
    {
     "name": "stderr",
     "output_type": "stream",
     "text": [
      "[rank: 0] Global seed set to 1\n",
      "GPU available: True (cuda), used: False\n",
      "TPU available: False, using: 0 TPU cores\n",
      "IPU available: False, using: 0 IPUs\n",
      "HPU available: False, using: 0 HPUs\n"
     ]
    },
    {
     "name": "stdout",
     "output_type": "stream",
     "text": [
      "Epoch 100/100: 100%|██████████| 100/100 [1:00:06<00:00, 35.63s/it, v_num=1, train_loss_step=7.21e+3, train_loss_epoch=2.6e+4]"
     ]
    },
    {
     "name": "stderr",
     "output_type": "stream",
     "text": [
      "`Trainer.fit` stopped: `max_epochs=100` reached.\n"
     ]
    },
    {
     "name": "stdout",
     "output_type": "stream",
     "text": [
      "Epoch 100/100: 100%|██████████| 100/100 [1:00:06<00:00, 36.07s/it, v_num=1, train_loss_step=7.21e+3, train_loss_epoch=2.6e+4]\n",
      "\u001b[34mINFO    \u001b[0m Received view of anndata, making copy.                                                                    \n",
      "\u001b[34mINFO    \u001b[0m Input AnnData not setup with scvi-tools. attempting to transfer AnnData setup                             \n",
      "\u001b[34mINFO    \u001b[0m Received view of anndata, making copy.                                                                    \n",
      "\u001b[34mINFO    \u001b[0m Input AnnData not setup with scvi-tools. attempting to transfer AnnData setup                             \n",
      "\u001b[34mINFO    \u001b[0m Received view of anndata, making copy.                                                                    \n",
      "\u001b[34mINFO    \u001b[0m Input AnnData not setup with scvi-tools. attempting to transfer AnnData setup                             \n"
     ]
    },
    {
     "name": "stderr",
     "output_type": "stream",
     "text": [
      "[rank: 0] Global seed set to 2\n",
      "GPU available: True (cuda), used: False\n",
      "TPU available: False, using: 0 TPU cores\n",
      "IPU available: False, using: 0 IPUs\n",
      "HPU available: False, using: 0 HPUs\n"
     ]
    },
    {
     "name": "stdout",
     "output_type": "stream",
     "text": [
      "Epoch 100/100: 100%|██████████| 100/100 [59:58<00:00, 35.96s/it, v_num=1, train_loss_step=6.3e+3, train_loss_epoch=2.6e+4] "
     ]
    },
    {
     "name": "stderr",
     "output_type": "stream",
     "text": [
      "`Trainer.fit` stopped: `max_epochs=100` reached.\n"
     ]
    },
    {
     "name": "stdout",
     "output_type": "stream",
     "text": [
      "Epoch 100/100: 100%|██████████| 100/100 [59:58<00:00, 35.99s/it, v_num=1, train_loss_step=6.3e+3, train_loss_epoch=2.6e+4]\n",
      "\u001b[34mINFO    \u001b[0m Received view of anndata, making copy.                                                                    \n",
      "\u001b[34mINFO    \u001b[0m Input AnnData not setup with scvi-tools. attempting to transfer AnnData setup                             \n",
      "\u001b[34mINFO    \u001b[0m Received view of anndata, making copy.                                                                    \n",
      "\u001b[34mINFO    \u001b[0m Input AnnData not setup with scvi-tools. attempting to transfer AnnData setup                             \n",
      "\u001b[34mINFO    \u001b[0m Received view of anndata, making copy.                                                                    \n",
      "\u001b[34mINFO    \u001b[0m Input AnnData not setup with scvi-tools. attempting to transfer AnnData setup                             \n",
      "\n",
      " mouse\n"
     ]
    },
    {
     "data": {
      "text/html": [
       "<div>\n",
       "<style scoped>\n",
       "    .dataframe tbody tr th:only-of-type {\n",
       "        vertical-align: middle;\n",
       "    }\n",
       "\n",
       "    .dataframe tbody tr th {\n",
       "        vertical-align: top;\n",
       "    }\n",
       "\n",
       "    .dataframe thead th {\n",
       "        text-align: right;\n",
       "    }\n",
       "</style>\n",
       "<table border=\"1\" class=\"dataframe\">\n",
       "  <thead>\n",
       "    <tr style=\"text-align: right;\">\n",
       "      <th>species</th>\n",
       "      <th>mouse</th>\n",
       "      <th>rat</th>\n",
       "    </tr>\n",
       "    <tr>\n",
       "      <th>condition</th>\n",
       "      <th></th>\n",
       "      <th></th>\n",
       "    </tr>\n",
       "  </thead>\n",
       "  <tbody>\n",
       "    <tr>\n",
       "      <th>LPS6</th>\n",
       "      <td>9310</td>\n",
       "      <td>0</td>\n",
       "    </tr>\n",
       "    <tr>\n",
       "      <th>unst</th>\n",
       "      <td>9515</td>\n",
       "      <td>10438</td>\n",
       "    </tr>\n",
       "  </tbody>\n",
       "</table>\n",
       "</div>"
      ],
      "text/plain": [
       "species    mouse    rat\n",
       "condition              \n",
       "LPS6        9310      0\n",
       "unst        9515  10438"
      ]
     },
     "metadata": {},
     "output_type": "display_data"
    },
    {
     "name": "stderr",
     "output_type": "stream",
     "text": [
      "[rank: 0] Global seed set to 0\n",
      "GPU available: True (cuda), used: False\n",
      "TPU available: False, using: 0 TPU cores\n",
      "IPU available: False, using: 0 IPUs\n",
      "HPU available: False, using: 0 HPUs\n"
     ]
    },
    {
     "name": "stdout",
     "output_type": "stream",
     "text": [
      "Epoch 100/100: 100%|██████████| 100/100 [1:03:50<00:00, 38.30s/it, v_num=1, train_loss_step=2.31e+4, train_loss_epoch=3.2e+4]"
     ]
    },
    {
     "name": "stderr",
     "output_type": "stream",
     "text": [
      "`Trainer.fit` stopped: `max_epochs=100` reached.\n"
     ]
    },
    {
     "name": "stdout",
     "output_type": "stream",
     "text": [
      "Epoch 100/100: 100%|██████████| 100/100 [1:03:50<00:00, 38.31s/it, v_num=1, train_loss_step=2.31e+4, train_loss_epoch=3.2e+4]\n",
      "\u001b[34mINFO    \u001b[0m Received view of anndata, making copy.                                                                    \n",
      "\u001b[34mINFO    \u001b[0m Input AnnData not setup with scvi-tools. attempting to transfer AnnData setup                             \n",
      "\u001b[34mINFO    \u001b[0m Received view of anndata, making copy.                                                                    \n",
      "\u001b[34mINFO    \u001b[0m Input AnnData not setup with scvi-tools. attempting to transfer AnnData setup                             \n",
      "\u001b[34mINFO    \u001b[0m Received view of anndata, making copy.                                                                    \n",
      "\u001b[34mINFO    \u001b[0m Input AnnData not setup with scvi-tools. attempting to transfer AnnData setup                             \n"
     ]
    },
    {
     "name": "stderr",
     "output_type": "stream",
     "text": [
      "[rank: 0] Global seed set to 1\n",
      "GPU available: True (cuda), used: False\n",
      "TPU available: False, using: 0 TPU cores\n",
      "IPU available: False, using: 0 IPUs\n",
      "HPU available: False, using: 0 HPUs\n"
     ]
    },
    {
     "name": "stdout",
     "output_type": "stream",
     "text": [
      "Epoch 100/100: 100%|██████████| 100/100 [1:01:48<00:00, 36.50s/it, v_num=1, train_loss_step=2.55e+4, train_loss_epoch=3.19e+4]"
     ]
    },
    {
     "name": "stderr",
     "output_type": "stream",
     "text": [
      "`Trainer.fit` stopped: `max_epochs=100` reached.\n"
     ]
    },
    {
     "name": "stdout",
     "output_type": "stream",
     "text": [
      "Epoch 100/100: 100%|██████████| 100/100 [1:01:48<00:00, 37.09s/it, v_num=1, train_loss_step=2.55e+4, train_loss_epoch=3.19e+4]\n",
      "\u001b[34mINFO    \u001b[0m Received view of anndata, making copy.                                                                    \n",
      "\u001b[34mINFO    \u001b[0m Input AnnData not setup with scvi-tools. attempting to transfer AnnData setup                             \n",
      "\u001b[34mINFO    \u001b[0m Received view of anndata, making copy.                                                                    \n",
      "\u001b[34mINFO    \u001b[0m Input AnnData not setup with scvi-tools. attempting to transfer AnnData setup                             \n",
      "\u001b[34mINFO    \u001b[0m Received view of anndata, making copy.                                                                    \n",
      "\u001b[34mINFO    \u001b[0m Input AnnData not setup with scvi-tools. attempting to transfer AnnData setup                             \n"
     ]
    },
    {
     "name": "stderr",
     "output_type": "stream",
     "text": [
      "[rank: 0] Global seed set to 2\n",
      "GPU available: True (cuda), used: False\n",
      "TPU available: False, using: 0 TPU cores\n",
      "IPU available: False, using: 0 IPUs\n",
      "HPU available: False, using: 0 HPUs\n"
     ]
    },
    {
     "name": "stdout",
     "output_type": "stream",
     "text": [
      "Epoch 100/100: 100%|██████████| 100/100 [1:05:34<00:00, 42.41s/it, v_num=1, train_loss_step=2.28e+4, train_loss_epoch=3.19e+4]"
     ]
    },
    {
     "name": "stderr",
     "output_type": "stream",
     "text": [
      "`Trainer.fit` stopped: `max_epochs=100` reached.\n"
     ]
    },
    {
     "name": "stdout",
     "output_type": "stream",
     "text": [
      "Epoch 100/100: 100%|██████████| 100/100 [1:05:34<00:00, 39.34s/it, v_num=1, train_loss_step=2.28e+4, train_loss_epoch=3.19e+4]\n",
      "\u001b[34mINFO    \u001b[0m Received view of anndata, making copy.                                                                    \n",
      "\u001b[34mINFO    \u001b[0m Input AnnData not setup with scvi-tools. attempting to transfer AnnData setup                             \n",
      "\u001b[34mINFO    \u001b[0m Received view of anndata, making copy.                                                                    \n",
      "\u001b[34mINFO    \u001b[0m Input AnnData not setup with scvi-tools. attempting to transfer AnnData setup                             \n",
      "\u001b[34mINFO    \u001b[0m Received view of anndata, making copy.                                                                    \n",
      "\u001b[34mINFO    \u001b[0m Input AnnData not setup with scvi-tools. attempting to transfer AnnData setup                             \n",
      "\n",
      " rabbit\n"
     ]
    },
    {
     "data": {
      "text/html": [
       "<div>\n",
       "<style scoped>\n",
       "    .dataframe tbody tr th:only-of-type {\n",
       "        vertical-align: middle;\n",
       "    }\n",
       "\n",
       "    .dataframe tbody tr th {\n",
       "        vertical-align: top;\n",
       "    }\n",
       "\n",
       "    .dataframe thead th {\n",
       "        text-align: right;\n",
       "    }\n",
       "</style>\n",
       "<table border=\"1\" class=\"dataframe\">\n",
       "  <thead>\n",
       "    <tr style=\"text-align: right;\">\n",
       "      <th>species</th>\n",
       "      <th>rabbit</th>\n",
       "      <th>rat</th>\n",
       "    </tr>\n",
       "    <tr>\n",
       "      <th>condition</th>\n",
       "      <th></th>\n",
       "      <th></th>\n",
       "    </tr>\n",
       "  </thead>\n",
       "  <tbody>\n",
       "    <tr>\n",
       "      <th>LPS6</th>\n",
       "      <td>8930</td>\n",
       "      <td>0</td>\n",
       "    </tr>\n",
       "    <tr>\n",
       "      <th>unst</th>\n",
       "      <td>11088</td>\n",
       "      <td>10438</td>\n",
       "    </tr>\n",
       "  </tbody>\n",
       "</table>\n",
       "</div>"
      ],
      "text/plain": [
       "species    rabbit    rat\n",
       "condition               \n",
       "LPS6         8930      0\n",
       "unst        11088  10438"
      ]
     },
     "metadata": {},
     "output_type": "display_data"
    },
    {
     "name": "stderr",
     "output_type": "stream",
     "text": [
      "[rank: 0] Global seed set to 0\n",
      "GPU available: True (cuda), used: False\n",
      "TPU available: False, using: 0 TPU cores\n",
      "IPU available: False, using: 0 IPUs\n",
      "HPU available: False, using: 0 HPUs\n"
     ]
    },
    {
     "name": "stdout",
     "output_type": "stream",
     "text": [
      "Epoch 100/100: 100%|██████████| 100/100 [1:19:05<00:00, 47.02s/it, v_num=1, train_loss_step=4.86e+3, train_loss_epoch=3.38e+4]"
     ]
    },
    {
     "name": "stderr",
     "output_type": "stream",
     "text": [
      "`Trainer.fit` stopped: `max_epochs=100` reached.\n"
     ]
    },
    {
     "name": "stdout",
     "output_type": "stream",
     "text": [
      "Epoch 100/100: 100%|██████████| 100/100 [1:19:05<00:00, 47.45s/it, v_num=1, train_loss_step=4.86e+3, train_loss_epoch=3.38e+4]\n",
      "\u001b[34mINFO    \u001b[0m Received view of anndata, making copy.                                                                    \n",
      "\u001b[34mINFO    \u001b[0m Input AnnData not setup with scvi-tools. attempting to transfer AnnData setup                             \n",
      "\u001b[34mINFO    \u001b[0m Received view of anndata, making copy.                                                                    \n",
      "\u001b[34mINFO    \u001b[0m Input AnnData not setup with scvi-tools. attempting to transfer AnnData setup                             \n",
      "\u001b[34mINFO    \u001b[0m Received view of anndata, making copy.                                                                    \n",
      "\u001b[34mINFO    \u001b[0m Input AnnData not setup with scvi-tools. attempting to transfer AnnData setup                             \n"
     ]
    },
    {
     "name": "stderr",
     "output_type": "stream",
     "text": [
      "[rank: 0] Global seed set to 1\n",
      "GPU available: True (cuda), used: False\n",
      "TPU available: False, using: 0 TPU cores\n",
      "IPU available: False, using: 0 IPUs\n",
      "HPU available: False, using: 0 HPUs\n"
     ]
    },
    {
     "name": "stdout",
     "output_type": "stream",
     "text": [
      "Epoch 100/100: 100%|██████████| 100/100 [1:15:22<00:00, 44.73s/it, v_num=1, train_loss_step=5.49e+3, train_loss_epoch=3.38e+4]"
     ]
    },
    {
     "name": "stderr",
     "output_type": "stream",
     "text": [
      "`Trainer.fit` stopped: `max_epochs=100` reached.\n"
     ]
    },
    {
     "name": "stdout",
     "output_type": "stream",
     "text": [
      "Epoch 100/100: 100%|██████████| 100/100 [1:15:22<00:00, 45.22s/it, v_num=1, train_loss_step=5.49e+3, train_loss_epoch=3.38e+4]\n",
      "\u001b[34mINFO    \u001b[0m Received view of anndata, making copy.                                                                    \n",
      "\u001b[34mINFO    \u001b[0m Input AnnData not setup with scvi-tools. attempting to transfer AnnData setup                             \n",
      "\u001b[34mINFO    \u001b[0m Received view of anndata, making copy.                                                                    \n",
      "\u001b[34mINFO    \u001b[0m Input AnnData not setup with scvi-tools. attempting to transfer AnnData setup                             \n",
      "\u001b[34mINFO    \u001b[0m Received view of anndata, making copy.                                                                    \n",
      "\u001b[34mINFO    \u001b[0m Input AnnData not setup with scvi-tools. attempting to transfer AnnData setup                             \n"
     ]
    },
    {
     "name": "stderr",
     "output_type": "stream",
     "text": [
      "[rank: 0] Global seed set to 2\n",
      "GPU available: True (cuda), used: False\n",
      "TPU available: False, using: 0 TPU cores\n",
      "IPU available: False, using: 0 IPUs\n",
      "HPU available: False, using: 0 HPUs\n"
     ]
    },
    {
     "name": "stdout",
     "output_type": "stream",
     "text": [
      "Epoch 100/100: 100%|██████████| 100/100 [1:17:25<00:00, 46.03s/it, v_num=1, train_loss_step=4.13e+3, train_loss_epoch=3.38e+4]"
     ]
    },
    {
     "name": "stderr",
     "output_type": "stream",
     "text": [
      "`Trainer.fit` stopped: `max_epochs=100` reached.\n"
     ]
    },
    {
     "name": "stdout",
     "output_type": "stream",
     "text": [
      "Epoch 100/100: 100%|██████████| 100/100 [1:17:25<00:00, 46.45s/it, v_num=1, train_loss_step=4.13e+3, train_loss_epoch=3.38e+4]\n",
      "\u001b[34mINFO    \u001b[0m Received view of anndata, making copy.                                                                    \n",
      "\u001b[34mINFO    \u001b[0m Input AnnData not setup with scvi-tools. attempting to transfer AnnData setup                             \n",
      "\u001b[34mINFO    \u001b[0m Received view of anndata, making copy.                                                                    \n",
      "\u001b[34mINFO    \u001b[0m Input AnnData not setup with scvi-tools. attempting to transfer AnnData setup                             \n",
      "\u001b[34mINFO    \u001b[0m Received view of anndata, making copy.                                                                    \n"
     ]
    }
   ],
   "source": [
    "pred=dict()\n",
    "for train_species in set(adata.obs.species.unique())-set([\"rat\" ]):\n",
    "    print('\\n',train_species)\n",
    "    adata_sub=adata[\n",
    "        ((adata.obs.species=='rat').values & (adata.obs.condition=='unst').values) |\n",
    "        (adata.obs.species==train_species)\n",
    "        ,:].copy()\n",
    "    display(pd.crosstab(adata_sub.obs.condition,adata_sub.obs.species))\n",
    "    pt.tl.SCGEN.setup_anndata(adata_sub, batch_key=\"condition\", labels_key=\"species\")\n",
    "    # Repeat training with different seeds\n",
    "    for i in range(3):\n",
    "        config.seed=i\n",
    "        scgen_model = pt.tl.SCGEN(adata_sub)\n",
    "        scgen_model.train(\n",
    "            max_epochs=100,\n",
    "            #accelerator=\"auto\",\n",
    "            use_gpu=True\n",
    "        )\n",
    "        scgen_model.save(f\"model_{train_species}_{i}.pt\", overwrite=True)\n",
    "        pred[train_species+'_'+str(i)] = scgen_model.predict(\n",
    "            ctrl_key=\"unst\", stim_key=\"LPS6\", celltype_to_predict=\"rat\")[0]\n",
    "        pred[train_species+'_'+str(i)].write(f\"pred_{train_species}_{i}.h5ad\")\n",
    "        gc.collect()"
   ]
  },
  {
   "cell_type": "markdown",
   "id": "2b436046-5d6a-4111-9942-c3296d6947af",
   "metadata": {},
   "source": [
    "## Metrics\n",
    "Compute different metrics to evaluate prediction performance"
   ]
  },
  {
   "cell_type": "code",
   "execution_count": 5,
   "id": "697212e7-80a6-4fb6-b829-3fd4726b614f",
   "metadata": {
    "tags": []
   },
   "outputs": [],
   "source": [
    "# Compute metrics - not not all used for plot for the paper\n",
    "metrics=[]\n",
    "for train_species,pred_adata in pred.items():\n",
    "    \n",
    "    train_species,seed = train_species.split('_')\n",
    "    metrics_sub={'train_species':train_species}\n",
    "    target=adata[adata.obs.query('condition==\"LPS6\" & species==\"rat\"').index,:].X\n",
    "    predicted=pred_adata.X\n",
    "    reference=adata[adata.obs.query('condition==\"unst\" & species==\"rat\"').index,:].X\n",
    "    \n",
    "    metrics_sub['dist_mean_target']=pt.tl.Distance(metric='euclidean')(target,predicted)\n",
    "    metrics_sub['dist_mean_ref']=pt.tl.Distance(metric='euclidean')(reference,predicted)\n",
    "    \n",
    "    de_result = compare_de(target, predicted, reference, 100, method='wilcoxon')\n",
    "    metrics_sub['deg_shared'] = de_result['shared_top_genes']\n",
    "    metrics_sub['deg_corr'] = de_result['scores_corr']\n",
    "    metrics_sub['deg_ranks_corr'] = de_result['scores_ranks_corr']\n",
    "    \n",
    "    metrics_sub['dist_mean_rel']=compare_dist(target,predicted,reference, kind='scaled')\n",
    "    metrics_sub['dist_distnMeanVar']=pt.tl.Distance(metric='mean_var_distn')(target,predicted)\n",
    "    \n",
    "    metrics.append(metrics_sub)\n",
    "metrics=pd.DataFrame(metrics)\n",
    "metrics.to_csv('metrics.tsv',sep='\\t',index=False)"
   ]
  },
  {
   "cell_type": "code",
   "execution_count": 14,
   "id": "5c4bb2ee-2dba-452b-8560-138217b90ba9",
   "metadata": {
    "tags": []
   },
   "outputs": [
    {
     "data": {
      "image/png": "[encoded data removed]",
      "text/plain": [
       "<Figure size 500x200 with 2 Axes>"
      ]
     },
     "metadata": {
      "needs_background": "light"
     },
     "output_type": "display_data"
    }
   ],
   "source": [
    "# Plot for the paper\n",
    "cols=2\n",
    "fig,axs=plt.subplots(1,cols,figsize=(2.5*cols,2),sharey=True)\n",
    "for idx,(metric, metric_name) in enumerate([\n",
    "    ('deg_ranks_corr','DE scores correlation'),\n",
    "    ('dist_distnMeanVar','Distance of\\nmean-variance distibutions')\n",
    "]):\n",
    "    ax=axs[idx]\n",
    "    sns.swarmplot(y='train_species',x=metric,data=metrics,ax=ax, c='k')\n",
    "    ax.set_xlabel(metric_name)\n",
    "    ax.set_ylabel('Training species')\n",
    "    ax.set(facecolor = (0,0,0,0))\n",
    "    ax.spines['top'].set_visible(False)\n",
    "    ax.spines['right'].set_visible(False)\n",
    "    \n",
    "fig.tight_layout()\n",
    "fig.set(facecolor = (0,0,0,0))\n",
    "plt.subplots_adjust( wspace=0.05)\n",
    "\n",
    "path_fig='figures/metrics-swarm'\n",
    "plt.savefig(path_fig+'.pdf', dpi=300,bbox_inches='tight')\n",
    "plt.savefig(path_fig+'.png',dpi=300,bbox_inches='tight')"
   ]
  }
 ],
 "metadata": {
  "kernelspec": {
   "display_name": "pertpy",
   "language": "python",
   "name": "python3"
  },
  "language_info": {
   "codemirror_mode": {
    "name": "ipython",
    "version": 3
   },
   "file_extension": ".py",
   "mimetype": "text/x-python",
   "name": "python",
   "nbconvert_exporter": "python",
   "pygments_lexer": "ipython3",
   "version": "3.11.4"
  }
 },
 "nbformat": 4,
 "nbformat_minor": 5
}
