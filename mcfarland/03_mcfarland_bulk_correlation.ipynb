{
 "cells": [
  {
   "cell_type": "markdown",
   "source": [
    "# Comparison to bulk RNA-seq data\n",
    "One question we might have after sequencing an in vitro experiment is “How similar are our expression profiles compared to the public database?” To answer this, we generate “pseudobulks” by aggregating counts to the cell-type level and then compare them with bulk RNA-seq data."
   ],
   "metadata": {
    "collapsed": false
   },
   "id": "a4748f9ab9e33e5c"
  },
  {
   "cell_type": "code",
   "execution_count": 1,
   "outputs": [],
   "source": [
    "import warnings\n",
    "warnings.filterwarnings(\"ignore\")\n",
    "\n",
    "from pathlib import Path\n",
    "import sys\n",
    "\n",
    "sys.path.insert(1, str(Path().cwd().parent))\n",
    "import common_config"
   ],
   "metadata": {
    "collapsed": false,
    "ExecuteTime": {
     "end_time": "2024-06-01T09:34:28.720471Z",
     "start_time": "2024-06-01T09:34:26.890750Z"
    }
   },
   "id": "40e0decc969ce09d"
  },
  {
   "cell_type": "code",
   "execution_count": 2,
   "outputs": [],
   "source": [
    "common_config.figure_journal_basic()"
   ],
   "metadata": {
    "collapsed": false,
    "ExecuteTime": {
     "end_time": "2024-06-01T09:34:28.729369Z",
     "start_time": "2024-06-01T09:34:28.722703Z"
    }
   },
   "id": "dbab567b2f2ecc51"
  },
  {
   "cell_type": "code",
   "execution_count": 3,
   "outputs": [
    {
     "name": "stderr",
     "output_type": "stream",
     "text": [
      "OMP: Info #276: omp_set_nested routine deprecated, please use omp_set_max_active_levels instead.\n"
     ]
    }
   ],
   "source": [
    "import pertpy as pt\n",
    "import scanpy as sc\n",
    "import numpy as np\n",
    "import matplotlib.pyplot as plt"
   ],
   "metadata": {
    "collapsed": false,
    "ExecuteTime": {
     "end_time": "2024-06-01T09:34:30.970610Z",
     "start_time": "2024-06-01T09:34:28.729481Z"
    }
   },
   "id": "521060f9deb936d2"
  },
  {
   "cell_type": "code",
   "execution_count": 4,
   "outputs": [],
   "source": [
    "adata = sc.read_h5ad(\"data/mcfarland_preprocessed.h5ad\")"
   ],
   "metadata": {
    "collapsed": false,
    "ExecuteTime": {
     "end_time": "2024-06-01T09:34:31.300198Z",
     "start_time": "2024-06-01T09:34:30.972002Z"
    }
   },
   "id": "c30b95c8a2afc519"
  },
  {
   "cell_type": "code",
   "execution_count": 6,
   "outputs": [
    {
     "data": {
      "text/plain": "AnnData object with n_obs × n_vars = 182875 × 4000\n    obs: 'DepMap_ID', 'cancer', 'cell_det_rate', 'cell_line', 'cell_quality', 'channel', 'disease', 'dose_unit', 'dose_value', 'doublet_CL1', 'doublet_CL2', 'doublet_GMM_prob', 'doublet_dev_imp', 'doublet_z_margin', 'hash_assignment', 'hash_tag', 'num_SNPs', 'organism', 'percent.mito', 'perturbation', 'perturbation_type', 'sex', 'singlet_ID', 'singlet_dev', 'singlet_dev_z', 'singlet_margin', 'singlet_z_margin', 'time', 'tissue_type', 'tot_reads', 'nperts', 'ngenes', 'ncounts', 'percent_mito', 'percent_ribo', 'chembl-ID', 'CellLineName', 'Age', 'OncotreePrimaryDisease', 'SangerModelID'\n    var: 'ensembl_id', 'ncounts', 'ncells', 'n_cells', 'highly_variable', 'means', 'dispersions', 'dispersions_norm'\n    uns: 'cell_line_colors', 'hvg', 'log1p', 'neighbors', 'pca', 'perturbation_colors', 'perturbation_type_colors', 'umap'\n    obsm: 'X_pca', 'X_umap'\n    varm: 'PCs'\n    obsp: 'connectivities', 'distances'"
     },
     "execution_count": 6,
     "metadata": {},
     "output_type": "execute_result"
    }
   ],
   "source": [
    "cl_metadata = pt.md.CellLine()\n",
    "cl_metadata.annotate(\n",
    "    adata,\n",
    "    query_id=\"DepMap_ID\",\n",
    "    reference_id=\"ModelID\",\n",
    "    fetch=[\"CellLineName\", \"Age\", \"OncotreePrimaryDisease\", \"SangerModelID\"],\n",
    ")"
   ],
   "metadata": {
    "collapsed": false,
    "ExecuteTime": {
     "end_time": "2024-06-01T09:36:23.386239Z",
     "start_time": "2024-06-01T09:36:23.291227Z"
    }
   },
   "id": "33f40a962c1bddd2"
  },
  {
   "cell_type": "code",
   "execution_count": 5,
   "outputs": [
    {
     "ename": "ValueError",
     "evalue": "Obs 'CellLineName' does not exist in the .obs attribute.",
     "output_type": "error",
     "traceback": [
      "\u001B[0;31m---------------------------------------------------------------------------\u001B[0m",
      "\u001B[0;31mValueError\u001B[0m                                Traceback (most recent call last)",
      "Cell \u001B[0;32mIn[5], line 2\u001B[0m\n\u001B[1;32m      1\u001B[0m ps \u001B[38;5;241m=\u001B[39m pt\u001B[38;5;241m.\u001B[39mtl\u001B[38;5;241m.\u001B[39mPseudobulkSpace()\n\u001B[0;32m----> 2\u001B[0m pdata \u001B[38;5;241m=\u001B[39m \u001B[43mps\u001B[49m\u001B[38;5;241;43m.\u001B[39;49m\u001B[43mcompute\u001B[49m\u001B[43m(\u001B[49m\u001B[43madata\u001B[49m\u001B[43m,\u001B[49m\u001B[43m \u001B[49m\u001B[43mtarget_col\u001B[49m\u001B[38;5;241;43m=\u001B[39;49m\u001B[38;5;124;43m\"\u001B[39;49m\u001B[38;5;124;43mCellLineName\u001B[39;49m\u001B[38;5;124;43m\"\u001B[39;49m\u001B[43m,\u001B[49m\u001B[43m \u001B[49m\u001B[43mgroups_col\u001B[49m\u001B[38;5;241;43m=\u001B[39;49m\u001B[38;5;124;43m\"\u001B[39;49m\u001B[38;5;124;43mperturbation\u001B[39;49m\u001B[38;5;124;43m\"\u001B[39;49m\u001B[43m)\u001B[49m\n",
      "File \u001B[0;32m~/Documents/Code/pertpy/pertpy/tools/_perturbation_space/_simple.py:153\u001B[0m, in \u001B[0;36mPseudobulkSpace.compute\u001B[0;34m(self, adata, target_col, groups_col, layer_key, embedding_key, **kwargs)\u001B[0m\n\u001B[1;32m    150\u001B[0m     \u001B[38;5;28;01mraise\u001B[39;00m \u001B[38;5;167;01mValueError\u001B[39;00m(\u001B[38;5;124mf\u001B[39m\u001B[38;5;124m\"\u001B[39m\u001B[38;5;124mLayer \u001B[39m\u001B[38;5;132;01m{\u001B[39;00mlayer_key\u001B[38;5;132;01m!r}\u001B[39;00m\u001B[38;5;124m does not exist in the .layers attribute.\u001B[39m\u001B[38;5;124m\"\u001B[39m)\n\u001B[1;32m    152\u001B[0m \u001B[38;5;28;01mif\u001B[39;00m target_col \u001B[38;5;129;01mnot\u001B[39;00m \u001B[38;5;129;01min\u001B[39;00m adata\u001B[38;5;241m.\u001B[39mobs:\n\u001B[0;32m--> 153\u001B[0m     \u001B[38;5;28;01mraise\u001B[39;00m \u001B[38;5;167;01mValueError\u001B[39;00m(\u001B[38;5;124mf\u001B[39m\u001B[38;5;124m\"\u001B[39m\u001B[38;5;124mObs \u001B[39m\u001B[38;5;132;01m{\u001B[39;00mtarget_col\u001B[38;5;132;01m!r}\u001B[39;00m\u001B[38;5;124m does not exist in the .obs attribute.\u001B[39m\u001B[38;5;124m\"\u001B[39m)\n\u001B[1;32m    155\u001B[0m \u001B[38;5;28;01mif\u001B[39;00m embedding_key \u001B[38;5;129;01mis\u001B[39;00m \u001B[38;5;129;01mnot\u001B[39;00m \u001B[38;5;28;01mNone\u001B[39;00m:\n\u001B[1;32m    156\u001B[0m     \u001B[38;5;28;01mif\u001B[39;00m embedding_key \u001B[38;5;129;01mnot\u001B[39;00m \u001B[38;5;129;01min\u001B[39;00m adata\u001B[38;5;241m.\u001B[39mobsm_keys():\n",
      "\u001B[0;31mValueError\u001B[0m: Obs 'CellLineName' does not exist in the .obs attribute."
     ]
    }
   ],
   "source": [
    "ps = pt.tl.PseudobulkSpace()\n",
    "pdata = ps.compute(adata, target_col=\"CellLineName\", groups_col=\"perturbation\")"
   ],
   "metadata": {
    "collapsed": false,
    "ExecuteTime": {
     "start_time": "2024-06-01T09:34:31.302047Z"
    }
   },
   "id": "58b7dbaf50a63890"
  },
  {
   "cell_type": "code",
   "execution_count": null,
   "outputs": [],
   "source": [
    "base_line = pdata[pdata.obs.perturbation == \"control\"]\n",
    "base_line.obs.index = base_line.obs.index.str.replace(\"_control\", \"\")"
   ],
   "metadata": {
    "collapsed": false,
    "ExecuteTime": {
     "start_time": "2024-06-01T09:34:31.721219Z"
    }
   },
   "id": "5ce9acc9d0ffdd4d"
  },
  {
   "cell_type": "code",
   "execution_count": null,
   "outputs": [],
   "source": [
    "cl_metadata.annotate_bulk_rna(base_line, cell_line_source=\"broad\", query_id=\"DepMap_ID\")"
   ],
   "metadata": {
    "collapsed": false,
    "ExecuteTime": {
     "end_time": "2024-06-01T09:34:31.726493Z",
     "start_time": "2024-06-01T09:34:31.726293Z"
    }
   },
   "id": "7e974205a7fe51d4"
  },
  {
   "cell_type": "code",
   "execution_count": null,
   "outputs": [],
   "source": [
    "base_line.obsm[\"bulk_rna_broad\"]"
   ],
   "metadata": {
    "collapsed": false,
    "ExecuteTime": {
     "start_time": "2024-06-01T09:34:31.727910Z"
    }
   },
   "id": "e20443e7418932db"
  },
  {
   "cell_type": "code",
   "execution_count": null,
   "outputs": [],
   "source": [
    "overlapping_genes = set(base_line.var.ensembl_id) & set(\n",
    "    base_line.obsm[\"bulk_rna_broad\"].columns\n",
    ")\n",
    "base_line = base_line[:, base_line.var[\"ensembl_id\"].isin(overlapping_genes)]\n",
    "base_line.obsm[\"bulk_rna_broad\"] = base_line.obsm[\"bulk_rna_broad\"][\n",
    "    base_line.var.ensembl_id\n",
    "]"
   ],
   "metadata": {
    "collapsed": false,
    "ExecuteTime": {
     "start_time": "2024-06-01T09:34:31.730039Z"
    }
   },
   "id": "d40e8bd602bc0e7"
  },
  {
   "cell_type": "code",
   "execution_count": null,
   "outputs": [],
   "source": [
    "# Log normalize the counts\n",
    "sc.pp.log1p(base_line)\n",
    "# Correlate the pseudobulks with the bulk RNA-seq data\n",
    "# corr and pvals: correlation and p-value df for the overlapping cell lines\n",
    "# unmatched_cl_orr and unmatched_cl_pvals: correlation and p-value df for cell lines that are only present in McFarland dataset\n",
    "corr, pvals, unmatched_cl_corr, unmatched_cl_pvals = cl_metadata.correlate(\n",
    "    base_line, identifier=\"DepMap_ID\", metadata_key=\"bulk_rna_broad\"\n",
    ")"
   ],
   "metadata": {
    "collapsed": false,
    "ExecuteTime": {
     "start_time": "2024-06-01T09:34:31.731276Z"
    }
   },
   "id": "631ba1940d646bb1"
  },
  {
   "cell_type": "code",
   "execution_count": null,
   "outputs": [],
   "source": [
    "# Visualize the correlation of cell lines by scatter plot\n",
    "cl_metadata.plot_correlation(\n",
    "    base_line,\n",
    "    corr=corr,\n",
    "    pval=pvals,\n",
    "    identifier=\"DepMap_ID\",\n",
    "    metadata_key=\"bulk_rna_broad\",\n",
    "    subset_identifier=0,  # gain insights of individual cell lines instead of the global statistics\n",
    "    # 0 means the first id is chosen\n",
    ")"
   ],
   "metadata": {
    "collapsed": false,
    "ExecuteTime": {
     "start_time": "2024-06-01T09:34:31.732607Z"
    }
   },
   "id": "f4385154dcfa75c2"
  },
  {
   "cell_type": "code",
   "execution_count": null,
   "outputs": [],
   "source": [],
   "metadata": {
    "collapsed": false,
    "ExecuteTime": {
     "start_time": "2024-06-01T09:34:31.734152Z"
    }
   },
   "id": "e699e037a3fe0076"
  }
 ],
 "metadata": {
  "kernelspec": {
   "display_name": "Python 3",
   "language": "python",
   "name": "python3"
  },
  "language_info": {
   "codemirror_mode": {
    "name": "ipython",
    "version": 2
   },
   "file_extension": ".py",
   "mimetype": "text/x-python",
   "name": "python",
   "nbconvert_exporter": "python",
   "pygments_lexer": "ipython2",
   "version": "2.7.6"
  }
 },
 "nbformat": 4,
 "nbformat_minor": 5
}
