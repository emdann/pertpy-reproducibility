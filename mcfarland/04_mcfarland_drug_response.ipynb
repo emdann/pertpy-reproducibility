{
 "cells": [
  {
   "cell_type": "code",
   "execution_count": 1,
   "id": "initial_id",
   "metadata": {
    "collapsed": true,
    "ExecuteTime": {
     "end_time": "2024-06-04T10:01:28.981179Z",
     "start_time": "2024-06-04T10:01:27.734158Z"
    }
   },
   "outputs": [],
   "source": [
    "import warnings\n",
    "warnings.filterwarnings(\"ignore\")\n",
    "\n",
    "from pathlib import Path\n",
    "import sys\n",
    "\n",
    "sys.path.insert(1, str(Path().cwd().parent))\n",
    "import common_config"
   ]
  },
  {
   "cell_type": "code",
   "execution_count": 2,
   "outputs": [],
   "source": [
    "common_config.figure_journal_basic()"
   ],
   "metadata": {
    "collapsed": false,
    "ExecuteTime": {
     "end_time": "2024-06-04T10:01:28.991277Z",
     "start_time": "2024-06-04T10:01:28.982768Z"
    }
   },
   "id": "3177f2dc6ba2f17e"
  },
  {
   "cell_type": "code",
   "execution_count": 3,
   "outputs": [
    {
     "name": "stderr",
     "output_type": "stream",
     "text": [
      "OMP: Info #276: omp_set_nested routine deprecated, please use omp_set_max_active_levels instead.\n"
     ]
    }
   ],
   "source": [
    "import pertpy as pt\n",
    "import scanpy as sc\n",
    "import numpy as np\n",
    "import matplotlib.pyplot as plt\n",
    "import pandas as pd\n",
    "import seaborn as sns"
   ],
   "metadata": {
    "collapsed": false,
    "ExecuteTime": {
     "end_time": "2024-06-04T10:01:31.894322Z",
     "start_time": "2024-06-04T10:01:28.991710Z"
    }
   },
   "id": "115cb00a4ad666aa"
  },
  {
   "cell_type": "code",
   "execution_count": 4,
   "outputs": [],
   "source": [
    "adata = sc.read_h5ad(\"data/mcfarland_preprocessed.h5ad\")"
   ],
   "metadata": {
    "collapsed": false,
    "ExecuteTime": {
     "end_time": "2024-06-04T10:01:33.065139Z",
     "start_time": "2024-06-04T10:01:32.380305Z"
    }
   },
   "id": "69a077887f0f0a8e"
  },
  {
   "cell_type": "code",
   "execution_count": 5,
   "outputs": [
    {
     "data": {
      "text/plain": "AnnData object with n_obs × n_vars = 182875 × 4000\n    obs: 'DepMap_ID', 'cancer', 'cell_det_rate', 'cell_line', 'cell_quality', 'channel', 'disease', 'dose_unit', 'dose_value', 'doublet_CL1', 'doublet_CL2', 'doublet_GMM_prob', 'doublet_dev_imp', 'doublet_z_margin', 'hash_assignment', 'hash_tag', 'num_SNPs', 'organism', 'percent.mito', 'perturbation', 'perturbation_type', 'sex', 'singlet_ID', 'singlet_dev', 'singlet_dev_z', 'singlet_margin', 'singlet_z_margin', 'time', 'tissue_type', 'tot_reads', 'nperts', 'ngenes', 'ncounts', 'percent_mito', 'percent_ribo', 'chembl-ID', 'PatientID', 'CellLineName', 'StrippedCellLineName', 'DepmapModelType', 'OncotreeLineage', 'OncotreePrimaryDisease', 'OncotreeSubtype', 'OncotreeCode', 'LegacyMolecularSubtype', 'PatientMolecularSubtype', 'RRID', 'Age', 'AgeCategory', 'Sex', 'PatientRace', 'PrimaryOrMetastasis', 'SampleCollectionSite', 'SourceType', 'SourceDetail', 'TreatmentStatus', 'TreatmentDetails', 'GrowthPattern', 'OnboardedMedia', 'FormulationID', 'EngineeredModel', 'TissueOrigin', 'CCLEName', 'CatalogNumber', 'PlateCoating', 'ModelDerivationMaterial', 'PublicComments', 'WTSIMasterCellID', 'SangerModelID', 'COSMICID', 'LegacySubSubtype'\n    var: 'ensembl_id', 'ncounts', 'ncells', 'n_cells', 'highly_variable', 'means', 'dispersions', 'dispersions_norm'\n    uns: 'hvg', 'log1p', 'neighbors', 'pca', 'perturbation_colors', 'umap'\n    obsm: 'X_pca', 'X_umap'\n    varm: 'PCs'\n    obsp: 'connectivities', 'distances'"
     },
     "execution_count": 5,
     "metadata": {},
     "output_type": "execute_result"
    }
   ],
   "source": [
    "cl_metadata = pt.md.CellLine()\n",
    "cl_metadata.annotate(\n",
    "    adata,\n",
    "    query_id=\"DepMap_ID\",\n",
    "    reference_id=\"ModelID\",\n",
    "    cell_line_source=\"DepMap\",\n",
    "    fetch=None,\n",
    ")\n",
    "adata"
   ],
   "metadata": {
    "collapsed": false,
    "ExecuteTime": {
     "end_time": "2024-06-04T10:01:33.378Z",
     "start_time": "2024-06-04T10:01:33.097379Z"
    }
   },
   "id": "4a527d3a8434e97a"
  },
  {
   "cell_type": "code",
   "execution_count": 9,
   "outputs": [
    {
     "name": "stdout",
     "output_type": "stream",
     "text": [
      "💡 There are 209 identifiers in `adata.obs`.However, 73 identifiers can't be found in the cell line annotation,leading to the presence of NA values for their respective metadata.\n",
      "Please check again: *unmatched_identifiers[:verbosity]...\n"
     ]
    },
    {
     "data": {
      "text/plain": "AnnData object with n_obs × n_vars = 182875 × 4000\n    obs: 'DepMap_ID', 'cancer', 'cell_det_rate', 'cell_line', 'cell_quality', 'channel', 'disease', 'dose_unit', 'dose_value', 'doublet_CL1', 'doublet_CL2', 'doublet_GMM_prob', 'doublet_dev_imp', 'doublet_z_margin', 'hash_assignment', 'hash_tag', 'num_SNPs', 'organism', 'percent.mito', 'perturbation', 'perturbation_type', 'sex', 'singlet_ID', 'singlet_dev', 'singlet_dev_z', 'singlet_margin', 'singlet_z_margin', 'time', 'tissue_type', 'tot_reads', 'nperts', 'ngenes', 'ncounts', 'percent_mito', 'percent_ribo', 'chembl-ID', 'PatientID', 'CellLineName', 'StrippedCellLineName', 'DepmapModelType', 'OncotreeLineage', 'OncotreePrimaryDisease', 'OncotreeSubtype', 'OncotreeCode', 'LegacyMolecularSubtype', 'PatientMolecularSubtype', 'RRID', 'Age', 'AgeCategory', 'Sex', 'PatientRace', 'PrimaryOrMetastasis', 'SampleCollectionSite', 'SourceType', 'SourceDetail', 'TreatmentStatus', 'TreatmentDetails', 'GrowthPattern', 'OnboardedMedia', 'FormulationID', 'EngineeredModel', 'TissueOrigin', 'CCLEName', 'CatalogNumber', 'PlateCoating', 'ModelDerivationMaterial', 'PublicComments', 'WTSIMasterCellID', 'SangerModelID', 'COSMICID', 'LegacySubSubtype', 'Model ID', 'Tissue', 'Tissue sub-type', 'TCGA Classfication', 'COSMIC ID', 'cell_line_name', 'GDSC1', 'GDSC2'\n    var: 'ensembl_id', 'ncounts', 'ncells', 'n_cells', 'highly_variable', 'means', 'dispersions', 'dispersions_norm'\n    uns: 'hvg', 'log1p', 'neighbors', 'pca', 'perturbation_colors', 'umap'\n    obsm: 'X_pca', 'X_umap'\n    varm: 'PCs'\n    obsp: 'connectivities', 'distances'"
     },
     "execution_count": 9,
     "metadata": {},
     "output_type": "execute_result"
    }
   ],
   "source": [
    "cl_metadata = pt.md.CellLine()\n",
    "cl_metadata.annotate(\n",
    "    adata,\n",
    "    query_id=\"StrippedCellLineName\",\n",
    "    reference_id=\"StrippedCellLineName\",\n",
    "    cell_line_source=\"Cancerrxgene\",\n",
    "    fetch=None,\n",
    ")\n",
    "adata"
   ],
   "metadata": {
    "collapsed": false,
    "ExecuteTime": {
     "end_time": "2024-06-04T10:06:23.262073Z",
     "start_time": "2024-06-04T10:06:22.840635Z"
    }
   },
   "id": "a85a6526478775db"
  },
  {
   "cell_type": "code",
   "execution_count": 10,
   "outputs": [
    {
     "data": {
      "text/plain": "AAACCTGAGACAAGCC      343.0\nAAACCTGAGAGATGAG      305.0\nAAACCTGAGCGTTGCC      305.0\nAAACCTGAGTAGGCCA      343.0\nAAACCTGAGTTCGATC      344.0\n                      ...  \nTTTGGTTCAGCCTGTG      403.0\nTTTGTCAAGTGGGCTA-1    361.0\nTTTGTCACACTAAGTC-1      NaN\nTTTGTCACAGCTCGAC-1    354.0\nTTTGTCAGTCTTGATG-1      NaN\nName: GDSC1, Length: 182875, dtype: float64"
     },
     "execution_count": 10,
     "metadata": {},
     "output_type": "execute_result"
    }
   ],
   "source": [
    "adata.obs[\"GDSC1\"]"
   ],
   "metadata": {
    "collapsed": false,
    "ExecuteTime": {
     "end_time": "2024-06-04T10:07:14.635657Z",
     "start_time": "2024-06-04T10:07:14.554028Z"
    }
   },
   "id": "f9821b81c8d115b3"
  },
  {
   "cell_type": "code",
   "execution_count": null,
   "outputs": [],
   "source": [],
   "metadata": {
    "collapsed": false
   },
   "id": "76f7791dca68106d"
  },
  {
   "cell_type": "code",
   "execution_count": null,
   "outputs": [],
   "source": [],
   "metadata": {
    "collapsed": false
   },
   "id": "f66b8d95801da04"
  },
  {
   "cell_type": "code",
   "execution_count": null,
   "outputs": [],
   "source": [],
   "metadata": {
    "collapsed": false
   },
   "id": "3d06a1ab841e479f"
  },
  {
   "cell_type": "code",
   "execution_count": null,
   "outputs": [],
   "source": [],
   "metadata": {
    "collapsed": false
   },
   "id": "2bcdfedcab1c63ae"
  }
 ],
 "metadata": {
  "kernelspec": {
   "display_name": "Python 3",
   "language": "python",
   "name": "python3"
  },
  "language_info": {
   "codemirror_mode": {
    "name": "ipython",
    "version": 2
   },
   "file_extension": ".py",
   "mimetype": "text/x-python",
   "name": "python",
   "nbconvert_exporter": "python",
   "pygments_lexer": "ipython2",
   "version": "2.7.6"
  }
 },
 "nbformat": 4,
 "nbformat_minor": 5
}
