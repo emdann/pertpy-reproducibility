{
 "cells": [
  {
   "cell_type": "code",
   "execution_count": 1,
   "id": "initial_id",
   "metadata": {
    "collapsed": true,
    "ExecuteTime": {
     "end_time": "2024-06-04T10:01:28.981179Z",
     "start_time": "2024-06-04T10:01:27.734158Z"
    }
   },
   "outputs": [],
   "source": [
    "import warnings\n",
    "warnings.filterwarnings(\"ignore\")\n",
    "\n",
    "from pathlib import Path\n",
    "import sys\n",
    "\n",
    "sys.path.insert(1, str(Path().cwd().parent))\n",
    "import common_config"
   ]
  },
  {
   "cell_type": "code",
   "execution_count": 2,
   "outputs": [],
   "source": [
    "common_config.figure_journal_basic()"
   ],
   "metadata": {
    "collapsed": false,
    "ExecuteTime": {
     "end_time": "2024-06-04T10:01:28.991277Z",
     "start_time": "2024-06-04T10:01:28.982768Z"
    }
   },
   "id": "3177f2dc6ba2f17e"
  },
  {
   "cell_type": "code",
   "execution_count": 61,
   "outputs": [],
   "source": [
    "import pertpy as pt\n",
    "import scanpy as sc\n",
    "import numpy as np\n",
    "import matplotlib.pyplot as plt\n",
    "import pandas as pd\n",
    "import seaborn as sns\n",
    "from sklearn.linear_model import LinearRegression\n",
    "from tqdm import tqdm"
   ],
   "metadata": {
    "collapsed": false,
    "ExecuteTime": {
     "end_time": "2024-06-04T12:46:49.523891Z",
     "start_time": "2024-06-04T12:46:49.520859Z"
    }
   },
   "id": "115cb00a4ad666aa"
  },
  {
   "cell_type": "code",
   "execution_count": 24,
   "outputs": [],
   "source": [
    "adata_prepr = sc.read_h5ad(\"data/mcfarland_preprocessed.h5ad\")"
   ],
   "metadata": {
    "collapsed": false,
    "ExecuteTime": {
     "end_time": "2024-06-04T11:39:40.105982Z",
     "start_time": "2024-06-04T11:39:39.368048Z"
    }
   },
   "id": "69a077887f0f0a8e"
  },
  {
   "cell_type": "code",
   "execution_count": 75,
   "outputs": [
    {
     "name": "stdout",
     "output_type": "stream",
     "text": [
      "AnnData object with n_obs × n_vars = 182875 × 32738\n",
      "    obs: 'DepMap_ID', 'cancer', 'cell_det_rate', 'cell_line', 'cell_quality', 'channel', 'disease', 'dose_unit', 'dose_value', 'doublet_CL1', 'doublet_CL2', 'doublet_GMM_prob', 'doublet_dev_imp', 'doublet_z_margin', 'hash_assignment', 'hash_tag', 'num_SNPs', 'organism', 'percent.mito', 'perturbation', 'perturbation_type', 'sex', 'singlet_ID', 'singlet_dev', 'singlet_dev_z', 'singlet_margin', 'singlet_z_margin', 'time', 'tissue_type', 'tot_reads', 'nperts', 'ngenes', 'ncounts', 'percent_mito', 'percent_ribo', 'chembl-ID'\n",
      "    var: 'ensembl_id', 'ncounts', 'ncells'\n"
     ]
    }
   ],
   "source": [
    "adata = pt.dt.mcfarland_2020()\n",
    "print(adata)"
   ],
   "metadata": {
    "collapsed": false,
    "ExecuteTime": {
     "end_time": "2024-06-04T13:23:00.259076Z",
     "start_time": "2024-06-04T13:22:10.367768Z"
    }
   },
   "id": "17de07f080a506a7"
  },
  {
   "cell_type": "code",
   "execution_count": 27,
   "outputs": [
    {
     "data": {
      "text/plain": "View of AnnData object with n_obs × n_vars = 182875 × 4000\n    obs: 'DepMap_ID', 'cancer', 'cell_det_rate', 'cell_line', 'cell_quality', 'channel', 'disease', 'dose_unit', 'dose_value', 'doublet_CL1', 'doublet_CL2', 'doublet_GMM_prob', 'doublet_dev_imp', 'doublet_z_margin', 'hash_assignment', 'hash_tag', 'num_SNPs', 'organism', 'percent.mito', 'perturbation', 'perturbation_type', 'sex', 'singlet_ID', 'singlet_dev', 'singlet_dev_z', 'singlet_margin', 'singlet_z_margin', 'time', 'tissue_type', 'tot_reads', 'nperts', 'ngenes', 'ncounts', 'percent_mito', 'percent_ribo', 'chembl-ID'\n    var: 'ensembl_id', 'ncounts', 'ncells'"
     },
     "execution_count": 27,
     "metadata": {},
     "output_type": "execute_result"
    }
   ],
   "source": [
    "adata = adata[:, adata_prepr.var_names]\n",
    "adata"
   ],
   "metadata": {
    "collapsed": false,
    "ExecuteTime": {
     "end_time": "2024-06-04T11:41:09.217845Z",
     "start_time": "2024-06-04T11:41:09.132646Z"
    }
   },
   "id": "3ce5157ac6681ade"
  },
  {
   "cell_type": "code",
   "execution_count": 76,
   "outputs": [
    {
     "data": {
      "text/plain": "AnnData object with n_obs × n_vars = 182875 × 32738\n    obs: 'DepMap_ID', 'cancer', 'cell_det_rate', 'cell_line', 'cell_quality', 'channel', 'disease', 'dose_unit', 'dose_value', 'doublet_CL1', 'doublet_CL2', 'doublet_GMM_prob', 'doublet_dev_imp', 'doublet_z_margin', 'hash_assignment', 'hash_tag', 'num_SNPs', 'organism', 'percent.mito', 'perturbation', 'perturbation_type', 'sex', 'singlet_ID', 'singlet_dev', 'singlet_dev_z', 'singlet_margin', 'singlet_z_margin', 'time', 'tissue_type', 'tot_reads', 'nperts', 'ngenes', 'ncounts', 'percent_mito', 'percent_ribo', 'chembl-ID', 'PatientID', 'CellLineName', 'StrippedCellLineName', 'DepmapModelType', 'OncotreeLineage', 'OncotreePrimaryDisease', 'OncotreeSubtype', 'OncotreeCode', 'LegacyMolecularSubtype', 'PatientMolecularSubtype', 'RRID', 'Age', 'AgeCategory', 'Sex', 'PatientRace', 'PrimaryOrMetastasis', 'SampleCollectionSite', 'SourceType', 'SourceDetail', 'TreatmentStatus', 'TreatmentDetails', 'GrowthPattern', 'OnboardedMedia', 'FormulationID', 'EngineeredModel', 'TissueOrigin', 'CCLEName', 'CatalogNumber', 'PlateCoating', 'ModelDerivationMaterial', 'PublicComments', 'WTSIMasterCellID', 'SangerModelID', 'COSMICID', 'LegacySubSubtype'\n    var: 'ensembl_id', 'ncounts', 'ncells'"
     },
     "execution_count": 76,
     "metadata": {},
     "output_type": "execute_result"
    }
   ],
   "source": [
    "cl_metadata = pt.md.CellLine()\n",
    "cl_metadata.annotate(\n",
    "    adata,\n",
    "    query_id=\"DepMap_ID\",\n",
    "    reference_id=\"ModelID\",\n",
    "    cell_line_source=\"DepMap\",\n",
    "    fetch=None,\n",
    ")\n",
    "adata"
   ],
   "metadata": {
    "collapsed": false,
    "ExecuteTime": {
     "end_time": "2024-06-04T13:23:00.544383Z",
     "start_time": "2024-06-04T13:23:00.262286Z"
    }
   },
   "id": "4a527d3a8434e97a"
  },
  {
   "cell_type": "code",
   "execution_count": 87,
   "outputs": [
    {
     "data": {
      "text/plain": "OncotreeLineage\nLung                         41594\nEsophagus/Stomach            15573\nSkin                         15149\nOvary/Fallopian Tube         14572\nCNS/Brain                    13159\nBowel                        10516\nPancreas                      9810\nKidney                        9609\nHead and Neck                 8856\nBladder/Urinary Tract         8562\nUterus                        7230\nBreast                        7221\nPleura                        5742\nProstate                      4381\nThyroid                       4266\nBiliary Tract                 2701\nLiver                         1895\nSoft Tissue                   1062\nPeripheral Nervous System      800\nBone                           177\nName: count, dtype: int64"
     },
     "execution_count": 87,
     "metadata": {},
     "output_type": "execute_result"
    }
   ],
   "source": [
    "adata.obs[\"OncotreeLineage\"].value_counts()"
   ],
   "metadata": {
    "collapsed": false,
    "ExecuteTime": {
     "end_time": "2024-06-04T13:54:32.324826Z",
     "start_time": "2024-06-04T13:54:32.318027Z"
    }
   },
   "id": "743a20ef7814476b"
  },
  {
   "cell_type": "code",
   "execution_count": 77,
   "outputs": [
    {
     "name": "stdout",
     "output_type": "stream",
     "text": [
      "💡 There are 209 identifiers in `adata.obs`.However, 73 identifiers can't be found in the cell line annotation,leading to the presence of NA values for their respective metadata.\n",
      "Please check again: *unmatched_identifiers[:verbosity]...\n"
     ]
    },
    {
     "data": {
      "text/plain": "AnnData object with n_obs × n_vars = 182875 × 32738\n    obs: 'DepMap_ID', 'cancer', 'cell_det_rate', 'cell_line', 'cell_quality', 'channel', 'disease', 'dose_unit', 'dose_value', 'doublet_CL1', 'doublet_CL2', 'doublet_GMM_prob', 'doublet_dev_imp', 'doublet_z_margin', 'hash_assignment', 'hash_tag', 'num_SNPs', 'organism', 'percent.mito', 'perturbation', 'perturbation_type', 'sex', 'singlet_ID', 'singlet_dev', 'singlet_dev_z', 'singlet_margin', 'singlet_z_margin', 'time', 'tissue_type', 'tot_reads', 'nperts', 'ngenes', 'ncounts', 'percent_mito', 'percent_ribo', 'chembl-ID', 'PatientID', 'CellLineName', 'StrippedCellLineName', 'DepmapModelType', 'OncotreeLineage', 'OncotreePrimaryDisease', 'OncotreeSubtype', 'OncotreeCode', 'LegacyMolecularSubtype', 'PatientMolecularSubtype', 'RRID', 'Age', 'AgeCategory', 'Sex', 'PatientRace', 'PrimaryOrMetastasis', 'SampleCollectionSite', 'SourceType', 'SourceDetail', 'TreatmentStatus', 'TreatmentDetails', 'GrowthPattern', 'OnboardedMedia', 'FormulationID', 'EngineeredModel', 'TissueOrigin', 'CCLEName', 'CatalogNumber', 'PlateCoating', 'ModelDerivationMaterial', 'PublicComments', 'WTSIMasterCellID', 'SangerModelID', 'COSMICID', 'LegacySubSubtype', 'Model ID', 'Tissue', 'Tissue sub-type', 'TCGA Classfication', 'COSMIC ID', 'cell_line_name', 'GDSC1', 'GDSC2'\n    var: 'ensembl_id', 'ncounts', 'ncells'"
     },
     "execution_count": 77,
     "metadata": {},
     "output_type": "execute_result"
    }
   ],
   "source": [
    "cl_metadata = pt.md.CellLine()\n",
    "cl_metadata.annotate(\n",
    "    adata,\n",
    "    query_id=\"StrippedCellLineName\",\n",
    "    reference_id=\"StrippedCellLineName\",\n",
    "    cell_line_source=\"Cancerrxgene\",\n",
    "    fetch=None,\n",
    ")\n",
    "adata"
   ],
   "metadata": {
    "collapsed": false,
    "ExecuteTime": {
     "end_time": "2024-06-04T13:23:00.860157Z",
     "start_time": "2024-06-04T13:23:00.543046Z"
    }
   },
   "id": "a85a6526478775db"
  },
  {
   "cell_type": "code",
   "execution_count": 78,
   "outputs": [
    {
     "data": {
      "text/plain": "AAACCTGAGACAAGCC      282.0\nAAACCTGAGAGATGAG      282.0\nAAACCTGAGCGTTGCC      282.0\nAAACCTGAGTAGGCCA      283.0\nAAACCTGAGTTCGATC      253.0\n                      ...  \nTTTGGTTCAGCCTGTG      271.0\nTTTGTCAAGTGGGCTA-1    281.0\nTTTGTCACACTAAGTC-1      NaN\nTTTGTCACAGCTCGAC-1    169.0\nTTTGTCAGTCTTGATG-1      NaN\nName: GDSC2, Length: 182875, dtype: float64"
     },
     "execution_count": 78,
     "metadata": {},
     "output_type": "execute_result"
    }
   ],
   "source": [
    "adata.obs[\"GDSC2\"]\n",
    "#TODO: Does this even take into account the perturbations?"
   ],
   "metadata": {
    "collapsed": false,
    "ExecuteTime": {
     "end_time": "2024-06-04T13:23:00.873135Z",
     "start_time": "2024-06-04T13:23:00.867875Z"
    }
   },
   "id": "76f7791dca68106d"
  },
  {
   "cell_type": "code",
   "execution_count": 85,
   "outputs": [
    {
     "data": {
      "text/plain": "                    GDSC2 CellLineName perturbation\nAAAGCAACAATCCAAC    282.0        22Rv1      control\nAAAGTAGAGTTAAGTG-1  282.0        22Rv1   Trametinib\nAAAGATGCACCTATCC    282.0        22Rv1      BRD3379\nAAACGGGTCACGCATA    282.0        22Rv1   Navitoclax\nAAACGGGGTAAAGTCA    282.0        22Rv1   Dabrafenib\n...                   ...          ...          ...\nAAAGATGGTGCGGTAA      NaN        YD-15       sgLACZ\nAAACGGGCAATTCCTT      NaN        YD-38     sgGPX4-1\nAAACGGGCAGCTTCGG      NaN        YD-38      sgOR2J2\nAAACCTGTCTGCTGTC      NaN        YD-38       sgLACZ\nAAACGGGTCTGTCTCG      NaN        YD-38     sgGPX4-2\n\n[1541 rows x 3 columns]",
      "text/html": "<div>\n<style scoped>\n    .dataframe tbody tr th:only-of-type {\n        vertical-align: middle;\n    }\n\n    .dataframe tbody tr th {\n        vertical-align: top;\n    }\n\n    .dataframe thead th {\n        text-align: right;\n    }\n</style>\n<table border=\"1\" class=\"dataframe\">\n  <thead>\n    <tr style=\"text-align: right;\">\n      <th></th>\n      <th>GDSC2</th>\n      <th>CellLineName</th>\n      <th>perturbation</th>\n    </tr>\n  </thead>\n  <tbody>\n    <tr>\n      <th>AAAGCAACAATCCAAC</th>\n      <td>282.0</td>\n      <td>22Rv1</td>\n      <td>control</td>\n    </tr>\n    <tr>\n      <th>AAAGTAGAGTTAAGTG-1</th>\n      <td>282.0</td>\n      <td>22Rv1</td>\n      <td>Trametinib</td>\n    </tr>\n    <tr>\n      <th>AAAGATGCACCTATCC</th>\n      <td>282.0</td>\n      <td>22Rv1</td>\n      <td>BRD3379</td>\n    </tr>\n    <tr>\n      <th>AAACGGGTCACGCATA</th>\n      <td>282.0</td>\n      <td>22Rv1</td>\n      <td>Navitoclax</td>\n    </tr>\n    <tr>\n      <th>AAACGGGGTAAAGTCA</th>\n      <td>282.0</td>\n      <td>22Rv1</td>\n      <td>Dabrafenib</td>\n    </tr>\n    <tr>\n      <th>...</th>\n      <td>...</td>\n      <td>...</td>\n      <td>...</td>\n    </tr>\n    <tr>\n      <th>AAAGATGGTGCGGTAA</th>\n      <td>NaN</td>\n      <td>YD-15</td>\n      <td>sgLACZ</td>\n    </tr>\n    <tr>\n      <th>AAACGGGCAATTCCTT</th>\n      <td>NaN</td>\n      <td>YD-38</td>\n      <td>sgGPX4-1</td>\n    </tr>\n    <tr>\n      <th>AAACGGGCAGCTTCGG</th>\n      <td>NaN</td>\n      <td>YD-38</td>\n      <td>sgOR2J2</td>\n    </tr>\n    <tr>\n      <th>AAACCTGTCTGCTGTC</th>\n      <td>NaN</td>\n      <td>YD-38</td>\n      <td>sgLACZ</td>\n    </tr>\n    <tr>\n      <th>AAACGGGTCTGTCTCG</th>\n      <td>NaN</td>\n      <td>YD-38</td>\n      <td>sgGPX4-2</td>\n    </tr>\n  </tbody>\n</table>\n<p>1541 rows × 3 columns</p>\n</div>"
     },
     "execution_count": 85,
     "metadata": {},
     "output_type": "execute_result"
    }
   ],
   "source": [
    "adata.obs[[\"GDSC2\", \"CellLineName\", \"perturbation\"]].drop_duplicates().sort_values(\"CellLineName\")"
   ],
   "metadata": {
    "collapsed": false,
    "ExecuteTime": {
     "end_time": "2024-06-04T13:26:23.138734Z",
     "start_time": "2024-06-04T13:26:23.119108Z"
    }
   },
   "id": "f63ded9ef6c621e8"
  },
  {
   "cell_type": "code",
   "execution_count": 50,
   "outputs": [
    {
     "data": {
      "text/plain": "View of AnnData object with n_obs × n_vars = 70443 × 4000\n    obs: 'DepMap_ID', 'cancer', 'cell_det_rate', 'cell_line', 'cell_quality', 'channel', 'disease', 'dose_unit', 'dose_value', 'doublet_CL1', 'doublet_CL2', 'doublet_GMM_prob', 'doublet_dev_imp', 'doublet_z_margin', 'hash_assignment', 'hash_tag', 'num_SNPs', 'organism', 'percent.mito', 'perturbation', 'perturbation_type', 'sex', 'singlet_ID', 'singlet_dev', 'singlet_dev_z', 'singlet_margin', 'singlet_z_margin', 'time', 'tissue_type', 'tot_reads', 'nperts', 'ngenes', 'ncounts', 'percent_mito', 'percent_ribo', 'chembl-ID', 'PatientID', 'CellLineName', 'StrippedCellLineName', 'DepmapModelType', 'OncotreeLineage', 'OncotreePrimaryDisease', 'OncotreeSubtype', 'OncotreeCode', 'LegacyMolecularSubtype', 'PatientMolecularSubtype', 'RRID', 'Age', 'AgeCategory', 'Sex', 'PatientRace', 'PrimaryOrMetastasis', 'SampleCollectionSite', 'SourceType', 'SourceDetail', 'TreatmentStatus', 'TreatmentDetails', 'GrowthPattern', 'OnboardedMedia', 'FormulationID', 'EngineeredModel', 'TissueOrigin', 'CCLEName', 'CatalogNumber', 'PlateCoating', 'ModelDerivationMaterial', 'PublicComments', 'WTSIMasterCellID', 'SangerModelID', 'COSMICID', 'LegacySubSubtype', 'Model ID', 'Tissue', 'Tissue sub-type', 'TCGA Classfication', 'COSMIC ID', 'cell_line_name', 'GDSC1', 'GDSC2'\n    var: 'ensembl_id', 'ncounts', 'ncells'"
     },
     "execution_count": 50,
     "metadata": {},
     "output_type": "execute_result"
    }
   ],
   "source": [
    "adata = adata[adata.obs[\"perturbation\"].isin([\"control\", \"Trametinib\"])]\n",
    "adata"
   ],
   "metadata": {
    "collapsed": false,
    "ExecuteTime": {
     "end_time": "2024-06-04T12:24:07.447258Z",
     "start_time": "2024-06-04T12:24:07.354242Z"
    }
   },
   "id": "d521e47c0ba9cb44"
  },
  {
   "cell_type": "code",
   "execution_count": 60,
   "outputs": [
    {
     "name": "stdout",
     "output_type": "stream",
     "text": [
      "NCI-H226\n",
      "SH-10-TC\n",
      "UM-UC-1\n",
      "COLO-680N\n",
      "DK-MG\n",
      "NCI-H2347\n",
      "RCC10RGB\n",
      "SK-MEL-3\n",
      "CCF-STTG1\n",
      "BICR 6\n",
      "IA-LM\n",
      "LS1034\n",
      "BICR 31\n",
      "RCM-1\n",
      "COV434\n",
      "TEN\n",
      "LNCaP clone FGC\n",
      "Sq-1\n",
      "SNU-1079\n",
      "Caov-3\n",
      "SK-MEL-2\n",
      "BT-549\n",
      "RERF-LC-Ad1\n",
      "BT-474\n",
      "UACC-257\n",
      "HEC-1-B\n",
      "LoVo\n",
      "KYSE-270\n",
      "OS-RC-2\n",
      "NCI-H2444\n",
      "HCC1419\n",
      "MSTO-211H\n",
      "Hs 766T\n",
      "CAL-62\n",
      "8505C\n",
      "G-401\n",
      "MIA PaCa-2\n",
      "NCI-H522\n",
      "LN-229\n",
      "LMSU\n",
      "NCI-H1299\n",
      "OAW42\n"
     ]
    },
    {
     "ename": "KeyboardInterrupt",
     "evalue": "",
     "output_type": "error",
     "traceback": [
      "\u001B[0;31m---------------------------------------------------------------------------\u001B[0m",
      "\u001B[0;31mKeyboardInterrupt\u001B[0m                         Traceback (most recent call last)",
      "Cell \u001B[0;32mIn[60], line 10\u001B[0m\n\u001B[1;32m      7\u001B[0m subset \u001B[38;5;241m=\u001B[39m adata[adata\u001B[38;5;241m.\u001B[39mobs[\u001B[38;5;124m\"\u001B[39m\u001B[38;5;124mCellLineName\u001B[39m\u001B[38;5;124m\"\u001B[39m] \u001B[38;5;241m==\u001B[39m cell_line]\n\u001B[1;32m      9\u001B[0m edgr \u001B[38;5;241m=\u001B[39m pt\u001B[38;5;241m.\u001B[39mtl\u001B[38;5;241m.\u001B[39mEdgeR(subset, design\u001B[38;5;241m=\u001B[39m\u001B[38;5;124m\"\u001B[39m\u001B[38;5;124m~perturbation\u001B[39m\u001B[38;5;124m\"\u001B[39m)\n\u001B[0;32m---> 10\u001B[0m \u001B[43medgr\u001B[49m\u001B[38;5;241;43m.\u001B[39;49m\u001B[43mfit\u001B[49m\u001B[43m(\u001B[49m\u001B[43m)\u001B[49m\n\u001B[1;32m     11\u001B[0m res_df \u001B[38;5;241m=\u001B[39m edgr\u001B[38;5;241m.\u001B[39mtest_contrasts(edgr\u001B[38;5;241m.\u001B[39mcontrast(\u001B[38;5;124m\"\u001B[39m\u001B[38;5;124mperturbation\u001B[39m\u001B[38;5;124m\"\u001B[39m, \u001B[38;5;124m\"\u001B[39m\u001B[38;5;124mTrametinib\u001B[39m\u001B[38;5;124m\"\u001B[39m, \u001B[38;5;124m\"\u001B[39m\u001B[38;5;124mcontrol\u001B[39m\u001B[38;5;124m\"\u001B[39m))\n\u001B[1;32m     12\u001B[0m res_df \u001B[38;5;241m=\u001B[39m res_df[[\u001B[38;5;124m\"\u001B[39m\u001B[38;5;124mvariable\u001B[39m\u001B[38;5;124m\"\u001B[39m, \u001B[38;5;124m\"\u001B[39m\u001B[38;5;124mlog_fc\u001B[39m\u001B[38;5;124m\"\u001B[39m]]\n",
      "File \u001B[0;32m~/Documents/Code/pertpy/pertpy/tools/_differential_gene_expression/_edger.py:67\u001B[0m, in \u001B[0;36mEdgeR.fit\u001B[0;34m(self, **kwargs)\u001B[0m\n\u001B[1;32m     64\u001B[0m dge \u001B[38;5;241m=\u001B[39m edger\u001B[38;5;241m.\u001B[39mcalcNormFactors(dge)\n\u001B[1;32m     66\u001B[0m logging\u001B[38;5;241m.\u001B[39minfo(\u001B[38;5;124m\"\u001B[39m\u001B[38;5;124mEstimating Dispersions\u001B[39m\u001B[38;5;124m\"\u001B[39m)\n\u001B[0;32m---> 67\u001B[0m dge \u001B[38;5;241m=\u001B[39m \u001B[43medger\u001B[49m\u001B[38;5;241;43m.\u001B[39;49m\u001B[43mestimateDisp\u001B[49m\u001B[43m(\u001B[49m\u001B[43mdge\u001B[49m\u001B[43m,\u001B[49m\u001B[43m \u001B[49m\u001B[43mdesign\u001B[49m\u001B[38;5;241;43m=\u001B[39;49m\u001B[38;5;28;43mself\u001B[39;49m\u001B[38;5;241;43m.\u001B[39;49m\u001B[43mdesign\u001B[49m\u001B[43m)\u001B[49m\n\u001B[1;32m     69\u001B[0m logging\u001B[38;5;241m.\u001B[39minfo(\u001B[38;5;124m\"\u001B[39m\u001B[38;5;124mFitting linear model\u001B[39m\u001B[38;5;124m\"\u001B[39m)\n\u001B[1;32m     70\u001B[0m fit \u001B[38;5;241m=\u001B[39m edger\u001B[38;5;241m.\u001B[39mglmQLFit(dge, design\u001B[38;5;241m=\u001B[39m\u001B[38;5;28mself\u001B[39m\u001B[38;5;241m.\u001B[39mdesign, \u001B[38;5;241m*\u001B[39m\u001B[38;5;241m*\u001B[39mkwargs)\n",
      "File \u001B[0;32m/opt/homebrew/Caskroom/mambaforge/base/envs/pertpy-env/lib/python3.11/site-packages/rpy2/robjects/functions.py:208\u001B[0m, in \u001B[0;36mSignatureTranslatedFunction.__call__\u001B[0;34m(self, *args, **kwargs)\u001B[0m\n\u001B[1;32m    206\u001B[0m         v \u001B[38;5;241m=\u001B[39m kwargs\u001B[38;5;241m.\u001B[39mpop(k)\n\u001B[1;32m    207\u001B[0m         kwargs[r_k] \u001B[38;5;241m=\u001B[39m v\n\u001B[0;32m--> 208\u001B[0m \u001B[38;5;28;01mreturn\u001B[39;00m (\u001B[38;5;28;43msuper\u001B[39;49m\u001B[43m(\u001B[49m\u001B[43mSignatureTranslatedFunction\u001B[49m\u001B[43m,\u001B[49m\u001B[43m \u001B[49m\u001B[38;5;28;43mself\u001B[39;49m\u001B[43m)\u001B[49m\n\u001B[1;32m    209\u001B[0m \u001B[43m        \u001B[49m\u001B[38;5;241;43m.\u001B[39;49m\u001B[38;5;21;43m__call__\u001B[39;49m\u001B[43m(\u001B[49m\u001B[38;5;241;43m*\u001B[39;49m\u001B[43margs\u001B[49m\u001B[43m,\u001B[49m\u001B[43m \u001B[49m\u001B[38;5;241;43m*\u001B[39;49m\u001B[38;5;241;43m*\u001B[39;49m\u001B[43mkwargs\u001B[49m\u001B[43m)\u001B[49m)\n",
      "File \u001B[0;32m/opt/homebrew/Caskroom/mambaforge/base/envs/pertpy-env/lib/python3.11/site-packages/rpy2/robjects/functions.py:131\u001B[0m, in \u001B[0;36mFunction.__call__\u001B[0;34m(self, *args, **kwargs)\u001B[0m\n\u001B[1;32m    129\u001B[0m     \u001B[38;5;28;01melse\u001B[39;00m:\n\u001B[1;32m    130\u001B[0m         new_kwargs[k] \u001B[38;5;241m=\u001B[39m cv\u001B[38;5;241m.\u001B[39mpy2rpy(v)\n\u001B[0;32m--> 131\u001B[0m res \u001B[38;5;241m=\u001B[39m \u001B[38;5;28;43msuper\u001B[39;49m\u001B[43m(\u001B[49m\u001B[43mFunction\u001B[49m\u001B[43m,\u001B[49m\u001B[43m \u001B[49m\u001B[38;5;28;43mself\u001B[39;49m\u001B[43m)\u001B[49m\u001B[38;5;241;43m.\u001B[39;49m\u001B[38;5;21;43m__call__\u001B[39;49m\u001B[43m(\u001B[49m\u001B[38;5;241;43m*\u001B[39;49m\u001B[43mnew_args\u001B[49m\u001B[43m,\u001B[49m\u001B[43m \u001B[49m\u001B[38;5;241;43m*\u001B[39;49m\u001B[38;5;241;43m*\u001B[39;49m\u001B[43mnew_kwargs\u001B[49m\u001B[43m)\u001B[49m\n\u001B[1;32m    132\u001B[0m res \u001B[38;5;241m=\u001B[39m cv\u001B[38;5;241m.\u001B[39mrpy2py(res)\n\u001B[1;32m    133\u001B[0m \u001B[38;5;28;01mreturn\u001B[39;00m res\n",
      "File \u001B[0;32m/opt/homebrew/Caskroom/mambaforge/base/envs/pertpy-env/lib/python3.11/site-packages/rpy2/rinterface_lib/conversion.py:45\u001B[0m, in \u001B[0;36m_cdata_res_to_rinterface.<locals>._\u001B[0;34m(*args, **kwargs)\u001B[0m\n\u001B[1;32m     44\u001B[0m \u001B[38;5;28;01mdef\u001B[39;00m \u001B[38;5;21m_\u001B[39m(\u001B[38;5;241m*\u001B[39margs, \u001B[38;5;241m*\u001B[39m\u001B[38;5;241m*\u001B[39mkwargs):\n\u001B[0;32m---> 45\u001B[0m     cdata \u001B[38;5;241m=\u001B[39m \u001B[43mfunction\u001B[49m\u001B[43m(\u001B[49m\u001B[38;5;241;43m*\u001B[39;49m\u001B[43margs\u001B[49m\u001B[43m,\u001B[49m\u001B[43m \u001B[49m\u001B[38;5;241;43m*\u001B[39;49m\u001B[38;5;241;43m*\u001B[39;49m\u001B[43mkwargs\u001B[49m\u001B[43m)\u001B[49m\n\u001B[1;32m     46\u001B[0m     \u001B[38;5;66;03m# TODO: test cdata is of the expected CType\u001B[39;00m\n\u001B[1;32m     47\u001B[0m     \u001B[38;5;28;01mreturn\u001B[39;00m _cdata_to_rinterface(cdata)\n",
      "File \u001B[0;32m/opt/homebrew/Caskroom/mambaforge/base/envs/pertpy-env/lib/python3.11/site-packages/rpy2/rinterface.py:863\u001B[0m, in \u001B[0;36mSexpClosure.__call__\u001B[0;34m(self, *args, **kwargs)\u001B[0m\n\u001B[1;32m    858\u001B[0m call_r \u001B[38;5;241m=\u001B[39m rmemory\u001B[38;5;241m.\u001B[39mprotect(\n\u001B[1;32m    859\u001B[0m     _rinterface\u001B[38;5;241m.\u001B[39mbuild_rcall(\u001B[38;5;28mself\u001B[39m\u001B[38;5;241m.\u001B[39m__sexp__\u001B[38;5;241m.\u001B[39m_cdata, args,\n\u001B[1;32m    860\u001B[0m                             kwargs\u001B[38;5;241m.\u001B[39mitems()))\n\u001B[1;32m    861\u001B[0m call_context \u001B[38;5;241m=\u001B[39m evaluation_context\u001B[38;5;241m.\u001B[39mget()\n\u001B[1;32m    862\u001B[0m res \u001B[38;5;241m=\u001B[39m rmemory\u001B[38;5;241m.\u001B[39mprotect(\n\u001B[0;32m--> 863\u001B[0m     \u001B[43mopenrlib\u001B[49m\u001B[38;5;241;43m.\u001B[39;49m\u001B[43mrlib\u001B[49m\u001B[38;5;241;43m.\u001B[39;49m\u001B[43mR_tryEval\u001B[49m\u001B[43m(\u001B[49m\n\u001B[1;32m    864\u001B[0m \u001B[43m        \u001B[49m\u001B[43mcall_r\u001B[49m\u001B[43m,\u001B[49m\n\u001B[1;32m    865\u001B[0m \u001B[43m        \u001B[49m\u001B[43mcall_context\u001B[49m\u001B[38;5;241;43m.\u001B[39;49m\u001B[43m__sexp__\u001B[49m\u001B[38;5;241;43m.\u001B[39;49m\u001B[43m_cdata\u001B[49m\u001B[43m,\u001B[49m\n\u001B[1;32m    866\u001B[0m \u001B[43m        \u001B[49m\u001B[43merror_occured\u001B[49m\u001B[43m)\u001B[49m\n\u001B[1;32m    867\u001B[0m )\n\u001B[1;32m    868\u001B[0m \u001B[38;5;28;01mif\u001B[39;00m error_occured[\u001B[38;5;241m0\u001B[39m]:\n\u001B[1;32m    869\u001B[0m     \u001B[38;5;28;01mraise\u001B[39;00m embedded\u001B[38;5;241m.\u001B[39mRRuntimeError(_rinterface\u001B[38;5;241m.\u001B[39m_geterrmessage())\n",
      "\u001B[0;31mKeyboardInterrupt\u001B[0m: "
     ]
    }
   ],
   "source": [
    "logfc_df = pd.DataFrame(columns=adata.var_names)\n",
    "\n",
    "for cell_line in tqdm(adata.obs[\"CellLineName\"].unique()[:50]):\n",
    "    #TODO: Check if sufficient cell numbers\n",
    "    \n",
    "    subset = adata[adata.obs[\"CellLineName\"] == cell_line]\n",
    "    \n",
    "    edgr = pt.tl.EdgeR(subset, design=\"~perturbation\")\n",
    "    edgr.fit()\n",
    "    res_df = edgr.test_contrasts(edgr.contrast(\"perturbation\", \"Trametinib\", \"control\"))\n",
    "    res_df = res_df[[\"variable\", \"log_fc\"]]\n",
    "    res_df = res_df.set_index(\"variable\")\n",
    "    res_df = res_df.reindex(adata.var_names)\n",
    "    logfc_df.loc[cell_line] = res_df[\"log_fc\"]"
   ],
   "metadata": {
    "collapsed": false,
    "ExecuteTime": {
     "end_time": "2024-06-04T12:46:46.892545Z",
     "start_time": "2024-06-04T12:37:38.886221Z"
    }
   },
   "id": "f66b8d95801da04"
  },
  {
   "cell_type": "code",
   "execution_count": 62,
   "outputs": [
    {
     "data": {
      "text/plain": "                 RP11-206L10.2    SAMD11      HES4     ISG15    RNF223  \\\nNCI-H226             -0.056631  0.023854  0.778960 -0.855945 -0.063421   \nSH-10-TC             -0.120489 -1.261185  0.576117 -0.568203 -0.121803   \nUM-UC-1              -0.094179 -0.114638  0.026912 -1.586141 -0.255570   \nCOLO-680N            -0.107592 -0.323277  0.128009 -0.029667 -0.245211   \nDK-MG                -0.056114 -0.473638  0.552485  0.042384 -0.094361   \nNCI-H2347            -0.053592  0.059266  0.342833 -0.302170  0.028130   \nRCC10RGB             -0.023800 -0.454539  0.478512 -0.541704 -0.044211   \nSK-MEL-3             -0.006644 -0.215910  0.435914 -1.178182 -0.045498   \nCCF-STTG1            -0.040550 -0.555580  0.172740 -0.152373  0.036757   \nBICR 6               -0.082542 -0.143272  0.437642 -0.903568  0.036866   \nIA-LM                 0.044173 -0.073972  0.551403 -0.934696 -0.129705   \nLS1034               -0.023735 -0.030888  0.765209  0.354901  0.156186   \nBICR 31              -0.063875  0.004294  0.106548 -1.344043 -0.029455   \nRCM-1                -0.138815 -0.090046  0.887414 -0.886736  0.215791   \nCOV434               -0.024119  0.046913  0.031849 -0.292324 -0.046673   \nTEN                  -0.109875 -0.394354  0.638951  0.002450 -0.059923   \nLNCaP clone FGC      -0.062397  0.412755  0.569131 -0.273100  0.089662   \nSq-1                  0.037127 -0.066156  0.736341 -0.141830  0.052869   \nSNU-1079             -0.011553 -0.371857  0.698409 -1.159154  0.080455   \nCaov-3               -0.045497 -1.263024 -0.080264 -0.500702 -0.612233   \nSK-MEL-2             -0.079253 -0.466851  0.545366 -1.286400  0.092121   \nBT-549                0.001616 -0.410750  0.091563 -0.313967 -0.069123   \nRERF-LC-Ad1          -0.058990 -0.757919  0.639341 -0.224443  0.125379   \nBT-474               -0.036232 -0.046429  0.294482 -0.320877 -0.383599   \nUACC-257             -0.031306 -0.842464  0.328335  0.024821  0.000000   \nHEC-1-B               0.000000 -1.150658 -0.674115 -0.322089  0.080126   \nLoVo                 -0.018877 -0.499063  0.460567 -1.112943  0.102229   \nKYSE-270              0.045673 -0.519612 -0.210483 -1.221367  0.164979   \nOS-RC-2               0.000000 -0.687441  0.222577 -0.614984  0.126436   \nNCI-H2444             0.000000 -0.451915  0.644711 -0.247924 -0.706327   \nHCC1419               0.066750 -0.267997 -0.242843 -0.750846 -0.101280   \nMSTO-211H            -0.080858 -1.591076  0.253677 -0.626023  0.052030   \nHs 766T               0.000000  0.000000 -1.173295 -1.425655  0.192524   \nCAL-62                0.062385 -0.034727 -0.375935 -1.710736  0.000000   \n8505C                -0.051951 -1.206446 -0.873604 -1.522515  0.000000   \nG-401                 0.000000 -0.314373 -0.106688 -0.654798 -0.021711   \nMIA PaCa-2            0.000000 -1.161662 -0.389404 -1.833384 -0.072552   \nNCI-H522              0.000000 -0.104069  0.117806 -1.071376  0.120069   \nLN-229                0.000000 -1.429818 -0.456909 -1.361063  0.000000   \nLMSU                 -0.058717 -0.091138 -0.705515 -1.244858  0.000000   \nNCI-H1299            -0.008533 -1.417424 -0.659414 -1.500768 -0.009167   \n\n                 RP11-465B22.5  RP11-465B22.8      MIB2  C1orf222  \\\nNCI-H226          0.000000e+00      -0.071028  0.050090 -0.040887   \nSH-10-TC          0.000000e+00      -0.062605 -0.102929 -0.033516   \nUM-UC-1           0.000000e+00      -0.139468  0.266755  0.053381   \nCOLO-680N         0.000000e+00      -0.253580 -0.284287 -0.121957   \nDK-MG             0.000000e+00      -0.086269  0.021629  0.037938   \nNCI-H2347         0.000000e+00      -0.003555  0.126241 -0.010580   \nRCC10RGB         -3.408774e-03       0.038228  0.195526 -0.015482   \nSK-MEL-3          2.562741e-15      -0.092931 -0.150749 -0.015218   \nCCF-STTG1         0.000000e+00      -0.173892 -0.003756 -0.012629   \nBICR 6            0.000000e+00       0.022841  1.063609 -0.139794   \nIA-LM            -1.868316e-02      -0.192684 -0.185993 -0.034595   \nLS1034           -1.216511e-01      -0.266267  0.451711 -0.016568   \nBICR 31           0.000000e+00      -0.311797  0.568843  0.053500   \nRCM-1            -7.086730e-02      -0.579313  0.663235 -0.015655   \nCOV434            0.000000e+00      -0.068539 -0.056859 -0.009871   \nTEN              -1.170855e-02      -0.200914  0.127722 -0.038723   \nLNCaP clone FGC   0.000000e+00       0.129292  0.114840 -0.023178   \nSq-1             -7.388694e-03      -0.225991  0.176784 -0.071752   \nSNU-1079          0.000000e+00      -0.241778  0.053675  0.000000   \nCaov-3           -9.977666e-03      -0.560354 -0.323353 -0.068428   \nSK-MEL-2         -1.617795e-02      -0.089036  0.052866  0.019478   \nBT-549            0.000000e+00      -0.164867  0.011621  0.028962   \nRERF-LC-Ad1       0.000000e+00      -0.203646  0.003670 -0.016932   \nBT-474           -9.871810e-03      -0.402851  0.155690  0.000000   \nUACC-257          0.000000e+00       0.000000  0.086631  0.000000   \nHEC-1-B           0.000000e+00       0.390142 -0.090620  0.000000   \nLoVo              0.000000e+00      -0.134940  0.394477  0.000000   \nKYSE-270          0.000000e+00       0.589477  0.345091  0.434612   \nOS-RC-2           0.000000e+00      -0.307403  0.005639  0.000000   \nNCI-H2444         0.000000e+00       0.032631  0.842491 -0.090492   \nHCC1419           0.000000e+00      -0.386523  0.393250  0.100967   \nMSTO-211H         0.000000e+00       0.009748  0.299582  0.000000   \nHs 766T           0.000000e+00      -1.395462  0.177096  0.000000   \nCAL-62            0.000000e+00      -0.025027  0.096850  0.015279   \n8505C             0.000000e+00      -0.058766 -0.159366 -0.082801   \nG-401             0.000000e+00       0.000000  0.318915  0.000000   \nMIA PaCa-2        0.000000e+00       0.000000  0.016250  0.000000   \nNCI-H522          0.000000e+00      -0.242941  0.229610  0.000000   \nLN-229            0.000000e+00       0.000000  0.380890  0.000000   \nLMSU              0.000000e+00       0.026612  0.481356  0.022885   \nNCI-H1299         0.000000e+00       0.086450 -0.053108  0.190781   \n\n                         HES5  ...    MT-ND2    MT-CO2   MT-ATP8   MT-ATP6  \\\nNCI-H226         0.000000e+00  ...  0.293481 -0.626264 -3.170935 -1.749683   \nSH-10-TC         6.964794e-02  ...  0.272754 -0.497946 -3.047496 -1.376556   \nUM-UC-1          3.753169e-02  ...  0.718344 -0.384176 -3.192004 -1.408674   \nCOLO-680N        2.716157e-02  ... -0.054034 -0.997626 -3.050796 -1.363295   \nDK-MG           -8.849700e-03  ...  0.185814 -0.715760 -2.602113 -1.445007   \nNCI-H2347       -5.058429e-02  ...  0.270400 -0.526639 -2.548818 -1.217023   \nRCC10RGB        -1.619044e-02  ... -0.347850 -1.172344 -3.375559 -1.666354   \nSK-MEL-3         2.562741e-15  ... -0.170480 -0.482913 -3.766592 -1.490813   \nCCF-STTG1       -3.838147e-02  ... -0.181175 -1.174329 -3.050678 -1.907138   \nBICR 6           2.585917e-01  ...  0.202163 -0.945855 -2.437887 -1.537766   \nIA-LM           -3.047792e-02  ... -0.152141 -0.977434 -3.369431 -1.810899   \nLS1034           2.939402e-02  ...  0.227304 -0.810927 -3.531327 -1.696518   \nBICR 31          7.561369e-02  ...  0.290425 -0.497260 -2.919207 -1.269068   \nRCM-1           -2.282676e-03  ...  0.511766 -0.760921 -4.054884 -1.766868   \nCOV434           0.000000e+00  ...  0.047230 -0.707677 -3.257096 -1.569232   \nTEN             -4.416962e-03  ...  0.417660 -0.757867 -2.995102 -1.607182   \nLNCaP clone FGC  0.000000e+00  ... -0.211942 -0.845427 -3.279854 -1.688605   \nSq-1             3.877299e-04  ...  0.362317 -0.387726 -3.299554 -1.449285   \nSNU-1079         0.000000e+00  ...  0.152516 -0.756235 -3.831368 -1.555541   \nCaov-3          -9.780365e-02  ...  0.211294 -0.713635 -2.827381 -1.481162   \nSK-MEL-2        -4.051402e-02  ...  0.343434 -0.179418 -3.417261 -1.199333   \nBT-549           0.000000e+00  ... -0.049413 -1.128883 -3.601763 -1.571669   \nRERF-LC-Ad1      0.000000e+00  ... -0.229715 -1.072470 -3.161260 -1.879889   \nBT-474          -1.081161e-02  ... -0.047874 -1.208599 -4.258541 -2.216786   \nUACC-257         0.000000e+00  ...  0.107977  0.191538  0.324725  0.309344   \nHEC-1-B          0.000000e+00  ... -0.185574 -0.163908  0.089926 -0.026474   \nLoVo            -9.988360e-02  ...  0.196251  0.312624  0.199520  0.412007   \nKYSE-270         9.464166e-02  ... -0.038934 -0.012270  0.283221  0.011801   \nOS-RC-2          0.000000e+00  ...  0.024600  0.167002 -0.089736  0.092009   \nNCI-H2444       -1.268616e-01  ...  0.273475  0.089559  0.931860  0.064507   \nHCC1419          0.000000e+00  ... -0.119554 -0.153938  0.530408 -0.039338   \nMSTO-211H        4.865096e-02  ...  0.140942  0.040511  0.632449  0.149489   \nHs 766T          0.000000e+00  ...  0.411726  0.159076  0.683516 -0.074094   \nCAL-62           0.000000e+00  ...  0.441049  0.033932  0.605376  0.347308   \n8505C            0.000000e+00  ...  0.190521  0.203966 -0.401792  0.409250   \nG-401            0.000000e+00  ...  0.494721  0.258675  0.279215  0.241106   \nMIA PaCa-2       0.000000e+00  ...  0.248121 -0.028804  0.403121  0.065800   \nNCI-H522         0.000000e+00  ...  0.270669  0.221655  0.244989  0.272242   \nLN-229           0.000000e+00  ...  0.225920  0.097503  0.435416  0.297940   \nLMSU             0.000000e+00  ...  0.202937  0.249838  0.827002  0.036121   \nNCI-H1299        0.000000e+00  ...  0.154759  0.131671  0.430749  0.320488   \n\n                   MT-CO3    MT-ND3   MT-ND4L    MT-ND5    MT-ND6    MT-CYB  \nNCI-H226        -0.747202 -2.538509 -2.351973 -1.079924 -2.228786 -0.716406  \nSH-10-TC        -0.686781 -1.810955 -1.802992 -1.022164 -1.613436 -0.907332  \nUM-UC-1         -0.553507 -1.880864 -1.997774 -0.871288 -1.438610 -0.512293  \nCOLO-680N       -0.819858 -2.082945 -2.003205 -1.388538 -1.542712 -0.926313  \nDK-MG           -0.680561 -1.911512 -2.054348 -1.234275 -2.076624 -0.546617  \nNCI-H2347       -0.633051 -1.764605 -1.479840 -0.732152 -1.291752 -0.600031  \nRCC10RGB        -1.036784 -2.811021 -2.181234 -1.251064 -1.862049 -1.156700  \nSK-MEL-3        -0.782637 -2.617527 -2.560892 -1.435374 -2.626832 -0.715016  \nCCF-STTG1       -1.134511 -3.030060 -2.449384 -1.439305 -2.317940 -1.175529  \nBICR 6          -0.824780 -1.928303 -1.798986 -0.751573 -0.973217 -1.159749  \nIA-LM           -0.812846 -2.430284 -2.294177 -1.305840 -1.602264 -1.008397  \nLS1034          -0.969125 -2.441911 -2.367853 -1.171461 -2.028810 -0.781294  \nBICR 31         -0.592226 -2.099655 -2.037818 -0.513163 -1.406666 -0.615157  \nRCM-1           -0.930432 -2.587882 -2.496384 -0.728260 -1.588389 -0.946052  \nCOV434          -0.715785 -2.093942 -1.391902 -0.731540 -1.997710 -0.521522  \nTEN             -0.960573 -2.294671 -1.802836 -0.945258 -1.708253 -0.864857  \nLNCaP clone FGC -0.869800 -2.566943 -2.112719 -1.256141 -1.773289 -0.887843  \nSq-1            -0.718895 -2.291405 -1.939083 -0.852220 -1.626230 -0.791459  \nSNU-1079        -0.776521 -2.459637 -2.426288 -1.026083 -1.844770 -0.818650  \nCaov-3          -0.705967 -2.095745 -1.754157 -0.999258 -1.389669 -0.795543  \nSK-MEL-2        -0.360963 -2.087813 -2.315218 -1.091246 -1.898262 -0.445936  \nBT-549          -1.024416 -2.611977 -2.474295 -1.130210 -2.370792 -0.942619  \nRERF-LC-Ad1     -1.127654 -2.789394 -2.660575 -1.799850 -2.412037 -1.349666  \nBT-474          -1.154501 -2.993898 -2.927394 -1.426338 -2.200320 -1.122616  \nUACC-257         0.119474 -0.196889  0.645008  0.042684  0.239759  0.381428  \nHEC-1-B         -0.241949 -0.402483  0.477369 -0.079934 -0.054893 -0.199478  \nLoVo             0.401275  0.075373  0.493334  0.474300  0.754968  0.362000  \nKYSE-270         0.057263 -0.178014  0.497508 -0.109615  0.289221  0.044452  \nOS-RC-2          0.099987 -0.181179  0.576089 -0.017084  0.146327 -0.010472  \nNCI-H2444        0.088094  0.016787  1.101802  0.463804  0.879706  0.071721  \nHCC1419          0.093375 -0.336549  0.298935 -0.072785  0.778463  0.005887  \nMSTO-211H        0.109059 -0.027017  0.540120  0.036587  0.595065  0.165309  \nHs 766T          0.174325 -0.434232  0.535259  0.358467 -0.129682  0.204910  \nCAL-62           0.326976  0.051993  0.848387  0.462676  0.653827  0.425814  \n8505C            0.256952 -0.159421  0.443197  0.099099  0.406336  0.391006  \nG-401            0.304979 -0.023756  0.848052  0.575056  0.251990  0.275183  \nMIA PaCa-2      -0.046865 -0.006232  0.619031  0.223865  0.751400  0.030769  \nNCI-H522         0.133235 -0.019803  0.397574  0.270708 -0.034671  0.256403  \nLN-229           0.272947  0.049420  0.742581  0.244538  0.729611  0.246453  \nLMSU             0.329956 -0.102076  0.520266  0.303257  0.220836  0.262838  \nNCI-H1299        0.234779  0.015133  0.507480  0.016309  0.381170  0.252829  \n\n[41 rows x 4000 columns]",
      "text/html": "<div>\n<style scoped>\n    .dataframe tbody tr th:only-of-type {\n        vertical-align: middle;\n    }\n\n    .dataframe tbody tr th {\n        vertical-align: top;\n    }\n\n    .dataframe thead th {\n        text-align: right;\n    }\n</style>\n<table border=\"1\" class=\"dataframe\">\n  <thead>\n    <tr style=\"text-align: right;\">\n      <th></th>\n      <th>RP11-206L10.2</th>\n      <th>SAMD11</th>\n      <th>HES4</th>\n      <th>ISG15</th>\n      <th>RNF223</th>\n      <th>RP11-465B22.5</th>\n      <th>RP11-465B22.8</th>\n      <th>MIB2</th>\n      <th>C1orf222</th>\n      <th>HES5</th>\n      <th>...</th>\n      <th>MT-ND2</th>\n      <th>MT-CO2</th>\n      <th>MT-ATP8</th>\n      <th>MT-ATP6</th>\n      <th>MT-CO3</th>\n      <th>MT-ND3</th>\n      <th>MT-ND4L</th>\n      <th>MT-ND5</th>\n      <th>MT-ND6</th>\n      <th>MT-CYB</th>\n    </tr>\n  </thead>\n  <tbody>\n    <tr>\n      <th>NCI-H226</th>\n      <td>-0.056631</td>\n      <td>0.023854</td>\n      <td>0.778960</td>\n      <td>-0.855945</td>\n      <td>-0.063421</td>\n      <td>0.000000e+00</td>\n      <td>-0.071028</td>\n      <td>0.050090</td>\n      <td>-0.040887</td>\n      <td>0.000000e+00</td>\n      <td>...</td>\n      <td>0.293481</td>\n      <td>-0.626264</td>\n      <td>-3.170935</td>\n      <td>-1.749683</td>\n      <td>-0.747202</td>\n      <td>-2.538509</td>\n      <td>-2.351973</td>\n      <td>-1.079924</td>\n      <td>-2.228786</td>\n      <td>-0.716406</td>\n    </tr>\n    <tr>\n      <th>SH-10-TC</th>\n      <td>-0.120489</td>\n      <td>-1.261185</td>\n      <td>0.576117</td>\n      <td>-0.568203</td>\n      <td>-0.121803</td>\n      <td>0.000000e+00</td>\n      <td>-0.062605</td>\n      <td>-0.102929</td>\n      <td>-0.033516</td>\n      <td>6.964794e-02</td>\n      <td>...</td>\n      <td>0.272754</td>\n      <td>-0.497946</td>\n      <td>-3.047496</td>\n      <td>-1.376556</td>\n      <td>-0.686781</td>\n      <td>-1.810955</td>\n      <td>-1.802992</td>\n      <td>-1.022164</td>\n      <td>-1.613436</td>\n      <td>-0.907332</td>\n    </tr>\n    <tr>\n      <th>UM-UC-1</th>\n      <td>-0.094179</td>\n      <td>-0.114638</td>\n      <td>0.026912</td>\n      <td>-1.586141</td>\n      <td>-0.255570</td>\n      <td>0.000000e+00</td>\n      <td>-0.139468</td>\n      <td>0.266755</td>\n      <td>0.053381</td>\n      <td>3.753169e-02</td>\n      <td>...</td>\n      <td>0.718344</td>\n      <td>-0.384176</td>\n      <td>-3.192004</td>\n      <td>-1.408674</td>\n      <td>-0.553507</td>\n      <td>-1.880864</td>\n      <td>-1.997774</td>\n      <td>-0.871288</td>\n      <td>-1.438610</td>\n      <td>-0.512293</td>\n    </tr>\n    <tr>\n      <th>COLO-680N</th>\n      <td>-0.107592</td>\n      <td>-0.323277</td>\n      <td>0.128009</td>\n      <td>-0.029667</td>\n      <td>-0.245211</td>\n      <td>0.000000e+00</td>\n      <td>-0.253580</td>\n      <td>-0.284287</td>\n      <td>-0.121957</td>\n      <td>2.716157e-02</td>\n      <td>...</td>\n      <td>-0.054034</td>\n      <td>-0.997626</td>\n      <td>-3.050796</td>\n      <td>-1.363295</td>\n      <td>-0.819858</td>\n      <td>-2.082945</td>\n      <td>-2.003205</td>\n      <td>-1.388538</td>\n      <td>-1.542712</td>\n      <td>-0.926313</td>\n    </tr>\n    <tr>\n      <th>DK-MG</th>\n      <td>-0.056114</td>\n      <td>-0.473638</td>\n      <td>0.552485</td>\n      <td>0.042384</td>\n      <td>-0.094361</td>\n      <td>0.000000e+00</td>\n      <td>-0.086269</td>\n      <td>0.021629</td>\n      <td>0.037938</td>\n      <td>-8.849700e-03</td>\n      <td>...</td>\n      <td>0.185814</td>\n      <td>-0.715760</td>\n      <td>-2.602113</td>\n      <td>-1.445007</td>\n      <td>-0.680561</td>\n      <td>-1.911512</td>\n      <td>-2.054348</td>\n      <td>-1.234275</td>\n      <td>-2.076624</td>\n      <td>-0.546617</td>\n    </tr>\n    <tr>\n      <th>NCI-H2347</th>\n      <td>-0.053592</td>\n      <td>0.059266</td>\n      <td>0.342833</td>\n      <td>-0.302170</td>\n      <td>0.028130</td>\n      <td>0.000000e+00</td>\n      <td>-0.003555</td>\n      <td>0.126241</td>\n      <td>-0.010580</td>\n      <td>-5.058429e-02</td>\n      <td>...</td>\n      <td>0.270400</td>\n      <td>-0.526639</td>\n      <td>-2.548818</td>\n      <td>-1.217023</td>\n      <td>-0.633051</td>\n      <td>-1.764605</td>\n      <td>-1.479840</td>\n      <td>-0.732152</td>\n      <td>-1.291752</td>\n      <td>-0.600031</td>\n    </tr>\n    <tr>\n      <th>RCC10RGB</th>\n      <td>-0.023800</td>\n      <td>-0.454539</td>\n      <td>0.478512</td>\n      <td>-0.541704</td>\n      <td>-0.044211</td>\n      <td>-3.408774e-03</td>\n      <td>0.038228</td>\n      <td>0.195526</td>\n      <td>-0.015482</td>\n      <td>-1.619044e-02</td>\n      <td>...</td>\n      <td>-0.347850</td>\n      <td>-1.172344</td>\n      <td>-3.375559</td>\n      <td>-1.666354</td>\n      <td>-1.036784</td>\n      <td>-2.811021</td>\n      <td>-2.181234</td>\n      <td>-1.251064</td>\n      <td>-1.862049</td>\n      <td>-1.156700</td>\n    </tr>\n    <tr>\n      <th>SK-MEL-3</th>\n      <td>-0.006644</td>\n      <td>-0.215910</td>\n      <td>0.435914</td>\n      <td>-1.178182</td>\n      <td>-0.045498</td>\n      <td>2.562741e-15</td>\n      <td>-0.092931</td>\n      <td>-0.150749</td>\n      <td>-0.015218</td>\n      <td>2.562741e-15</td>\n      <td>...</td>\n      <td>-0.170480</td>\n      <td>-0.482913</td>\n      <td>-3.766592</td>\n      <td>-1.490813</td>\n      <td>-0.782637</td>\n      <td>-2.617527</td>\n      <td>-2.560892</td>\n      <td>-1.435374</td>\n      <td>-2.626832</td>\n      <td>-0.715016</td>\n    </tr>\n    <tr>\n      <th>CCF-STTG1</th>\n      <td>-0.040550</td>\n      <td>-0.555580</td>\n      <td>0.172740</td>\n      <td>-0.152373</td>\n      <td>0.036757</td>\n      <td>0.000000e+00</td>\n      <td>-0.173892</td>\n      <td>-0.003756</td>\n      <td>-0.012629</td>\n      <td>-3.838147e-02</td>\n      <td>...</td>\n      <td>-0.181175</td>\n      <td>-1.174329</td>\n      <td>-3.050678</td>\n      <td>-1.907138</td>\n      <td>-1.134511</td>\n      <td>-3.030060</td>\n      <td>-2.449384</td>\n      <td>-1.439305</td>\n      <td>-2.317940</td>\n      <td>-1.175529</td>\n    </tr>\n    <tr>\n      <th>BICR 6</th>\n      <td>-0.082542</td>\n      <td>-0.143272</td>\n      <td>0.437642</td>\n      <td>-0.903568</td>\n      <td>0.036866</td>\n      <td>0.000000e+00</td>\n      <td>0.022841</td>\n      <td>1.063609</td>\n      <td>-0.139794</td>\n      <td>2.585917e-01</td>\n      <td>...</td>\n      <td>0.202163</td>\n      <td>-0.945855</td>\n      <td>-2.437887</td>\n      <td>-1.537766</td>\n      <td>-0.824780</td>\n      <td>-1.928303</td>\n      <td>-1.798986</td>\n      <td>-0.751573</td>\n      <td>-0.973217</td>\n      <td>-1.159749</td>\n    </tr>\n    <tr>\n      <th>IA-LM</th>\n      <td>0.044173</td>\n      <td>-0.073972</td>\n      <td>0.551403</td>\n      <td>-0.934696</td>\n      <td>-0.129705</td>\n      <td>-1.868316e-02</td>\n      <td>-0.192684</td>\n      <td>-0.185993</td>\n      <td>-0.034595</td>\n      <td>-3.047792e-02</td>\n      <td>...</td>\n      <td>-0.152141</td>\n      <td>-0.977434</td>\n      <td>-3.369431</td>\n      <td>-1.810899</td>\n      <td>-0.812846</td>\n      <td>-2.430284</td>\n      <td>-2.294177</td>\n      <td>-1.305840</td>\n      <td>-1.602264</td>\n      <td>-1.008397</td>\n    </tr>\n    <tr>\n      <th>LS1034</th>\n      <td>-0.023735</td>\n      <td>-0.030888</td>\n      <td>0.765209</td>\n      <td>0.354901</td>\n      <td>0.156186</td>\n      <td>-1.216511e-01</td>\n      <td>-0.266267</td>\n      <td>0.451711</td>\n      <td>-0.016568</td>\n      <td>2.939402e-02</td>\n      <td>...</td>\n      <td>0.227304</td>\n      <td>-0.810927</td>\n      <td>-3.531327</td>\n      <td>-1.696518</td>\n      <td>-0.969125</td>\n      <td>-2.441911</td>\n      <td>-2.367853</td>\n      <td>-1.171461</td>\n      <td>-2.028810</td>\n      <td>-0.781294</td>\n    </tr>\n    <tr>\n      <th>BICR 31</th>\n      <td>-0.063875</td>\n      <td>0.004294</td>\n      <td>0.106548</td>\n      <td>-1.344043</td>\n      <td>-0.029455</td>\n      <td>0.000000e+00</td>\n      <td>-0.311797</td>\n      <td>0.568843</td>\n      <td>0.053500</td>\n      <td>7.561369e-02</td>\n      <td>...</td>\n      <td>0.290425</td>\n      <td>-0.497260</td>\n      <td>-2.919207</td>\n      <td>-1.269068</td>\n      <td>-0.592226</td>\n      <td>-2.099655</td>\n      <td>-2.037818</td>\n      <td>-0.513163</td>\n      <td>-1.406666</td>\n      <td>-0.615157</td>\n    </tr>\n    <tr>\n      <th>RCM-1</th>\n      <td>-0.138815</td>\n      <td>-0.090046</td>\n      <td>0.887414</td>\n      <td>-0.886736</td>\n      <td>0.215791</td>\n      <td>-7.086730e-02</td>\n      <td>-0.579313</td>\n      <td>0.663235</td>\n      <td>-0.015655</td>\n      <td>-2.282676e-03</td>\n      <td>...</td>\n      <td>0.511766</td>\n      <td>-0.760921</td>\n      <td>-4.054884</td>\n      <td>-1.766868</td>\n      <td>-0.930432</td>\n      <td>-2.587882</td>\n      <td>-2.496384</td>\n      <td>-0.728260</td>\n      <td>-1.588389</td>\n      <td>-0.946052</td>\n    </tr>\n    <tr>\n      <th>COV434</th>\n      <td>-0.024119</td>\n      <td>0.046913</td>\n      <td>0.031849</td>\n      <td>-0.292324</td>\n      <td>-0.046673</td>\n      <td>0.000000e+00</td>\n      <td>-0.068539</td>\n      <td>-0.056859</td>\n      <td>-0.009871</td>\n      <td>0.000000e+00</td>\n      <td>...</td>\n      <td>0.047230</td>\n      <td>-0.707677</td>\n      <td>-3.257096</td>\n      <td>-1.569232</td>\n      <td>-0.715785</td>\n      <td>-2.093942</td>\n      <td>-1.391902</td>\n      <td>-0.731540</td>\n      <td>-1.997710</td>\n      <td>-0.521522</td>\n    </tr>\n    <tr>\n      <th>TEN</th>\n      <td>-0.109875</td>\n      <td>-0.394354</td>\n      <td>0.638951</td>\n      <td>0.002450</td>\n      <td>-0.059923</td>\n      <td>-1.170855e-02</td>\n      <td>-0.200914</td>\n      <td>0.127722</td>\n      <td>-0.038723</td>\n      <td>-4.416962e-03</td>\n      <td>...</td>\n      <td>0.417660</td>\n      <td>-0.757867</td>\n      <td>-2.995102</td>\n      <td>-1.607182</td>\n      <td>-0.960573</td>\n      <td>-2.294671</td>\n      <td>-1.802836</td>\n      <td>-0.945258</td>\n      <td>-1.708253</td>\n      <td>-0.864857</td>\n    </tr>\n    <tr>\n      <th>LNCaP clone FGC</th>\n      <td>-0.062397</td>\n      <td>0.412755</td>\n      <td>0.569131</td>\n      <td>-0.273100</td>\n      <td>0.089662</td>\n      <td>0.000000e+00</td>\n      <td>0.129292</td>\n      <td>0.114840</td>\n      <td>-0.023178</td>\n      <td>0.000000e+00</td>\n      <td>...</td>\n      <td>-0.211942</td>\n      <td>-0.845427</td>\n      <td>-3.279854</td>\n      <td>-1.688605</td>\n      <td>-0.869800</td>\n      <td>-2.566943</td>\n      <td>-2.112719</td>\n      <td>-1.256141</td>\n      <td>-1.773289</td>\n      <td>-0.887843</td>\n    </tr>\n    <tr>\n      <th>Sq-1</th>\n      <td>0.037127</td>\n      <td>-0.066156</td>\n      <td>0.736341</td>\n      <td>-0.141830</td>\n      <td>0.052869</td>\n      <td>-7.388694e-03</td>\n      <td>-0.225991</td>\n      <td>0.176784</td>\n      <td>-0.071752</td>\n      <td>3.877299e-04</td>\n      <td>...</td>\n      <td>0.362317</td>\n      <td>-0.387726</td>\n      <td>-3.299554</td>\n      <td>-1.449285</td>\n      <td>-0.718895</td>\n      <td>-2.291405</td>\n      <td>-1.939083</td>\n      <td>-0.852220</td>\n      <td>-1.626230</td>\n      <td>-0.791459</td>\n    </tr>\n    <tr>\n      <th>SNU-1079</th>\n      <td>-0.011553</td>\n      <td>-0.371857</td>\n      <td>0.698409</td>\n      <td>-1.159154</td>\n      <td>0.080455</td>\n      <td>0.000000e+00</td>\n      <td>-0.241778</td>\n      <td>0.053675</td>\n      <td>0.000000</td>\n      <td>0.000000e+00</td>\n      <td>...</td>\n      <td>0.152516</td>\n      <td>-0.756235</td>\n      <td>-3.831368</td>\n      <td>-1.555541</td>\n      <td>-0.776521</td>\n      <td>-2.459637</td>\n      <td>-2.426288</td>\n      <td>-1.026083</td>\n      <td>-1.844770</td>\n      <td>-0.818650</td>\n    </tr>\n    <tr>\n      <th>Caov-3</th>\n      <td>-0.045497</td>\n      <td>-1.263024</td>\n      <td>-0.080264</td>\n      <td>-0.500702</td>\n      <td>-0.612233</td>\n      <td>-9.977666e-03</td>\n      <td>-0.560354</td>\n      <td>-0.323353</td>\n      <td>-0.068428</td>\n      <td>-9.780365e-02</td>\n      <td>...</td>\n      <td>0.211294</td>\n      <td>-0.713635</td>\n      <td>-2.827381</td>\n      <td>-1.481162</td>\n      <td>-0.705967</td>\n      <td>-2.095745</td>\n      <td>-1.754157</td>\n      <td>-0.999258</td>\n      <td>-1.389669</td>\n      <td>-0.795543</td>\n    </tr>\n    <tr>\n      <th>SK-MEL-2</th>\n      <td>-0.079253</td>\n      <td>-0.466851</td>\n      <td>0.545366</td>\n      <td>-1.286400</td>\n      <td>0.092121</td>\n      <td>-1.617795e-02</td>\n      <td>-0.089036</td>\n      <td>0.052866</td>\n      <td>0.019478</td>\n      <td>-4.051402e-02</td>\n      <td>...</td>\n      <td>0.343434</td>\n      <td>-0.179418</td>\n      <td>-3.417261</td>\n      <td>-1.199333</td>\n      <td>-0.360963</td>\n      <td>-2.087813</td>\n      <td>-2.315218</td>\n      <td>-1.091246</td>\n      <td>-1.898262</td>\n      <td>-0.445936</td>\n    </tr>\n    <tr>\n      <th>BT-549</th>\n      <td>0.001616</td>\n      <td>-0.410750</td>\n      <td>0.091563</td>\n      <td>-0.313967</td>\n      <td>-0.069123</td>\n      <td>0.000000e+00</td>\n      <td>-0.164867</td>\n      <td>0.011621</td>\n      <td>0.028962</td>\n      <td>0.000000e+00</td>\n      <td>...</td>\n      <td>-0.049413</td>\n      <td>-1.128883</td>\n      <td>-3.601763</td>\n      <td>-1.571669</td>\n      <td>-1.024416</td>\n      <td>-2.611977</td>\n      <td>-2.474295</td>\n      <td>-1.130210</td>\n      <td>-2.370792</td>\n      <td>-0.942619</td>\n    </tr>\n    <tr>\n      <th>RERF-LC-Ad1</th>\n      <td>-0.058990</td>\n      <td>-0.757919</td>\n      <td>0.639341</td>\n      <td>-0.224443</td>\n      <td>0.125379</td>\n      <td>0.000000e+00</td>\n      <td>-0.203646</td>\n      <td>0.003670</td>\n      <td>-0.016932</td>\n      <td>0.000000e+00</td>\n      <td>...</td>\n      <td>-0.229715</td>\n      <td>-1.072470</td>\n      <td>-3.161260</td>\n      <td>-1.879889</td>\n      <td>-1.127654</td>\n      <td>-2.789394</td>\n      <td>-2.660575</td>\n      <td>-1.799850</td>\n      <td>-2.412037</td>\n      <td>-1.349666</td>\n    </tr>\n    <tr>\n      <th>BT-474</th>\n      <td>-0.036232</td>\n      <td>-0.046429</td>\n      <td>0.294482</td>\n      <td>-0.320877</td>\n      <td>-0.383599</td>\n      <td>-9.871810e-03</td>\n      <td>-0.402851</td>\n      <td>0.155690</td>\n      <td>0.000000</td>\n      <td>-1.081161e-02</td>\n      <td>...</td>\n      <td>-0.047874</td>\n      <td>-1.208599</td>\n      <td>-4.258541</td>\n      <td>-2.216786</td>\n      <td>-1.154501</td>\n      <td>-2.993898</td>\n      <td>-2.927394</td>\n      <td>-1.426338</td>\n      <td>-2.200320</td>\n      <td>-1.122616</td>\n    </tr>\n    <tr>\n      <th>UACC-257</th>\n      <td>-0.031306</td>\n      <td>-0.842464</td>\n      <td>0.328335</td>\n      <td>0.024821</td>\n      <td>0.000000</td>\n      <td>0.000000e+00</td>\n      <td>0.000000</td>\n      <td>0.086631</td>\n      <td>0.000000</td>\n      <td>0.000000e+00</td>\n      <td>...</td>\n      <td>0.107977</td>\n      <td>0.191538</td>\n      <td>0.324725</td>\n      <td>0.309344</td>\n      <td>0.119474</td>\n      <td>-0.196889</td>\n      <td>0.645008</td>\n      <td>0.042684</td>\n      <td>0.239759</td>\n      <td>0.381428</td>\n    </tr>\n    <tr>\n      <th>HEC-1-B</th>\n      <td>0.000000</td>\n      <td>-1.150658</td>\n      <td>-0.674115</td>\n      <td>-0.322089</td>\n      <td>0.080126</td>\n      <td>0.000000e+00</td>\n      <td>0.390142</td>\n      <td>-0.090620</td>\n      <td>0.000000</td>\n      <td>0.000000e+00</td>\n      <td>...</td>\n      <td>-0.185574</td>\n      <td>-0.163908</td>\n      <td>0.089926</td>\n      <td>-0.026474</td>\n      <td>-0.241949</td>\n      <td>-0.402483</td>\n      <td>0.477369</td>\n      <td>-0.079934</td>\n      <td>-0.054893</td>\n      <td>-0.199478</td>\n    </tr>\n    <tr>\n      <th>LoVo</th>\n      <td>-0.018877</td>\n      <td>-0.499063</td>\n      <td>0.460567</td>\n      <td>-1.112943</td>\n      <td>0.102229</td>\n      <td>0.000000e+00</td>\n      <td>-0.134940</td>\n      <td>0.394477</td>\n      <td>0.000000</td>\n      <td>-9.988360e-02</td>\n      <td>...</td>\n      <td>0.196251</td>\n      <td>0.312624</td>\n      <td>0.199520</td>\n      <td>0.412007</td>\n      <td>0.401275</td>\n      <td>0.075373</td>\n      <td>0.493334</td>\n      <td>0.474300</td>\n      <td>0.754968</td>\n      <td>0.362000</td>\n    </tr>\n    <tr>\n      <th>KYSE-270</th>\n      <td>0.045673</td>\n      <td>-0.519612</td>\n      <td>-0.210483</td>\n      <td>-1.221367</td>\n      <td>0.164979</td>\n      <td>0.000000e+00</td>\n      <td>0.589477</td>\n      <td>0.345091</td>\n      <td>0.434612</td>\n      <td>9.464166e-02</td>\n      <td>...</td>\n      <td>-0.038934</td>\n      <td>-0.012270</td>\n      <td>0.283221</td>\n      <td>0.011801</td>\n      <td>0.057263</td>\n      <td>-0.178014</td>\n      <td>0.497508</td>\n      <td>-0.109615</td>\n      <td>0.289221</td>\n      <td>0.044452</td>\n    </tr>\n    <tr>\n      <th>OS-RC-2</th>\n      <td>0.000000</td>\n      <td>-0.687441</td>\n      <td>0.222577</td>\n      <td>-0.614984</td>\n      <td>0.126436</td>\n      <td>0.000000e+00</td>\n      <td>-0.307403</td>\n      <td>0.005639</td>\n      <td>0.000000</td>\n      <td>0.000000e+00</td>\n      <td>...</td>\n      <td>0.024600</td>\n      <td>0.167002</td>\n      <td>-0.089736</td>\n      <td>0.092009</td>\n      <td>0.099987</td>\n      <td>-0.181179</td>\n      <td>0.576089</td>\n      <td>-0.017084</td>\n      <td>0.146327</td>\n      <td>-0.010472</td>\n    </tr>\n    <tr>\n      <th>NCI-H2444</th>\n      <td>0.000000</td>\n      <td>-0.451915</td>\n      <td>0.644711</td>\n      <td>-0.247924</td>\n      <td>-0.706327</td>\n      <td>0.000000e+00</td>\n      <td>0.032631</td>\n      <td>0.842491</td>\n      <td>-0.090492</td>\n      <td>-1.268616e-01</td>\n      <td>...</td>\n      <td>0.273475</td>\n      <td>0.089559</td>\n      <td>0.931860</td>\n      <td>0.064507</td>\n      <td>0.088094</td>\n      <td>0.016787</td>\n      <td>1.101802</td>\n      <td>0.463804</td>\n      <td>0.879706</td>\n      <td>0.071721</td>\n    </tr>\n    <tr>\n      <th>HCC1419</th>\n      <td>0.066750</td>\n      <td>-0.267997</td>\n      <td>-0.242843</td>\n      <td>-0.750846</td>\n      <td>-0.101280</td>\n      <td>0.000000e+00</td>\n      <td>-0.386523</td>\n      <td>0.393250</td>\n      <td>0.100967</td>\n      <td>0.000000e+00</td>\n      <td>...</td>\n      <td>-0.119554</td>\n      <td>-0.153938</td>\n      <td>0.530408</td>\n      <td>-0.039338</td>\n      <td>0.093375</td>\n      <td>-0.336549</td>\n      <td>0.298935</td>\n      <td>-0.072785</td>\n      <td>0.778463</td>\n      <td>0.005887</td>\n    </tr>\n    <tr>\n      <th>MSTO-211H</th>\n      <td>-0.080858</td>\n      <td>-1.591076</td>\n      <td>0.253677</td>\n      <td>-0.626023</td>\n      <td>0.052030</td>\n      <td>0.000000e+00</td>\n      <td>0.009748</td>\n      <td>0.299582</td>\n      <td>0.000000</td>\n      <td>4.865096e-02</td>\n      <td>...</td>\n      <td>0.140942</td>\n      <td>0.040511</td>\n      <td>0.632449</td>\n      <td>0.149489</td>\n      <td>0.109059</td>\n      <td>-0.027017</td>\n      <td>0.540120</td>\n      <td>0.036587</td>\n      <td>0.595065</td>\n      <td>0.165309</td>\n    </tr>\n    <tr>\n      <th>Hs 766T</th>\n      <td>0.000000</td>\n      <td>0.000000</td>\n      <td>-1.173295</td>\n      <td>-1.425655</td>\n      <td>0.192524</td>\n      <td>0.000000e+00</td>\n      <td>-1.395462</td>\n      <td>0.177096</td>\n      <td>0.000000</td>\n      <td>0.000000e+00</td>\n      <td>...</td>\n      <td>0.411726</td>\n      <td>0.159076</td>\n      <td>0.683516</td>\n      <td>-0.074094</td>\n      <td>0.174325</td>\n      <td>-0.434232</td>\n      <td>0.535259</td>\n      <td>0.358467</td>\n      <td>-0.129682</td>\n      <td>0.204910</td>\n    </tr>\n    <tr>\n      <th>CAL-62</th>\n      <td>0.062385</td>\n      <td>-0.034727</td>\n      <td>-0.375935</td>\n      <td>-1.710736</td>\n      <td>0.000000</td>\n      <td>0.000000e+00</td>\n      <td>-0.025027</td>\n      <td>0.096850</td>\n      <td>0.015279</td>\n      <td>0.000000e+00</td>\n      <td>...</td>\n      <td>0.441049</td>\n      <td>0.033932</td>\n      <td>0.605376</td>\n      <td>0.347308</td>\n      <td>0.326976</td>\n      <td>0.051993</td>\n      <td>0.848387</td>\n      <td>0.462676</td>\n      <td>0.653827</td>\n      <td>0.425814</td>\n    </tr>\n    <tr>\n      <th>8505C</th>\n      <td>-0.051951</td>\n      <td>-1.206446</td>\n      <td>-0.873604</td>\n      <td>-1.522515</td>\n      <td>0.000000</td>\n      <td>0.000000e+00</td>\n      <td>-0.058766</td>\n      <td>-0.159366</td>\n      <td>-0.082801</td>\n      <td>0.000000e+00</td>\n      <td>...</td>\n      <td>0.190521</td>\n      <td>0.203966</td>\n      <td>-0.401792</td>\n      <td>0.409250</td>\n      <td>0.256952</td>\n      <td>-0.159421</td>\n      <td>0.443197</td>\n      <td>0.099099</td>\n      <td>0.406336</td>\n      <td>0.391006</td>\n    </tr>\n    <tr>\n      <th>G-401</th>\n      <td>0.000000</td>\n      <td>-0.314373</td>\n      <td>-0.106688</td>\n      <td>-0.654798</td>\n      <td>-0.021711</td>\n      <td>0.000000e+00</td>\n      <td>0.000000</td>\n      <td>0.318915</td>\n      <td>0.000000</td>\n      <td>0.000000e+00</td>\n      <td>...</td>\n      <td>0.494721</td>\n      <td>0.258675</td>\n      <td>0.279215</td>\n      <td>0.241106</td>\n      <td>0.304979</td>\n      <td>-0.023756</td>\n      <td>0.848052</td>\n      <td>0.575056</td>\n      <td>0.251990</td>\n      <td>0.275183</td>\n    </tr>\n    <tr>\n      <th>MIA PaCa-2</th>\n      <td>0.000000</td>\n      <td>-1.161662</td>\n      <td>-0.389404</td>\n      <td>-1.833384</td>\n      <td>-0.072552</td>\n      <td>0.000000e+00</td>\n      <td>0.000000</td>\n      <td>0.016250</td>\n      <td>0.000000</td>\n      <td>0.000000e+00</td>\n      <td>...</td>\n      <td>0.248121</td>\n      <td>-0.028804</td>\n      <td>0.403121</td>\n      <td>0.065800</td>\n      <td>-0.046865</td>\n      <td>-0.006232</td>\n      <td>0.619031</td>\n      <td>0.223865</td>\n      <td>0.751400</td>\n      <td>0.030769</td>\n    </tr>\n    <tr>\n      <th>NCI-H522</th>\n      <td>0.000000</td>\n      <td>-0.104069</td>\n      <td>0.117806</td>\n      <td>-1.071376</td>\n      <td>0.120069</td>\n      <td>0.000000e+00</td>\n      <td>-0.242941</td>\n      <td>0.229610</td>\n      <td>0.000000</td>\n      <td>0.000000e+00</td>\n      <td>...</td>\n      <td>0.270669</td>\n      <td>0.221655</td>\n      <td>0.244989</td>\n      <td>0.272242</td>\n      <td>0.133235</td>\n      <td>-0.019803</td>\n      <td>0.397574</td>\n      <td>0.270708</td>\n      <td>-0.034671</td>\n      <td>0.256403</td>\n    </tr>\n    <tr>\n      <th>LN-229</th>\n      <td>0.000000</td>\n      <td>-1.429818</td>\n      <td>-0.456909</td>\n      <td>-1.361063</td>\n      <td>0.000000</td>\n      <td>0.000000e+00</td>\n      <td>0.000000</td>\n      <td>0.380890</td>\n      <td>0.000000</td>\n      <td>0.000000e+00</td>\n      <td>...</td>\n      <td>0.225920</td>\n      <td>0.097503</td>\n      <td>0.435416</td>\n      <td>0.297940</td>\n      <td>0.272947</td>\n      <td>0.049420</td>\n      <td>0.742581</td>\n      <td>0.244538</td>\n      <td>0.729611</td>\n      <td>0.246453</td>\n    </tr>\n    <tr>\n      <th>LMSU</th>\n      <td>-0.058717</td>\n      <td>-0.091138</td>\n      <td>-0.705515</td>\n      <td>-1.244858</td>\n      <td>0.000000</td>\n      <td>0.000000e+00</td>\n      <td>0.026612</td>\n      <td>0.481356</td>\n      <td>0.022885</td>\n      <td>0.000000e+00</td>\n      <td>...</td>\n      <td>0.202937</td>\n      <td>0.249838</td>\n      <td>0.827002</td>\n      <td>0.036121</td>\n      <td>0.329956</td>\n      <td>-0.102076</td>\n      <td>0.520266</td>\n      <td>0.303257</td>\n      <td>0.220836</td>\n      <td>0.262838</td>\n    </tr>\n    <tr>\n      <th>NCI-H1299</th>\n      <td>-0.008533</td>\n      <td>-1.417424</td>\n      <td>-0.659414</td>\n      <td>-1.500768</td>\n      <td>-0.009167</td>\n      <td>0.000000e+00</td>\n      <td>0.086450</td>\n      <td>-0.053108</td>\n      <td>0.190781</td>\n      <td>0.000000e+00</td>\n      <td>...</td>\n      <td>0.154759</td>\n      <td>0.131671</td>\n      <td>0.430749</td>\n      <td>0.320488</td>\n      <td>0.234779</td>\n      <td>0.015133</td>\n      <td>0.507480</td>\n      <td>0.016309</td>\n      <td>0.381170</td>\n      <td>0.252829</td>\n    </tr>\n  </tbody>\n</table>\n<p>41 rows × 4000 columns</p>\n</div>"
     },
     "execution_count": 62,
     "metadata": {},
     "output_type": "execute_result"
    }
   ],
   "source": [
    "logfc_df"
   ],
   "metadata": {
    "collapsed": false,
    "ExecuteTime": {
     "end_time": "2024-06-04T12:46:54.526515Z",
     "start_time": "2024-06-04T12:46:54.522621Z"
    }
   },
   "id": "126cc5bd58cf664f"
  },
  {
   "cell_type": "code",
   "execution_count": 67,
   "outputs": [],
   "source": [
    "lr_params = pd.DataFrame(columns=[\"gene\", \"slope\", \"intercept\"])\n",
    "\n",
    "lr = LinearRegression()\n",
    "cell_lines = logfc_df.index\n",
    "X = adata.obs[[\"GDSC2\", \"CellLineName\"]].drop_duplicates().set_index(\"CellLineName\").loc[cell_lines][\"GDSC2\"].values\n",
    "na_mask = np.isnan(X)\n",
    "X = X[~na_mask]\n",
    "\n",
    "for gene in adata.var_names:\n",
    "    y = logfc_df[gene].values\n",
    "    y = y[~na_mask]\n",
    "    lr.fit(X.reshape(-1, 1), y)\n",
    "    \n",
    "    assert len(lr.coef_) == 1\n",
    "    lr_params.loc[gene] = [gene, lr.coef_[0], lr.intercept_]"
   ],
   "metadata": {
    "collapsed": false,
    "ExecuteTime": {
     "end_time": "2024-06-04T12:50:43.996093Z",
     "start_time": "2024-06-04T12:50:41.886314Z"
    }
   },
   "id": "e2cfcb2980180db0"
  },
  {
   "cell_type": "code",
   "execution_count": 68,
   "outputs": [
    {
     "data": {
      "text/plain": "                        gene     slope  intercept\nRP11-206L10.2  RP11-206L10.2  0.000055  -0.038561\nSAMD11                SAMD11 -0.001939   0.042681\nHES4                    HES4  0.001129  -0.161269\nISG15                  ISG15  0.000550  -0.943200\nRNF223                RNF223  0.001640  -0.470125\n...                      ...       ...        ...\nMT-ND3                MT-ND3  0.002859  -1.978215\nMT-ND4L              MT-ND4L  0.002323  -1.415792\nMT-ND5                MT-ND5  0.000100  -0.481951\nMT-ND6                MT-ND6  0.003251  -1.553424\nMT-CYB                MT-CYB  0.001042  -0.574800\n\n[4000 rows x 3 columns]",
      "text/html": "<div>\n<style scoped>\n    .dataframe tbody tr th:only-of-type {\n        vertical-align: middle;\n    }\n\n    .dataframe tbody tr th {\n        vertical-align: top;\n    }\n\n    .dataframe thead th {\n        text-align: right;\n    }\n</style>\n<table border=\"1\" class=\"dataframe\">\n  <thead>\n    <tr style=\"text-align: right;\">\n      <th></th>\n      <th>gene</th>\n      <th>slope</th>\n      <th>intercept</th>\n    </tr>\n  </thead>\n  <tbody>\n    <tr>\n      <th>RP11-206L10.2</th>\n      <td>RP11-206L10.2</td>\n      <td>0.000055</td>\n      <td>-0.038561</td>\n    </tr>\n    <tr>\n      <th>SAMD11</th>\n      <td>SAMD11</td>\n      <td>-0.001939</td>\n      <td>0.042681</td>\n    </tr>\n    <tr>\n      <th>HES4</th>\n      <td>HES4</td>\n      <td>0.001129</td>\n      <td>-0.161269</td>\n    </tr>\n    <tr>\n      <th>ISG15</th>\n      <td>ISG15</td>\n      <td>0.000550</td>\n      <td>-0.943200</td>\n    </tr>\n    <tr>\n      <th>RNF223</th>\n      <td>RNF223</td>\n      <td>0.001640</td>\n      <td>-0.470125</td>\n    </tr>\n    <tr>\n      <th>...</th>\n      <td>...</td>\n      <td>...</td>\n      <td>...</td>\n    </tr>\n    <tr>\n      <th>MT-ND3</th>\n      <td>MT-ND3</td>\n      <td>0.002859</td>\n      <td>-1.978215</td>\n    </tr>\n    <tr>\n      <th>MT-ND4L</th>\n      <td>MT-ND4L</td>\n      <td>0.002323</td>\n      <td>-1.415792</td>\n    </tr>\n    <tr>\n      <th>MT-ND5</th>\n      <td>MT-ND5</td>\n      <td>0.000100</td>\n      <td>-0.481951</td>\n    </tr>\n    <tr>\n      <th>MT-ND6</th>\n      <td>MT-ND6</td>\n      <td>0.003251</td>\n      <td>-1.553424</td>\n    </tr>\n    <tr>\n      <th>MT-CYB</th>\n      <td>MT-CYB</td>\n      <td>0.001042</td>\n      <td>-0.574800</td>\n    </tr>\n  </tbody>\n</table>\n<p>4000 rows × 3 columns</p>\n</div>"
     },
     "execution_count": 68,
     "metadata": {},
     "output_type": "execute_result"
    }
   ],
   "source": [
    "lr_params"
   ],
   "metadata": {
    "collapsed": false,
    "ExecuteTime": {
     "end_time": "2024-06-04T12:50:50.942184Z",
     "start_time": "2024-06-04T12:50:50.933622Z"
    }
   },
   "id": "101877f859e14dc8"
  },
  {
   "cell_type": "code",
   "execution_count": 72,
   "outputs": [
    {
     "data": {
      "text/plain": "gene             EGR1\nslope        0.002707\nintercept     0.07311\nName: EGR1, dtype: object"
     },
     "execution_count": 72,
     "metadata": {},
     "output_type": "execute_result"
    }
   ],
   "source": [
    "lr_params.loc[\"EGR1\"]"
   ],
   "metadata": {
    "collapsed": false,
    "ExecuteTime": {
     "end_time": "2024-06-04T12:53:33.864776Z",
     "start_time": "2024-06-04T12:53:33.818740Z"
    }
   },
   "id": "c0c1fecd7c4c8316"
  },
  {
   "cell_type": "code",
   "execution_count": 71,
   "outputs": [
    {
     "data": {
      "text/plain": "True"
     },
     "execution_count": 71,
     "metadata": {},
     "output_type": "execute_result"
    }
   ],
   "source": [
    "\"EGR1\" in adata.var_names"
   ],
   "metadata": {
    "collapsed": false,
    "ExecuteTime": {
     "end_time": "2024-06-04T12:53:14.952503Z",
     "start_time": "2024-06-04T12:53:14.943774Z"
    }
   },
   "id": "8df18d0cd7e7a37c"
  },
  {
   "cell_type": "code",
   "execution_count": 74,
   "outputs": [
    {
     "data": {
      "text/plain": "                           GDSC2\nCellLineName perturbation       \n22Rv1        Trametinib       84\n             control         158\n253J-BV      Trametinib        0\n             control           0\n42-MG-BA     Trametinib      192\n...                          ...\nUM-UC-1      control           0\nWM-266-4     Trametinib        0\n             control           0\nWM1799       Trametinib        0\n             control           0\n\n[342 rows x 1 columns]",
      "text/html": "<div>\n<style scoped>\n    .dataframe tbody tr th:only-of-type {\n        vertical-align: middle;\n    }\n\n    .dataframe tbody tr th {\n        vertical-align: top;\n    }\n\n    .dataframe thead th {\n        text-align: right;\n    }\n</style>\n<table border=\"1\" class=\"dataframe\">\n  <thead>\n    <tr style=\"text-align: right;\">\n      <th></th>\n      <th></th>\n      <th>GDSC2</th>\n    </tr>\n    <tr>\n      <th>CellLineName</th>\n      <th>perturbation</th>\n      <th></th>\n    </tr>\n  </thead>\n  <tbody>\n    <tr>\n      <th rowspan=\"2\" valign=\"top\">22Rv1</th>\n      <th>Trametinib</th>\n      <td>84</td>\n    </tr>\n    <tr>\n      <th>control</th>\n      <td>158</td>\n    </tr>\n    <tr>\n      <th rowspan=\"2\" valign=\"top\">253J-BV</th>\n      <th>Trametinib</th>\n      <td>0</td>\n    </tr>\n    <tr>\n      <th>control</th>\n      <td>0</td>\n    </tr>\n    <tr>\n      <th>42-MG-BA</th>\n      <th>Trametinib</th>\n      <td>192</td>\n    </tr>\n    <tr>\n      <th>...</th>\n      <th>...</th>\n      <td>...</td>\n    </tr>\n    <tr>\n      <th>UM-UC-1</th>\n      <th>control</th>\n      <td>0</td>\n    </tr>\n    <tr>\n      <th rowspan=\"2\" valign=\"top\">WM-266-4</th>\n      <th>Trametinib</th>\n      <td>0</td>\n    </tr>\n    <tr>\n      <th>control</th>\n      <td>0</td>\n    </tr>\n    <tr>\n      <th rowspan=\"2\" valign=\"top\">WM1799</th>\n      <th>Trametinib</th>\n      <td>0</td>\n    </tr>\n    <tr>\n      <th>control</th>\n      <td>0</td>\n    </tr>\n  </tbody>\n</table>\n<p>342 rows × 1 columns</p>\n</div>"
     },
     "execution_count": 74,
     "metadata": {},
     "output_type": "execute_result"
    }
   ],
   "source": [],
   "metadata": {
    "collapsed": false,
    "ExecuteTime": {
     "end_time": "2024-06-04T13:21:45.707391Z",
     "start_time": "2024-06-04T13:21:45.691292Z"
    }
   },
   "id": "795a02048f9db947"
  },
  {
   "cell_type": "code",
   "execution_count": null,
   "outputs": [],
   "source": [],
   "metadata": {
    "collapsed": false
   },
   "id": "6ce1a056236d165d"
  }
 ],
 "metadata": {
  "kernelspec": {
   "display_name": "Python 3",
   "language": "python",
   "name": "python3"
  },
  "language_info": {
   "codemirror_mode": {
    "name": "ipython",
    "version": 2
   },
   "file_extension": ".py",
   "mimetype": "text/x-python",
   "name": "python",
   "nbconvert_exporter": "python",
   "pygments_lexer": "ipython2",
   "version": "2.7.6"
  }
 },
 "nbformat": 4,
 "nbformat_minor": 5
}
