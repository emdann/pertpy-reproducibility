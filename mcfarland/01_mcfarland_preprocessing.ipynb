{
 "cells": [
  {
   "cell_type": "code",
   "execution_count": 1,
   "id": "initial_id",
   "metadata": {
    "collapsed": true,
    "ExecuteTime": {
     "end_time": "2024-06-01T08:41:14.540310Z",
     "start_time": "2024-06-01T08:41:12.463397Z"
    }
   },
   "outputs": [],
   "source": [
    "import warnings\n",
    "warnings.filterwarnings(\"ignore\")\n",
    "\n",
    "from pathlib import Path\n",
    "import sys\n",
    "\n",
    "sys.path.insert(1, str(Path().cwd().parent))\n",
    "import common_config"
   ]
  },
  {
   "cell_type": "code",
   "execution_count": 2,
   "outputs": [],
   "source": [
    "common_config.figure_journal_basic()"
   ],
   "metadata": {
    "collapsed": false,
    "ExecuteTime": {
     "end_time": "2024-06-01T08:41:14.547952Z",
     "start_time": "2024-06-01T08:41:14.540708Z"
    }
   },
   "id": "96409af4b725c2d6"
  },
  {
   "cell_type": "code",
   "execution_count": 3,
   "outputs": [
    {
     "name": "stderr",
     "output_type": "stream",
     "text": [
      "OMP: Info #276: omp_set_nested routine deprecated, please use omp_set_max_active_levels instead.\n"
     ]
    }
   ],
   "source": [
    "import pertpy as pt\n",
    "import scanpy as sc\n",
    "import numpy as np\n",
    "import matplotlib.pyplot as plt"
   ],
   "metadata": {
    "collapsed": false,
    "ExecuteTime": {
     "end_time": "2024-06-01T08:41:17.178896Z",
     "start_time": "2024-06-01T08:41:14.548586Z"
    }
   },
   "id": "2fb6ea48270c78ee"
  },
  {
   "cell_type": "code",
   "execution_count": 4,
   "outputs": [
    {
     "data": {
      "text/plain": "AnnData object with n_obs × n_vars = 182875 × 32738\n    obs: 'DepMap_ID', 'cancer', 'cell_det_rate', 'cell_line', 'cell_quality', 'channel', 'disease', 'dose_unit', 'dose_value', 'doublet_CL1', 'doublet_CL2', 'doublet_GMM_prob', 'doublet_dev_imp', 'doublet_z_margin', 'hash_assignment', 'hash_tag', 'num_SNPs', 'organism', 'percent.mito', 'perturbation', 'perturbation_type', 'sex', 'singlet_ID', 'singlet_dev', 'singlet_dev_z', 'singlet_margin', 'singlet_z_margin', 'time', 'tissue_type', 'tot_reads', 'nperts', 'ngenes', 'ncounts', 'percent_mito', 'percent_ribo', 'chembl-ID'\n    var: 'ensembl_id', 'ncounts', 'ncells'"
     },
     "execution_count": 4,
     "metadata": {},
     "output_type": "execute_result"
    }
   ],
   "source": [
    "adata = pt.dt.mcfarland_2020()\n",
    "adata"
   ],
   "metadata": {
    "collapsed": false,
    "ExecuteTime": {
     "end_time": "2024-06-01T08:42:00.923401Z",
     "start_time": "2024-06-01T08:41:17.180028Z"
    }
   },
   "id": "169ba462e4766099"
  },
  {
   "cell_type": "code",
   "execution_count": 5,
   "outputs": [],
   "source": [
    "sc.pp.filter_genes(adata, min_cells=30)\n",
    "sc.pp.normalize_total(adata)\n",
    "sc.pp.log1p(adata)\n",
    "sc.pp.highly_variable_genes(adata, subset=True, n_top_genes=4000)"
   ],
   "metadata": {
    "collapsed": false,
    "ExecuteTime": {
     "end_time": "2024-06-01T08:42:27.763311Z",
     "start_time": "2024-06-01T08:42:00.926011Z"
    }
   },
   "id": "ff8757efe461cb01"
  },
  {
   "cell_type": "code",
   "execution_count": 6,
   "outputs": [
    {
     "name": "stdout",
     "output_type": "stream",
     "text": [
      "WARNING: You’re trying to run this on 4000 dimensions of `.X`, if you really want this, set `use_rep='X'`.\n",
      "         Falling back to preprocessing with `sc.pp.pca` and default params.\n"
     ]
    }
   ],
   "source": [
    "sc.pp.neighbors(adata)\n",
    "sc.pp.pca(adata)\n",
    "sc.tl.umap(adata)"
   ],
   "metadata": {
    "collapsed": false,
    "ExecuteTime": {
     "end_time": "2024-06-01T08:45:16.401038Z",
     "start_time": "2024-06-01T08:42:27.762838Z"
    }
   },
   "id": "210f823e887d9e4c"
  },
  {
   "cell_type": "code",
   "execution_count": 7,
   "outputs": [],
   "source": [
    "sc.pl.umap(adata, color=\"cell_line\", show=False)\n",
    "plt.savefig(\"figures/mcfarland_umap_cell_line.png\")"
   ],
   "metadata": {
    "collapsed": false,
    "ExecuteTime": {
     "end_time": "2024-06-01T08:45:23.155352Z",
     "start_time": "2024-06-01T08:45:16.402581Z"
    }
   },
   "id": "22690121140bd83b"
  },
  {
   "cell_type": "code",
   "execution_count": 1,
   "outputs": [
    {
     "ename": "NameError",
     "evalue": "name 'sc' is not defined",
     "output_type": "error",
     "traceback": [
      "\u001B[0;31m---------------------------------------------------------------------------\u001B[0m",
      "\u001B[0;31mNameError\u001B[0m                                 Traceback (most recent call last)",
      "Cell \u001B[0;32mIn[1], line 1\u001B[0m\n\u001B[0;32m----> 1\u001B[0m \u001B[43msc\u001B[49m\u001B[38;5;241m.\u001B[39mpl\u001B[38;5;241m.\u001B[39mumap(adata, color\u001B[38;5;241m=\u001B[39m\u001B[38;5;124m\"\u001B[39m\u001B[38;5;124mperturbation\u001B[39m\u001B[38;5;124m\"\u001B[39m, show\u001B[38;5;241m=\u001B[39m\u001B[38;5;28;01mFalse\u001B[39;00m)\n\u001B[1;32m      2\u001B[0m plt\u001B[38;5;241m.\u001B[39msavefig(\u001B[38;5;124m\"\u001B[39m\u001B[38;5;124mfigures/mcfarland_umap_perturbation.png\u001B[39m\u001B[38;5;124m\"\u001B[39m)\n",
      "\u001B[0;31mNameError\u001B[0m: name 'sc' is not defined"
     ]
    }
   ],
   "source": [
    "sc.pl.umap(adata, color=\"perturbation\", show=False)\n",
    "plt.savefig(\"figures/mcfarland_umap_perturbation.png\")"
   ],
   "metadata": {
    "collapsed": false,
    "ExecuteTime": {
     "end_time": "2024-06-01T09:16:07.001451Z",
     "start_time": "2024-06-01T09:16:06.853029Z"
    }
   },
   "id": "5aef798360aa0b43"
  },
  {
   "cell_type": "code",
   "execution_count": null,
   "outputs": [],
   "source": [
    "sc.pl.umap(adata, color=\"perturbation_type\", show=False)\n",
    "plt.savefig(\"figures/mcfarland_umap_perturbation_type.png\")"
   ],
   "metadata": {
    "collapsed": false
   },
   "id": "6ae9953987705007"
  },
  {
   "cell_type": "code",
   "execution_count": null,
   "outputs": [],
   "source": [
    "adata.obs[\"cell_line\"].nunique()"
   ],
   "metadata": {
    "collapsed": false
   },
   "id": "7ce8da49f744948c"
  },
  {
   "cell_type": "code",
   "execution_count": null,
   "outputs": [],
   "source": [
    "adata.write(\"data/mcfarland_preprocessed.h5ad\")"
   ],
   "metadata": {
    "collapsed": false
   },
   "id": "cdb51f4775ae0fc1"
  },
  {
   "cell_type": "code",
   "execution_count": null,
   "outputs": [],
   "source": [],
   "metadata": {
    "collapsed": false
   },
   "id": "ca7ff86de5bd3b38"
  }
 ],
 "metadata": {
  "kernelspec": {
   "display_name": "Python 3",
   "language": "python",
   "name": "python3"
  },
  "language_info": {
   "codemirror_mode": {
    "name": "ipython",
    "version": 2
   },
   "file_extension": ".py",
   "mimetype": "text/x-python",
   "name": "python",
   "nbconvert_exporter": "python",
   "pygments_lexer": "ipython2",
   "version": "2.7.6"
  }
 },
 "nbformat": 4,
 "nbformat_minor": 5
}
